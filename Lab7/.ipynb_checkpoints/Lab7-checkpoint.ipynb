{
 "cells": [
  {
   "cell_type": "code",
   "execution_count": 2,
   "id": "51645b6d",
   "metadata": {},
   "outputs": [],
   "source": [
    "import os\n",
    "import io\n",
    "import numpy as np\n",
    "import tensorflow as tf\n",
    "import tensorflow_datasets as tfds\n",
    "import matplotlib.pyplot as plt\n",
    "from tensorflow import keras\n",
    "from tensorflow.keras import layers\n",
    "from preprocessing import parse_aug_fn, parse_fn"
   ]
  },
  {
   "cell_type": "code",
   "execution_count": 3,
   "id": "afa241bd",
   "metadata": {},
   "outputs": [
    {
     "name": "stdout",
     "output_type": "stream",
     "text": [
      "[[2 0 0]\n",
      " [0 2 1]\n",
      " [1 0 2]]\n"
     ]
    }
   ],
   "source": [
    "y_true = [2, 1, 0, 2, 2, 0, 1, 1]\n",
    "y_pred = [0, 1, 0, 2, 2, 0, 2, 1]\n",
    "cm = tf.math.confusion_matrix(y_true, y_pred, num_classes=3).numpy()\n",
    "print(cm)"
   ]
  },
  {
   "cell_type": "code",
   "execution_count": 4,
   "id": "26414b5e",
   "metadata": {},
   "outputs": [
    {
     "data": {
      "image/png": "[encoded data removed]",
      "text/plain": [
       "<Figure size 576x576 with 2 Axes>"
      ]
     },
     "metadata": {
      "needs_background": "light"
     },
     "output_type": "display_data"
    }
   ],
   "source": [
    "def plot_confusion_matrix(cm, class_names):\n",
    "    \"\"\"\n",
    "    產生一張圖表示的Confusion matrix\n",
    "    \n",
    "    Args:\n",
    "    cm (shape = [n, n]): 傳入Confusion matrix\n",
    "    class_names (shape = [n]): 傳入類別\n",
    "    \"\"\"\n",
    "    # 標準化confusion matrix.\n",
    "    cm = np.around(cm.astype('float') / cm.sum(axis=1)[:, np.newaxis], decimals=2)\n",
    "    \n",
    "    figure = plt.figure(figsize=(8, 8))\n",
    "    plt.imshow(cm, interpolation='nearest', cmap=plt.cm.Blues)\n",
    "    plt.title(\"Confusion matrix\")\n",
    "    tick_index = np.arange(len(class_names))\n",
    "    # matplotlib 3.1.1 bug，如果不設定ylim在[-0.5~2.5]，圖片y軸範圍會被縮小成[0~2]\n",
    "    plt.ylim([-0.5, 2.5])\n",
    "    # Y軸顯示類別名稱\n",
    "    plt.yticks(tick_index, class_names)\n",
    "    # X軸顯示類別名稱，並將類別名稱旋轉45度(避免文字重疊)\n",
    "    plt.xticks(tick_index, class_names, rotation=45)\n",
    "    # 再圖片右邊產生一條顏色刻度條\n",
    "    plt.colorbar()\n",
    "\n",
    "    # 在每一格Confusion matrix輸入預測百分比\n",
    "    threshold = cm.max() / 2.\n",
    "    for i in range(cm.shape[0]):\n",
    "        for j in range(cm.shape[1]):\n",
    "            # 如果格內背景顏色太深使用白色文字顯示，反之使用黑色文字\n",
    "            color = \"white\" if cm[i, j] > threshold else \"black\"\n",
    "            plt.text(j, i, cm[i, j], horizontalalignment=\"center\", color=color)\n",
    "            \n",
    "    plt.ylabel('True label')\n",
    "    plt.xlabel('Predicted label')\n",
    "    # 將圖片的位置進行調整，避免x或y軸的文字被遮擋\n",
    "    plt.tight_layout()\n",
    "    return figure\n",
    "\n",
    "# Example\n",
    "img = plot_confusion_matrix(cm, [0, 1, 2])"
   ]
  },
  {
   "cell_type": "code",
   "execution_count": 5,
   "id": "ba66b0a1",
   "metadata": {},
   "outputs": [],
   "source": [
    "def plot_to_image(figure):\n",
    "    \"\"\"將Matplotlib plot的圖片轉TensorFlow的張量格式\"\"\"\n",
    "    # 將Matplotlib plot的圖片以PNG的格式儲存到記憶體中\n",
    "    buf = io.BytesIO()\n",
    "    plt.savefig(buf, format='png')\n",
    "    # 關閉plt圖片，防止圖片直接顯示在Jupyter notebook介面中\n",
    "    plt.close(figure)\n",
    "    buf.seek(0)\n",
    "    # 將記憶體中的資料轉成TensorFlow格式\n",
    "    image = tf.image.decode_png(buf.getvalue(), channels=4)\n",
    "    image = tf.expand_dims(image, 0)\n",
    "    return image"
   ]
  },
  {
   "cell_type": "code",
   "execution_count": 6,
   "id": "5eebf7f2",
   "metadata": {},
   "outputs": [],
   "source": [
    "# Example\n",
    "y_true = [2, 0, 2, 2, 0, 1]\n",
    "y_pred = [0, 0, 2, 2, 0, 2]\n",
    "cm = tf.math.confusion_matrix(y_true, y_pred, num_classes=3).numpy()\n",
    "img = plot_confusion_matrix(cm, [0, 1, 2])\n",
    "img_show = plot_to_image(img)"
   ]
  },
  {
   "cell_type": "code",
   "execution_count": 7,
   "id": "b38bd28c",
   "metadata": {},
   "outputs": [],
   "source": [
    "class ConfusionMatrix(tf.keras.callbacks.Callback):\n",
    "    def __init__(self, log_dir, test_data, class_name):\n",
    "        super(ConfusionMatrix, self).__init__()\n",
    "        self.log_dir = log_dir\n",
    "        self.test_data = test_data\n",
    "        self.class_names = class_name\n",
    "        self.num_classes = len(class_name)\n",
    "\n",
    "    def on_train_begin(self, logs=None):\n",
    "        path = os.path.join(self.log_dir, 'confusion_matrix')\n",
    "        # 創建TensorBoard紀錄檔\n",
    "        self.writer = tf.summary.create_file_writer(path)\n",
    "\n",
    "    def on_epoch_end(self, epoch, logs=None):\n",
    "        # 計算Confusion matrix\n",
    "        total_cm = np.zeros([10, 10])\n",
    "        for x, y_true in self.test_data:\n",
    "            y_pred = self.model.predict(x)\n",
    "            y_pred = np.argmax(y_pred, axis=1)\n",
    "            y_true = np.argmax(y_true, axis=1)\n",
    "            cm = tf.math.confusion_matrix(y_true, y_pred, num_classes=self.num_classes).numpy()\n",
    "            total_cm += cm\n",
    "        \n",
    "        # 將Confusion matrix轉成Matplotlib圖片\n",
    "        figure = plot_confusion_matrix(total_cm, class_names=self.class_names)\n",
    "        # 將Matplotlib圖片轉成TensorFlow型式的圖片\n",
    "        cm_image = plot_to_image(figure)\n",
    "\n",
    "        # 將圖片紀錄在TensorBoard log中\n",
    "        with self.writer.as_default():\n",
    "            tf.summary.image(\"Confusion Matrix\", cm_image, step=epoch)"
   ]
  },
  {
   "cell_type": "code",
   "execution_count": 8,
   "id": "95e148d9",
   "metadata": {},
   "outputs": [],
   "source": [
    "# 將train Data重新分成9:1等分，分別分給train data, valid data\n",
    "train_split, valid_split = ['train[:90%]', 'train[90%:]']\n",
    "# 取得訓練數據，並順便讀取data的資訊\n",
    "train_data, info = tfds.load(\"cifar10\", split=train_split, with_info=True)\n",
    "# 取得驗證數據\n",
    "valid_data = tfds.load(\"cifar10\", split=valid_split)\n",
    "# 取得測試數據\n",
    "test_data = tfds.load(\"cifar10\", split=tfds.Split.TEST)\n",
    "# 取得CIFAR-10數據集的類別\n",
    "class_name = info.features['label'].names"
   ]
  },
  {
   "cell_type": "code",
   "execution_count": 9,
   "id": "e6c39f07",
   "metadata": {},
   "outputs": [],
   "source": [
    "AUTOTUNE = tf.data.experimental.AUTOTUNE  # 自動調整模式\n",
    "batch_size = 64  # 批次大小\n",
    "train_num = int(info.splits['train'].num_examples / 10) * 9  # 訓練資料數量\n",
    "\n",
    "train_data = train_data.shuffle(train_num)  # 打散資料集\n",
    "# 載入預處理「 parse_aug_fn」function，cpu數量為自動調整模式\n",
    "train_data = train_data.map(map_func=parse_aug_fn, num_parallel_calls=AUTOTUNE)\n",
    "# 設定批次大小並將prefetch模式開啟(暫存空間為自動調整模式)\n",
    "train_data = train_data.batch(batch_size).prefetch(buffer_size=AUTOTUNE)\n",
    "\n",
    "# 載入預處理「 parse_fn」function，cpu數量為自動調整模式\n",
    "valid_data = valid_data.map(map_func=parse_fn, num_parallel_calls=AUTOTUNE)\n",
    "# 設定批次大小並將prefetch模式開啟(暫存空間為自動調整模式)\n",
    "valid_data = valid_data.batch(batch_size).prefetch(buffer_size=AUTOTUNE)\n",
    "\n",
    "# 載入預處理「 parse_fn」function，cpu數量為自動調整模式\n",
    "test_data = test_data.map(map_func=parse_fn, num_parallel_calls=AUTOTUNE)\n",
    "# 設定批次大小並將prefetch模式開啟(暫存空間為自動調整模式)\n",
    "test_data = test_data.batch(batch_size).prefetch(buffer_size=AUTOTUNE)"
   ]
  },
  {
   "cell_type": "code",
   "execution_count": 10,
   "id": "e2923f0c",
   "metadata": {},
   "outputs": [
    {
     "name": "stdout",
     "output_type": "stream",
     "text": [
      "Model: \"model-1\"\n",
      "_________________________________________________________________\n",
      "Layer (type)                 Output Shape              Param #   \n",
      "=================================================================\n",
      "input_1 (InputLayer)         [(None, 32, 32, 3)]       0         \n",
      "_________________________________________________________________\n",
      "conv2d (Conv2D)              (None, 30, 30, 64)        1792      \n",
      "_________________________________________________________________\n",
      "max_pooling2d (MaxPooling2D) (None, 15, 15, 64)        0         \n",
      "_________________________________________________________________\n",
      "conv2d_1 (Conv2D)            (None, 13, 13, 128)       73856     \n",
      "_________________________________________________________________\n",
      "conv2d_2 (Conv2D)            (None, 11, 11, 256)       295168    \n",
      "_________________________________________________________________\n",
      "conv2d_3 (Conv2D)            (None, 9, 9, 128)         295040    \n",
      "_________________________________________________________________\n",
      "conv2d_4 (Conv2D)            (None, 7, 7, 64)          73792     \n",
      "_________________________________________________________________\n",
      "flatten (Flatten)            (None, 3136)              0         \n",
      "_________________________________________________________________\n",
      "dense (Dense)                (None, 64)                200768    \n",
      "_________________________________________________________________\n",
      "dropout (Dropout)            (None, 64)                0         \n",
      "_________________________________________________________________\n",
      "dense_1 (Dense)              (None, 10)                650       \n",
      "=================================================================\n",
      "Total params: 941,066\n",
      "Trainable params: 941,066\n",
      "Non-trainable params: 0\n",
      "_________________________________________________________________\n"
     ]
    }
   ],
   "source": [
    "inputs = keras.Input(shape=(32, 32, 3))\n",
    "x = layers.Conv2D(64, 3, activation='relu', kernel_initializer='glorot_uniform')(inputs)\n",
    "x = layers.MaxPool2D()(x)\n",
    "x = layers.Conv2D(128, 3, activation='relu', kernel_initializer='glorot_uniform')(x)\n",
    "x = layers.Conv2D(256, 3, activation='relu', kernel_initializer='glorot_uniform')(x)\n",
    "x = layers.Conv2D(128, 3, activation='relu', kernel_initializer='glorot_uniform')(x)\n",
    "x = layers.Conv2D(64, 3, activation='relu', kernel_initializer='glorot_uniform')(x)\n",
    "x = layers.Flatten()(x)\n",
    "x = layers.Dense(64, activation='relu')(x)\n",
    "x = layers.Dropout(0.5)(x)\n",
    "outputs = layers.Dense(10)(x)\n",
    "# 建立網路模型(將輸入到輸出所有經過的網路層連接起來)\n",
    "model_1 = keras.Model(inputs, outputs, name='model-1')\n",
    "model_1.summary()"
   ]
  },
  {
   "cell_type": "code",
   "execution_count": 11,
   "id": "6774193c",
   "metadata": {},
   "outputs": [],
   "source": [
    "# 儲存訓練記錄檔\n",
    "logs_dirs = 'lab7-logs-images'\n",
    "model_cbk = keras.callbacks.TensorBoard(logs_dirs)\n",
    "# 儲存Confusion matrix圖片\n",
    "save_cm = ConfusionMatrix(logs_dirs, test_data, class_name)"
   ]
  },
  {
   "cell_type": "code",
   "execution_count": 12,
   "id": "8a54134e",
   "metadata": {},
   "outputs": [],
   "source": [
    "model_1.compile(keras.optimizers.Adam(), \n",
    "                loss=keras.losses.CategoricalCrossentropy(from_logits=True), \n",
    "                metrics=[keras.metrics.CategoricalAccuracy()])"
   ]
  },
  {
   "cell_type": "code",
   "execution_count": 13,
   "id": "f9e8c34d",
   "metadata": {
    "scrolled": true
   },
   "outputs": [
    {
     "name": "stdout",
     "output_type": "stream",
     "text": [
      "Epoch 1/100\n",
      "  6/704 [..............................] - ETA: 1:02 - loss: 2.3115 - categorical_accuracy: 0.1120WARNING:tensorflow:Callback method `on_train_batch_end` is slow compared to the batch time (batch time: 0.0101s vs `on_train_batch_end` time: 0.0665s). Check your callbacks.\n"
     ]
    },
    {
     "name": "stderr",
     "output_type": "stream",
     "text": [
      "WARNING:tensorflow:Callback method `on_train_batch_end` is slow compared to the batch time (batch time: 0.0101s vs `on_train_batch_end` time: 0.0665s). Check your callbacks.\n"
     ]
    },
    {
     "name": "stdout",
     "output_type": "stream",
     "text": [
      "704/704 [==============================] - 27s 20ms/step - loss: 2.1048 - categorical_accuracy: 0.1911 - val_loss: 1.8739 - val_categorical_accuracy: 0.3134\n",
      "Epoch 2/100\n",
      "704/704 [==============================] - 13s 19ms/step - loss: 1.9776 - categorical_accuracy: 0.2470 - val_loss: 1.8446 - val_categorical_accuracy: 0.3356oss: 1.9839 - categorica - ETA: 1s - loss: - ETA: 0s - loss: 1.9785 - categorical_\n",
      "Epoch 3/100\n",
      "704/704 [==============================] - 13s 19ms/step - loss: 1.8748 - categorical_accuracy: 0.3073 - val_loss: 1.6121 - val_categorical_accuracy: 0.4140\n",
      "Epoch 4/100\n",
      "704/704 [==============================] - 13s 19ms/step - loss: 1.7383 - categorical_accuracy: 0.3660 - val_loss: 1.3785 - val_categorical_accuracy: 0.5128\n",
      "Epoch 5/100\n",
      "704/704 [==============================] - 13s 19ms/step - loss: 1.6464 - categorical_accuracy: 0.4083 - val_loss: 1.3163 - val_categorical_accuracy: 0.5202\n",
      "Epoch 6/100\n",
      "704/704 [==============================] - 13s 19ms/step - loss: 1.5621 - categorical_accuracy: 0.4361 - val_loss: 1.1957 - val_categorical_accuracy: 0.5718\n",
      "Epoch 7/100\n",
      "704/704 [==============================] - 13s 19ms/step - loss: 1.5180 - categorical_accuracy: 0.4612 - val_loss: 1.1828 - val_categorical_accuracy: 0.5818\n",
      "Epoch 8/100\n",
      "704/704 [==============================] - 13s 19ms/step - loss: 1.4605 - categorical_accuracy: 0.4801 - val_loss: 1.1279 - val_categorical_accuracy: 0.60560.48\n",
      "Epoch 9/100\n",
      "704/704 [==============================] - 13s 19ms/step - loss: 1.4187 - categorical_accuracy: 0.4962 - val_loss: 1.0952 - val_categorical_accuracy: 0.6024\n",
      "Epoch 10/100\n",
      "704/704 [==============================] - 13s 19ms/step - loss: 1.3925 - categorical_accuracy: 0.5112 - val_loss: 1.0482 - val_categorical_accuracy: 0.63923 - categorical_accura\n",
      "Epoch 11/100\n",
      "704/704 [==============================] - 13s 19ms/step - loss: 1.3569 - categorical_accuracy: 0.5270 - val_loss: 1.0215 - val_categorical_accuracy: 0.6382\n",
      "Epoch 12/100\n",
      "704/704 [==============================] - 13s 19ms/step - loss: 1.3262 - categorical_accuracy: 0.5373 - val_loss: 1.0888 - val_categorical_accuracy: 0.6232\n",
      "Epoch 13/100\n",
      "704/704 [==============================] - 13s 19ms/step - loss: 1.3017 - categorical_accuracy: 0.5486 - val_loss: 0.9474 - val_categorical_accuracy: 0.6682\n",
      "Epoch 14/100\n",
      "704/704 [==============================] - 13s 19ms/step - loss: 1.2872 - categorical_accuracy: 0.5540 - val_loss: 0.9181 - val_categorical_accuracy: 0.6802\n",
      "Epoch 15/100\n",
      "704/704 [==============================] - 13s 19ms/step - loss: 1.2478 - categorical_accuracy: 0.5672 - val_loss: 0.9458 - val_categorical_accuracy: 0.6588\n",
      "Epoch 16/100\n",
      "704/704 [==============================] - 14s 20ms/step - loss: 1.2367 - categorical_accuracy: 0.5728 - val_loss: 0.8881 - val_categorical_accuracy: 0.6778\n",
      "Epoch 17/100\n",
      "704/704 [==============================] - 13s 19ms/step - loss: 1.2109 - categorical_accuracy: 0.5805 - val_loss: 0.8898 - val_categorical_accuracy: 0.6858\n",
      "Epoch 18/100\n",
      "704/704 [==============================] - 13s 19ms/step - loss: 1.1935 - categorical_accuracy: 0.5892 - val_loss: 0.9475 - val_categorical_accuracy: 0.6662\n",
      "Epoch 19/100\n",
      "704/704 [==============================] - 13s 19ms/step - loss: 1.1804 - categorical_accuracy: 0.5947 - val_loss: 0.8736 - val_categorical_accuracy: 0.6914\n",
      "Epoch 20/100\n",
      "704/704 [==============================] - 13s 19ms/step - loss: 1.1585 - categorical_accuracy: 0.6006 - val_loss: 0.8472 - val_categorical_accuracy: 0.7080\n",
      "Epoch 21/100\n",
      "704/704 [==============================] - 13s 19ms/step - loss: 1.1510 - categorical_accuracy: 0.6077 - val_loss: 0.8250 - val_categorical_accuracy: 0.7118\n",
      "Epoch 22/100\n",
      "704/704 [==============================] - 13s 19ms/step - loss: 1.1341 - categorical_accuracy: 0.6105 - val_loss: 0.8324 - val_categorical_accuracy: 0.7052\n",
      "Epoch 23/100\n",
      "704/704 [==============================] - 13s 19ms/step - loss: 1.1170 - categorical_accuracy: 0.6187 - val_loss: 0.8179 - val_categorical_accuracy: 0.7154\n",
      "Epoch 24/100\n",
      "704/704 [==============================] - 13s 19ms/step - loss: 1.1047 - categorical_accuracy: 0.6195 - val_loss: 0.8022 - val_categorical_accuracy: 0.7138\n",
      "Epoch 25/100\n",
      "704/704 [==============================] - 13s 19ms/step - loss: 1.0961 - categorical_accuracy: 0.6262 - val_loss: 0.7820 - val_categorical_accuracy: 0.7346: 0s - loss: 1.0959 - categorical_accu\n",
      "Epoch 26/100\n",
      "704/704 [==============================] - 13s 19ms/step - loss: 1.0851 - categorical_accuracy: 0.6291 - val_loss: 0.8027 - val_categorical_accuracy: 0.7174\n",
      "Epoch 27/100\n",
      "704/704 [==============================] - 13s 19ms/step - loss: 1.0715 - categorical_accuracy: 0.6366 - val_loss: 0.7825 - val_categorical_accuracy: 0.7234\n",
      "Epoch 28/100\n",
      "704/704 [==============================] - 13s 19ms/step - loss: 1.0599 - categorical_accuracy: 0.6393 - val_loss: 0.7920 - val_categorical_accuracy: 0.7362\n",
      "Epoch 29/100\n",
      "704/704 [==============================] - 13s 19ms/step - loss: 1.0542 - categorical_accuracy: 0.6387 - val_loss: 0.7493 - val_categorical_accuracy: 0.7376\n",
      "Epoch 30/100\n",
      "704/704 [==============================] - 13s 19ms/step - loss: 1.0460 - categorical_accuracy: 0.6431 - val_loss: 0.7500 - val_categorical_accuracy: 0.7386\n",
      "Epoch 31/100\n",
      "704/704 [==============================] - 13s 19ms/step - loss: 1.0386 - categorical_accuracy: 0.6458 - val_loss: 0.7271 - val_categorical_accuracy: 0.7346\n",
      "Epoch 32/100\n",
      "704/704 [==============================] - 13s 19ms/step - loss: 1.0280 - categorical_accuracy: 0.6519 - val_loss: 0.8034 - val_categorical_accuracy: 0.7244\n",
      "Epoch 33/100\n",
      "704/704 [==============================] - 13s 19ms/step - loss: 1.0175 - categorical_accuracy: 0.6534 - val_loss: 0.7381 - val_categorical_accuracy: 0.7404\n",
      "Epoch 34/100\n",
      "704/704 [==============================] - 13s 19ms/step - loss: 1.0099 - categorical_accuracy: 0.6530 - val_loss: 0.7987 - val_categorical_accuracy: 0.7310\n",
      "Epoch 35/100\n",
      "704/704 [==============================] - 13s 19ms/step - loss: 1.0056 - categorical_accuracy: 0.6562 - val_loss: 0.7908 - val_categorical_accuracy: 0.7244\n",
      "Epoch 36/100\n",
      "704/704 [==============================] - 13s 19ms/step - loss: 1.0017 - categorical_accuracy: 0.6634 - val_loss: 0.7304 - val_categorical_accuracy: 0.7490ca\n",
      "Epoch 37/100\n",
      "704/704 [==============================] - 13s 19ms/step - loss: 0.9905 - categorical_accuracy: 0.6673 - val_loss: 0.7307 - val_categorical_accuracy: 0.7494\n",
      "Epoch 38/100\n",
      "704/704 [==============================] - 13s 19ms/step - loss: 0.9826 - categorical_accuracy: 0.6712 - val_loss: 0.7320 - val_categorical_accuracy: 0.7466\n",
      "Epoch 39/100\n",
      "704/704 [==============================] - 13s 19ms/step - loss: 0.9714 - categorical_accuracy: 0.6704 - val_loss: 0.7103 - val_categorical_accuracy: 0.7574\n",
      "Epoch 40/100\n",
      "704/704 [==============================] - 13s 19ms/step - loss: 0.9706 - categorical_accuracy: 0.6706 - val_loss: 0.6653 - val_categorical_accuracy: 0.7706\n",
      "Epoch 41/100\n",
      "704/704 [==============================] - 13s 19ms/step - loss: 0.9603 - categorical_accuracy: 0.6760 - val_loss: 0.7095 - val_categorical_accuracy: 0.7570\n",
      "Epoch 42/100\n",
      "704/704 [==============================] - 13s 19ms/step - loss: 0.9550 - categorical_accuracy: 0.6754 - val_loss: 0.7065 - val_categorical_accuracy: 0.7606\n",
      "Epoch 43/100\n",
      "704/704 [==============================] - 13s 19ms/step - loss: 0.9471 - categorical_accuracy: 0.6763 - val_loss: 0.7161 - val_categorical_accuracy: 0.7598\n",
      "Epoch 44/100\n",
      "704/704 [==============================] - 13s 19ms/step - loss: 0.9430 - categorical_accuracy: 0.6789 - val_loss: 0.7057 - val_categorical_accuracy: 0.7586\n",
      "Epoch 45/100\n",
      "704/704 [==============================] - 13s 19ms/step - loss: 0.9388 - categorical_accuracy: 0.6825 - val_loss: 0.7351 - val_categorical_accuracy: 0.7510\n",
      "Epoch 46/100\n",
      "704/704 [==============================] - 13s 19ms/step - loss: 0.9279 - categorical_accuracy: 0.6858 - val_loss: 0.6935 - val_categorical_accuracy: 0.7616\n",
      "Epoch 47/100\n",
      "704/704 [==============================] - 13s 19ms/step - loss: 0.9285 - categorical_accuracy: 0.6885 - val_loss: 0.6987 - val_categorical_accuracy: 0.7606\n",
      "Epoch 48/100\n"
     ]
    },
    {
     "name": "stdout",
     "output_type": "stream",
     "text": [
      "704/704 [==============================] - 13s 19ms/step - loss: 0.9227 - categorical_accuracy: 0.6888 - val_loss: 0.6859 - val_categorical_accuracy: 0.7686\n",
      "Epoch 49/100\n",
      "704/704 [==============================] - 13s 19ms/step - loss: 0.9197 - categorical_accuracy: 0.6880 - val_loss: 0.6676 - val_categorical_accuracy: 0.7668\n",
      "Epoch 50/100\n",
      "704/704 [==============================] - 13s 19ms/step - loss: 0.9148 - categorical_accuracy: 0.6908 - val_loss: 0.6674 - val_categorical_accuracy: 0.7720\n",
      "Epoch 51/100\n",
      "704/704 [==============================] - 13s 19ms/step - loss: 0.9168 - categorical_accuracy: 0.6898 - val_loss: 0.6948 - val_categorical_accuracy: 0.7624\n",
      "Epoch 52/100\n",
      "704/704 [==============================] - 13s 19ms/step - loss: 0.9044 - categorical_accuracy: 0.6955 - val_loss: 0.6838 - val_categorical_accuracy: 0.7644\n",
      "Epoch 53/100\n",
      "704/704 [==============================] - 13s 19ms/step - loss: 0.8979 - categorical_accuracy: 0.6988 - val_loss: 0.7257 - val_categorical_accuracy: 0.7610\n",
      "Epoch 54/100\n",
      "704/704 [==============================] - 13s 19ms/step - loss: 0.9002 - categorical_accuracy: 0.6973 - val_loss: 0.6637 - val_categorical_accuracy: 0.7704\n",
      "Epoch 55/100\n",
      "704/704 [==============================] - 13s 19ms/step - loss: 0.8983 - categorical_accuracy: 0.7008 - val_loss: 0.6701 - val_categorical_accuracy: 0.7724\n",
      "Epoch 56/100\n",
      "704/704 [==============================] - 13s 19ms/step - loss: 0.8865 - categorical_accuracy: 0.7042 - val_loss: 0.6836 - val_categorical_accuracy: 0.7728\n",
      "Epoch 57/100\n",
      "704/704 [==============================] - 13s 19ms/step - loss: 0.8749 - categorical_accuracy: 0.7086 - val_loss: 0.6641 - val_categorical_accuracy: 0.7724\n",
      "Epoch 58/100\n",
      "704/704 [==============================] - 13s 19ms/step - loss: 0.8911 - categorical_accuracy: 0.7029 - val_loss: 0.7136 - val_categorical_accuracy: 0.7670\n",
      "Epoch 59/100\n",
      "704/704 [==============================] - 13s 19ms/step - loss: 0.8830 - categorical_accuracy: 0.7046 - val_loss: 0.6788 - val_categorical_accuracy: 0.7756\n",
      "Epoch 60/100\n",
      "704/704 [==============================] - 13s 19ms/step - loss: 0.8785 - categorical_accuracy: 0.7084 - val_loss: 0.6926 - val_categorical_accuracy: 0.7678\n",
      "Epoch 61/100\n",
      "704/704 [==============================] - 13s 19ms/step - loss: 0.8773 - categorical_accuracy: 0.7062 - val_loss: 0.6760 - val_categorical_accuracy: 0.7692\n",
      "Epoch 62/100\n",
      "704/704 [==============================] - 13s 19ms/step - loss: 0.8671 - categorical_accuracy: 0.7105 - val_loss: 0.6752 - val_categorical_accuracy: 0.7736\n",
      "Epoch 63/100\n",
      "704/704 [==============================] - 13s 19ms/step - loss: 0.8555 - categorical_accuracy: 0.7123 - val_loss: 0.6836 - val_categorical_accuracy: 0.7734\n",
      "Epoch 64/100\n",
      "704/704 [==============================] - 13s 19ms/step - loss: 0.8684 - categorical_accuracy: 0.7106 - val_loss: 0.6695 - val_categorical_accuracy: 0.7738\n",
      "Epoch 65/100\n",
      "704/704 [==============================] - 15s 21ms/step - loss: 0.8618 - categorical_accuracy: 0.7112 - val_loss: 0.6765 - val_categorical_accuracy: 0.7788\n",
      "Epoch 66/100\n",
      "704/704 [==============================] - 13s 19ms/step - loss: 0.8671 - categorical_accuracy: 0.7106 - val_loss: 0.6616 - val_categorical_accuracy: 0.7816\n",
      "Epoch 67/100\n",
      "704/704 [==============================] - 13s 19ms/step - loss: 0.8477 - categorical_accuracy: 0.7181 - val_loss: 0.6672 - val_categorical_accuracy: 0.7734\n",
      "Epoch 68/100\n",
      "704/704 [==============================] - 13s 19ms/step - loss: 0.8458 - categorical_accuracy: 0.7162 - val_loss: 0.6828 - val_categorical_accuracy: 0.7750\n",
      "Epoch 69/100\n",
      "704/704 [==============================] - 13s 19ms/step - loss: 0.8391 - categorical_accuracy: 0.7199 - val_loss: 0.6723 - val_categorical_accuracy: 0.7800\n",
      "Epoch 70/100\n",
      "704/704 [==============================] - 13s 19ms/step - loss: 0.8434 - categorical_accuracy: 0.7180 - val_loss: 0.6600 - val_categorical_accuracy: 0.7766\n",
      "Epoch 71/100\n",
      "704/704 [==============================] - 13s 19ms/step - loss: 0.8336 - categorical_accuracy: 0.7245 - val_loss: 0.6773 - val_categorical_accuracy: 0.7674\n",
      "Epoch 72/100\n",
      "704/704 [==============================] - 13s 19ms/step - loss: 0.8397 - categorical_accuracy: 0.7222 - val_loss: 0.6205 - val_categorical_accuracy: 0.7904\n",
      "Epoch 73/100\n",
      "704/704 [==============================] - 13s 19ms/step - loss: 0.8311 - categorical_accuracy: 0.7213 - val_loss: 0.6435 - val_categorical_accuracy: 0.7788\n",
      "Epoch 74/100\n",
      "704/704 [==============================] - 13s 19ms/step - loss: 0.8356 - categorical_accuracy: 0.7209 - val_loss: 0.6641 - val_categorical_accuracy: 0.7798\n",
      "Epoch 75/100\n",
      "704/704 [==============================] - 13s 19ms/step - loss: 0.8223 - categorical_accuracy: 0.7264 - val_loss: 0.6553 - val_categorical_accuracy: 0.7802- categorical_ac - ETA: 0s - loss: 0.8228 - categorical_accuracy: 0. - ETA: 0s - loss: 0.8222 - categorical_accuracy: 0.\n",
      "Epoch 76/100\n",
      "704/704 [==============================] - 13s 19ms/step - loss: 0.8193 - categorical_accuracy: 0.7274 - val_loss: 0.6670 - val_categorical_accuracy: 0.7802\n",
      "Epoch 77/100\n",
      "704/704 [==============================] - 13s 19ms/step - loss: 0.8254 - categorical_accuracy: 0.7260 - val_loss: 0.6519 - val_categorical_accuracy: 0.7856\n",
      "Epoch 78/100\n",
      "704/704 [==============================] - 13s 19ms/step - loss: 0.8239 - categorical_accuracy: 0.7241 - val_loss: 0.6288 - val_categorical_accuracy: 0.7908\n",
      "Epoch 79/100\n",
      "704/704 [==============================] - 13s 19ms/step - loss: 0.8098 - categorical_accuracy: 0.7326 - val_loss: 0.6379 - val_categorical_accuracy: 0.7860\n",
      "Epoch 80/100\n",
      "704/704 [==============================] - 13s 19ms/step - loss: 0.8104 - categorical_accuracy: 0.7311 - val_loss: 0.6337 - val_categorical_accuracy: 0.7894\n",
      "Epoch 81/100\n",
      "704/704 [==============================] - 13s 19ms/step - loss: 0.8114 - categorical_accuracy: 0.7307 - val_loss: 0.6555 - val_categorical_accuracy: 0.7872\n",
      "Epoch 82/100\n",
      "704/704 [==============================] - 13s 19ms/step - loss: 0.8133 - categorical_accuracy: 0.7309 - val_loss: 0.6541 - val_categorical_accuracy: 0.7908\n",
      "Epoch 83/100\n",
      "704/704 [==============================] - 13s 19ms/step - loss: 0.8079 - categorical_accuracy: 0.7318 - val_loss: 0.6329 - val_categorical_accuracy: 0.7874tegorical_ac - ETA: 1s - loss: 0.8040 -  - ETA: 0s - loss: 0.8072 - categorical_ac - ETA: 0s - loss: 0.8070 - categorical_accuracy: 0.\n",
      "Epoch 84/100\n",
      "704/704 [==============================] - 13s 19ms/step - loss: 0.8019 - categorical_accuracy: 0.7356 - val_loss: 0.6271 - val_categorical_accuracy: 0.7890\n",
      "Epoch 85/100\n",
      "704/704 [==============================] - 13s 19ms/step - loss: 0.7996 - categorical_accuracy: 0.7332 - val_loss: 0.6916 - val_categorical_accuracy: 0.7776\n",
      "Epoch 86/100\n",
      "704/704 [==============================] - 13s 19ms/step - loss: 0.7995 - categorical_accuracy: 0.7356 - val_loss: 0.6771 - val_categorical_accuracy: 0.7746\n",
      "Epoch 87/100\n",
      "704/704 [==============================] - 13s 19ms/step - loss: 0.8044 - categorical_accuracy: 0.7313 - val_loss: 0.6531 - val_categorical_accuracy: 0.7876\n",
      "Epoch 88/100\n",
      "704/704 [==============================] - 13s 19ms/step - loss: 0.7972 - categorical_accuracy: 0.7347 - val_loss: 0.6166 - val_categorical_accuracy: 0.7956\n",
      "Epoch 89/100\n",
      "704/704 [==============================] - 13s 19ms/step - loss: 0.7985 - categorical_accuracy: 0.7374 - val_loss: 0.6497 - val_categorical_accuracy: 0.7924\n",
      "Epoch 90/100\n",
      "704/704 [==============================] - 13s 19ms/step - loss: 0.7916 - categorical_accuracy: 0.7394 - val_loss: 0.6383 - val_categorical_accuracy: 0.7914\n",
      "Epoch 91/100\n",
      "704/704 [==============================] - 13s 19ms/step - loss: 0.7861 - categorical_accuracy: 0.7409 - val_loss: 0.6328 - val_categorical_accuracy: 0.7918\n",
      "Epoch 92/100\n",
      "704/704 [==============================] - 13s 19ms/step - loss: 0.7912 - categorical_accuracy: 0.7363 - val_loss: 0.6353 - val_categorical_accuracy: 0.7882\n",
      "Epoch 93/100\n",
      "704/704 [==============================] - 15s 21ms/step - loss: 0.7900 - categorical_accuracy: 0.7385 - val_loss: 0.6322 - val_categorical_accuracy: 0.7894\n",
      "Epoch 94/100\n",
      "704/704 [==============================] - 13s 19ms/step - loss: 0.7815 - categorical_accuracy: 0.7416 - val_loss: 0.6324 - val_categorical_accuracy: 0.7946\n"
     ]
    },
    {
     "name": "stdout",
     "output_type": "stream",
     "text": [
      "Epoch 95/100\n",
      "704/704 [==============================] - 14s 19ms/step - loss: 0.7852 - categorical_accuracy: 0.7396 - val_loss: 0.6537 - val_categorical_accuracy: 0.7884\n",
      "Epoch 96/100\n",
      "704/704 [==============================] - 14s 19ms/step - loss: 0.7747 - categorical_accuracy: 0.7438 - val_loss: 0.6507 - val_categorical_accuracy: 0.7912\n",
      "Epoch 97/100\n",
      "704/704 [==============================] - 14s 19ms/step - loss: 0.7756 - categorical_accuracy: 0.7431 - val_loss: 0.6716 - val_categorical_accuracy: 0.7842\n",
      "Epoch 98/100\n",
      "704/704 [==============================] - 14s 19ms/step - loss: 0.7893 - categorical_accuracy: 0.7393 - val_loss: 0.7134 - val_categorical_accuracy: 0.7728\n",
      "Epoch 99/100\n",
      "704/704 [==============================] - 14s 19ms/step - loss: 0.7860 - categorical_accuracy: 0.7432 - val_loss: 0.6516 - val_categorical_accuracy: 0.7870\n",
      "Epoch 100/100\n",
      "704/704 [==============================] - 14s 19ms/step - loss: 0.7774 - categorical_accuracy: 0.7415 - val_loss: 0.6419 - val_categorical_accuracy: 0.7898\n"
     ]
    },
    {
     "data": {
      "text/plain": [
       "<tensorflow.python.keras.callbacks.History at 0x26c83613d90>"
      ]
     },
     "execution_count": 13,
     "metadata": {},
     "output_type": "execute_result"
    }
   ],
   "source": [
    "model_1.fit(train_data,\n",
    "            epochs=100, \n",
    "            validation_data=valid_data,\n",
    "            callbacks=[model_cbk, save_cm])"
   ]
  },
  {
   "cell_type": "code",
   "execution_count": 38,
   "id": "bcab9f8d",
   "metadata": {},
   "outputs": [],
   "source": [
    "import os\n",
    "import tensorflow as tf\n",
    "import tensorflow_datasets as tfds\n",
    "from tensorflow import keras\n",
    "from tensorflow.keras import layers\n",
    "# 從資料夾中的preprocessing.py檔案中Import parse_aug_fn和parse_fn函數\n",
    "from preprocessing import parse_aug_fn, parse_fn"
   ]
  },
  {
   "cell_type": "code",
   "execution_count": 39,
   "id": "88bb0ff4",
   "metadata": {},
   "outputs": [],
   "source": [
    "from tensorboard.plugins.hparams import api as hp"
   ]
  },
  {
   "cell_type": "code",
   "execution_count": 40,
   "id": "fd762819",
   "metadata": {},
   "outputs": [],
   "source": [
    "hparam_ia = hp.HParam('Imgae_Augmentation', hp.Discrete([False, True]))\n",
    "hparam_bn = hp.HParam('Batch_Normalization', hp.Discrete([False, True]))\n",
    "hparam_init = hp.HParam('Weight_Initialization', hp.Discrete(['RandomNormal_0.01std', 'glorot_normal', 'he_normal']))\n",
    "hparam_lr = hp.HParam('Learning_Rate', hp.Discrete([0.001, 0.01, 0.03]))"
   ]
  },
  {
   "cell_type": "code",
   "execution_count": 41,
   "id": "bdf48f19",
   "metadata": {},
   "outputs": [],
   "source": [
    "#logs_dors = os.path.join('lab7-logs-hparams', 'hparam_tuning')\n",
    "#root_logdir_writer = tf.summary.create_file_writer(logs_dirs)\n",
    "#with root_logdir_writer.as_default ():\n",
    "#    hp.hparams_config(haparams=[hp_ia , hp_bn, hp_init, hp_lr], metrics=[hp_metric])\n",
    "\n",
    "metric = 'Accuracy'\n",
    "log_dirs = \"lab7-logs-hparams/hparam_tuning\"\n",
    "with tf.summary.create_file_writer(log_dirs).as_default():\n",
    "    hp.hparams_config(\n",
    "        hparams=[hparam_ia, hparam_bn, hparam_init, hparam_lr],\n",
    "        metrics=[hp.Metric(metric, display_name='Accuracy')],\n",
    "    )"
   ]
  },
  {
   "cell_type": "code",
   "execution_count": 42,
   "id": "519179b6",
   "metadata": {},
   "outputs": [],
   "source": [
    "train_split, valid_split = ['train[:90%]', 'train[90%:]']\n",
    "train_data_noaug, info = tfds.load(\"cifar10\", split=train_split,with_info=True)\n",
    "train_data_aug = tfds.load(\"cifar10\", split=train_split)\n",
    "valid_data = tfds.load(\"cifar10\", split=valid_split)"
   ]
  },
  {
   "cell_type": "code",
   "execution_count": 43,
   "id": "83bfd2aa",
   "metadata": {},
   "outputs": [],
   "source": [
    "AUTOTUNE = tf.data.experimental.AUTOTUNE  # 自動調整模式\n",
    "batch_size = 64  # 批次大小\n",
    "# 將train Data重新分成1:9等分，分別分給valid data, train data\n",
    "train_split, valid_split = ['train[:90%]', 'train[90%:]']\n",
    "\n",
    "# 取得訓練數據\n",
    "train_data_noaug, info = tfds.load(\"cifar10\", split=train_split, with_info=True)\n",
    "train_data_aug = tfds.load(\"cifar10\", split=train_split)\n",
    "# 取得驗證數據\n",
    "valid_data = tfds.load(\"cifar10\", split=valid_split)\n",
    "\n",
    "train_num = int(info.splits['train'].num_examples / 5) * 4  # 訓練資料數量\n",
    "\n",
    "train_data_noaug = train_data_noaug.shuffle(train_num)  # 打散資料集\n",
    "# 載入預處理「 parse_aug_fn」function，cpu數量為自動調整模式\n",
    "train_data_noaug = train_data_noaug.map(map_func=parse_fn, num_parallel_calls=AUTOTUNE)\n",
    "# 設定批次大小並將prefetch模式開啟(暫存空間為自動調整模式)\n",
    "train_data_noaug = train_data_noaug.batch(batch_size).prefetch(buffer_size=AUTOTUNE)\n",
    "\n",
    "train_data_aug = train_data_aug.shuffle(train_num)  # 打散資料集\n",
    "# 載入預處理「 parse_fn」function，cpu數量為自動調整模式\n",
    "train_data_aug = train_data_aug.map(map_func=parse_aug_fn, num_parallel_calls=AUTOTUNE)\n",
    "# 設定批次大小並將prefetch模式開啟(暫存空間為自動調整模式)\n",
    "train_data_aug = train_data_aug.batch(batch_size).prefetch(buffer_size=AUTOTUNE)\n",
    "\n",
    "# 載入預處理「 parse_fn」function，cpu數量為自動調整模式\n",
    "valid_data = valid_data.map(map_func=parse_fn, num_parallel_calls=AUTOTUNE)\n",
    "# 設定批次大小並將prefetch模式開啟(暫存空間為自動調整模式)\n",
    "valid_data = valid_data.batch(batch_size).prefetch(buffer_size=AUTOTUNE)"
   ]
  },
  {
   "cell_type": "code",
   "execution_count": 44,
   "id": "08fb4c54",
   "metadata": {},
   "outputs": [],
   "source": [
    "class HyperparameterCallback(tf.keras.callbacks.Callback):\n",
    "    # 類別創建時調用\n",
    "    def __init__(self, log_dir, hparams):\n",
    "        super(HyperparameterCallback, self).__init__()\n",
    "        self.log_dir = log_dir\n",
    "        self.hparams = hparams\n",
    "        self.best_accuracy = 0\n",
    "        self.writer = None\n",
    "        \n",
    "    # 訓練開始前調用\n",
    "    def on_train_begin(self, logs=None):\n",
    "        self.writer = tf.summary.create_file_writer(self.log_dir)\n",
    "\n",
    "    # 每一個Epcoh結束後調用\n",
    "    def on_epoch_end(self, epoch, logs=None):\n",
    "        current_accuracy = logs.get('val_categorical_accuracy')\n",
    "        if current_accuracy > self.best_accuracy:\n",
    "            self.best_accuracy = current_accuracy\n",
    "            \n",
    "    # 訓練結束時調用\n",
    "    def on_train_end(self, logs=None):\n",
    "        with self.writer.as_default():\n",
    "            hp.hparams(self.hparams)  # record the values used in this trial\n",
    "            tf.summary.scalar(metric, self.best_accuracy, step=0)"
   ]
  },
  {
   "cell_type": "code",
   "execution_count": 45,
   "id": "e98f577d",
   "metadata": {},
   "outputs": [],
   "source": [
    "def train_test_model(logs_dir, hparams):\n",
    "    \"\"\"\n",
    "    logs_dir:傳入目前執行的任務log檔的位置\n",
    "    hparams:傳入超參數\n",
    "    \"\"\"\n",
    "    # 指派網路模型初始化的方法\n",
    "    if hparams[hparam_init] == \"glorot_normal\":\n",
    "        init = keras.initializers.glorot_normal()\n",
    "    elif hparams[hparam_init] == \"he_normal\":\n",
    "        init = keras.initializers.he_normal()\n",
    "    else:\n",
    "        init = keras.initializers.RandomNormal(0, 0.01)\n",
    "\n",
    "    inputs = keras.Input(shape=(32, 32, 3))\n",
    "    x = layers.Conv2D(64, (3, 3), kernel_initializer=init)(inputs)\n",
    "    if hparams[hparam_bn]: x = layers.BatchNormalization()(x)\n",
    "    x = layers.ReLU()(x)\n",
    "    x = layers.MaxPool2D()(x)\n",
    "    x = layers.Conv2D(128, (3, 3), kernel_initializer=init)(x)\n",
    "    if hparams[hparam_bn]: x = layers.BatchNormalization()(x)\n",
    "    x = layers.ReLU()(x)\n",
    "    x = layers.Conv2D(256, (3, 3), kernel_initializer=init)(x)\n",
    "    if hparams[hparam_bn]: x = layers.BatchNormalization()(x)\n",
    "    x = layers.ReLU()(x)\n",
    "    x = layers.Conv2D(128, (3, 3), kernel_initializer=init)(x)\n",
    "    if hparams[hparam_bn]: x = layers.BatchNormalization()(x)\n",
    "    x = layers.ReLU()(x)\n",
    "    x = layers.Conv2D(64, (3, 3), kernel_initializer=init)(x)\n",
    "    if hparams[hparam_bn]: x = layers.BatchNormalization()(x)\n",
    "    x = layers.ReLU()(x)\n",
    "    x = layers.Flatten()(x)\n",
    "    x = layers.Dense(64, kernel_initializer=init)(x)\n",
    "    if hparams[hparam_bn]: x = layers.BatchNormalization()(x)\n",
    "    x = layers.ReLU()(x)\n",
    "    x = layers.Dropout(0.5)(x)\n",
    "    outputs = layers.Dense(10, activation='softmax')(x)\n",
    "    # 建立網路模型(將輸入到輸出所有經過的網路層連接起來)\n",
    "    model = keras.Model(inputs, outputs, name='model')\n",
    "\n",
    "    # 儲存訓練記錄檔\n",
    "    model_tb = keras.callbacks.TensorBoard(log_dir=logs_dir, write_graph=False)\n",
    "\n",
    "    # 儲存最好的網路模型權重\n",
    "    model_mckp = keras.callbacks.ModelCheckpoint(logs_dir +'/best-model.hdf5', \n",
    "                                                 monitor='val_categorical_accuracy', \n",
    "                                                 save_best_only=True, \n",
    "                                                 mode='max')\n",
    "    \n",
    "    # 設定停止訓練的條件(當Accuracy超過30迭代沒有上升的話訓練會終止)\n",
    "    model_els = keras.callbacks.EarlyStopping(monitor='val_categorical_accuracy' , \n",
    "                                              min_delta=0, \n",
    "                                              patience=30, \n",
    "                                              mode='max')\n",
    "    # 客自化超參數回調函式，紀錄訓練模型的超參數和指標(準確率)\n",
    "    model_hparam = HyperparameterCallback(logs_dir + 'hparam_tuning', hparams)\n",
    "\n",
    "\n",
    "    # 設定訓練使用的優化器、損失函數和指標函數\n",
    "    # 優化器學習率為超參數：0.001、0.01或0.03\n",
    "    model.compile(keras.optimizers.Adam(hparams[hparam_lr]), \n",
    "                  loss=keras.losses.CategoricalCrossentropy(), \n",
    "                  metrics=[keras.metrics.CategoricalAccuracy()])\n",
    "    \n",
    "    # 超參數：使用「經過影像增強的數據」或「不經過影像增強的數據」訓練網路\n",
    "    if hparams[hparam_ia]:\n",
    "        history = model.fit(train_data_aug,\n",
    "                            epochs=2, \n",
    "                            validation_data=valid_data,\n",
    "                            callbacks=[model_tb, model_mckp, model_els, model_hparam])\n",
    "    else:\n",
    "        history = model.fit(train_data_noaug,\n",
    "                            epochs=2, \n",
    "                            validation_data=valid_data,\n",
    "                            callbacks=[model_tb, model_mckp, model_els, model_hparam])"
   ]
  },
  {
   "cell_type": "code",
   "execution_count": 46,
   "id": "fe5d6b40",
   "metadata": {
    "scrolled": true
   },
   "outputs": [
    {
     "name": "stdout",
     "output_type": "stream",
     "text": [
      "--- Running training session 1\n",
      "Epoch 1/2\n",
      "  6/704 [..............................] - ETA: 1:05 - loss: 2.3026 - categorical_accuracy: 0.0990WARNING:tensorflow:Callback method `on_train_batch_end` is slow compared to the batch time (batch time: 0.0108s vs `on_train_batch_end` time: 0.0699s). Check your callbacks.\n"
     ]
    },
    {
     "name": "stderr",
     "output_type": "stream",
     "text": [
      "WARNING:tensorflow:Callback method `on_train_batch_end` is slow compared to the batch time (batch time: 0.0108s vs `on_train_batch_end` time: 0.0699s). Check your callbacks.\n"
     ]
    },
    {
     "name": "stdout",
     "output_type": "stream",
     "text": [
      "704/704 [==============================] - 14s 19ms/step - loss: 2.3028 - categorical_accuracy: 0.0958 - val_loss: 2.3027 - val_categorical_accuracy: 0.0956\n",
      "Epoch 2/2\n",
      "704/704 [==============================] - 13s 18ms/step - loss: 2.3027 - categorical_accuracy: 0.0981 - val_loss: 2.3030 - val_categorical_accuracy: 0.0956\n",
      "--- Running training session 2\n",
      "Epoch 1/2\n",
      "  6/704 [..............................] - ETA: 50s - loss: 39.1023 - categorical_accuracy: 0.1146 WARNING:tensorflow:Callback method `on_train_batch_end` is slow compared to the batch time (batch time: 0.0096s vs `on_train_batch_end` time: 0.0532s). Check your callbacks.\n"
     ]
    },
    {
     "name": "stderr",
     "output_type": "stream",
     "text": [
      "WARNING:tensorflow:Callback method `on_train_batch_end` is slow compared to the batch time (batch time: 0.0096s vs `on_train_batch_end` time: 0.0532s). Check your callbacks.\n"
     ]
    },
    {
     "name": "stdout",
     "output_type": "stream",
     "text": [
      "704/704 [==============================] - 14s 19ms/step - loss: 2.6178 - categorical_accuracy: 0.0997 - val_loss: 2.3045 - val_categorical_accuracy: 0.0940\n",
      "Epoch 2/2\n",
      "704/704 [==============================] - 13s 18ms/step - loss: 2.3034 - categorical_accuracy: 0.0996 - val_loss: 2.3046 - val_categorical_accuracy: 0.0940\n",
      "--- Running training session 3\n",
      "Epoch 1/2\n",
      "  6/704 [..............................] - ETA: 49s - loss: 98.6661 - categorical_accuracy: 0.1042  WARNING:tensorflow:Callback method `on_train_batch_end` is slow compared to the batch time (batch time: 0.0097s vs `on_train_batch_end` time: 0.0518s). Check your callbacks.\n"
     ]
    },
    {
     "name": "stderr",
     "output_type": "stream",
     "text": [
      "WARNING:tensorflow:Callback method `on_train_batch_end` is slow compared to the batch time (batch time: 0.0097s vs `on_train_batch_end` time: 0.0518s). Check your callbacks.\n"
     ]
    },
    {
     "name": "stdout",
     "output_type": "stream",
     "text": [
      "704/704 [==============================] - 14s 19ms/step - loss: 3.1291 - categorical_accuracy: 0.0971 - val_loss: 2.3060 - val_categorical_accuracy: 0.0984\n",
      "Epoch 2/2\n",
      "704/704 [==============================] - 13s 18ms/step - loss: 2.3057 - categorical_accuracy: 0.0977 - val_loss: 2.3053 - val_categorical_accuracy: 0.0990\n",
      "--- Running training session 4\n",
      "Epoch 1/2\n",
      "  6/704 [..............................] - ETA: 1:05 - loss: 2.3131 - categorical_accuracy: 0.1094WARNING:tensorflow:Callback method `on_train_batch_end` is slow compared to the batch time (batch time: 0.0096s vs `on_train_batch_end` time: 0.0710s). Check your callbacks.\n"
     ]
    },
    {
     "name": "stderr",
     "output_type": "stream",
     "text": [
      "WARNING:tensorflow:Callback method `on_train_batch_end` is slow compared to the batch time (batch time: 0.0096s vs `on_train_batch_end` time: 0.0710s). Check your callbacks.\n"
     ]
    },
    {
     "name": "stdout",
     "output_type": "stream",
     "text": [
      "102/704 [===>..........................] - ETA: 12s - loss: 2.1981 - categorical_accuracy: 0.1595"
     ]
    },
    {
     "ename": "KeyboardInterrupt",
     "evalue": "",
     "output_type": "error",
     "traceback": [
      "\u001b[1;31m---------------------------------------------------------------------------\u001b[0m",
      "\u001b[1;31mKeyboardInterrupt\u001b[0m                         Traceback (most recent call last)",
      "\u001b[1;32m~\\AppData\\Local\\Temp/ipykernel_13256/2980639135.py\u001b[0m in \u001b[0;36m<module>\u001b[1;34m\u001b[0m\n\u001b[0;32m     11\u001b[0m                 \u001b[0mlogs_dir\u001b[0m \u001b[1;33m=\u001b[0m \u001b[0mos\u001b[0m\u001b[1;33m.\u001b[0m\u001b[0mpath\u001b[0m\u001b[1;33m.\u001b[0m\u001b[0mjoin\u001b[0m\u001b[1;33m(\u001b[0m\u001b[1;34m\"lab7-logs-hparams\"\u001b[0m\u001b[1;33m,\u001b[0m \u001b[1;34m\"run-{}\"\u001b[0m\u001b[1;33m.\u001b[0m\u001b[0mformat\u001b[0m\u001b[1;33m(\u001b[0m\u001b[0msession_id\u001b[0m\u001b[1;33m)\u001b[0m\u001b[1;33m)\u001b[0m\u001b[1;33m\u001b[0m\u001b[1;33m\u001b[0m\u001b[0m\n\u001b[0;32m     12\u001b[0m                 \u001b[1;31m# 建立、編譯及訓練網路模型\u001b[0m\u001b[1;33m\u001b[0m\u001b[1;33m\u001b[0m\u001b[1;33m\u001b[0m\u001b[0m\n\u001b[1;32m---> 13\u001b[1;33m                 \u001b[0mtrain_test_model\u001b[0m\u001b[1;33m(\u001b[0m\u001b[0mlogs_dir\u001b[0m\u001b[1;33m,\u001b[0m \u001b[0mhparams\u001b[0m\u001b[1;33m)\u001b[0m\u001b[1;33m\u001b[0m\u001b[1;33m\u001b[0m\u001b[0m\n\u001b[0m\u001b[0;32m     14\u001b[0m                 \u001b[0msession_id\u001b[0m \u001b[1;33m+=\u001b[0m \u001b[1;36m1\u001b[0m  \u001b[1;31m# id+1\u001b[0m\u001b[1;33m\u001b[0m\u001b[1;33m\u001b[0m\u001b[0m\n",
      "\u001b[1;32m~\\AppData\\Local\\Temp/ipykernel_13256/1321987285.py\u001b[0m in \u001b[0;36mtrain_test_model\u001b[1;34m(logs_dir, hparams)\u001b[0m\n\u001b[0;32m     69\u001b[0m                             callbacks=[model_tb, model_mckp, model_els, model_hparam])\n\u001b[0;32m     70\u001b[0m     \u001b[1;32melse\u001b[0m\u001b[1;33m:\u001b[0m\u001b[1;33m\u001b[0m\u001b[1;33m\u001b[0m\u001b[0m\n\u001b[1;32m---> 71\u001b[1;33m         history = model.fit(train_data_noaug,\n\u001b[0m\u001b[0;32m     72\u001b[0m                             \u001b[0mepochs\u001b[0m\u001b[1;33m=\u001b[0m\u001b[1;36m2\u001b[0m\u001b[1;33m,\u001b[0m\u001b[1;33m\u001b[0m\u001b[1;33m\u001b[0m\u001b[0m\n\u001b[0;32m     73\u001b[0m                             \u001b[0mvalidation_data\u001b[0m\u001b[1;33m=\u001b[0m\u001b[0mvalid_data\u001b[0m\u001b[1;33m,\u001b[0m\u001b[1;33m\u001b[0m\u001b[1;33m\u001b[0m\u001b[0m\n",
      "\u001b[1;32m~\\tf2\\lib\\site-packages\\tensorflow\\python\\keras\\engine\\training.py\u001b[0m in \u001b[0;36mfit\u001b[1;34m(self, x, y, batch_size, epochs, verbose, callbacks, validation_split, validation_data, shuffle, class_weight, sample_weight, initial_epoch, steps_per_epoch, validation_steps, validation_batch_size, validation_freq, max_queue_size, workers, use_multiprocessing)\u001b[0m\n\u001b[0;32m   1186\u001b[0m               \u001b[0mlogs\u001b[0m \u001b[1;33m=\u001b[0m \u001b[0mtmp_logs\u001b[0m  \u001b[1;31m# No error, now safe to assign to logs.\u001b[0m\u001b[1;33m\u001b[0m\u001b[1;33m\u001b[0m\u001b[0m\n\u001b[0;32m   1187\u001b[0m               \u001b[0mend_step\u001b[0m \u001b[1;33m=\u001b[0m \u001b[0mstep\u001b[0m \u001b[1;33m+\u001b[0m \u001b[0mdata_handler\u001b[0m\u001b[1;33m.\u001b[0m\u001b[0mstep_increment\u001b[0m\u001b[1;33m\u001b[0m\u001b[1;33m\u001b[0m\u001b[0m\n\u001b[1;32m-> 1188\u001b[1;33m               \u001b[0mcallbacks\u001b[0m\u001b[1;33m.\u001b[0m\u001b[0mon_train_batch_end\u001b[0m\u001b[1;33m(\u001b[0m\u001b[0mend_step\u001b[0m\u001b[1;33m,\u001b[0m \u001b[0mlogs\u001b[0m\u001b[1;33m)\u001b[0m\u001b[1;33m\u001b[0m\u001b[1;33m\u001b[0m\u001b[0m\n\u001b[0m\u001b[0;32m   1189\u001b[0m               \u001b[1;32mif\u001b[0m \u001b[0mself\u001b[0m\u001b[1;33m.\u001b[0m\u001b[0mstop_training\u001b[0m\u001b[1;33m:\u001b[0m\u001b[1;33m\u001b[0m\u001b[1;33m\u001b[0m\u001b[0m\n\u001b[0;32m   1190\u001b[0m                 \u001b[1;32mbreak\u001b[0m\u001b[1;33m\u001b[0m\u001b[1;33m\u001b[0m\u001b[0m\n",
      "\u001b[1;32m~\\tf2\\lib\\site-packages\\tensorflow\\python\\keras\\callbacks.py\u001b[0m in \u001b[0;36mon_train_batch_end\u001b[1;34m(self, batch, logs)\u001b[0m\n\u001b[0;32m    455\u001b[0m     \"\"\"\n\u001b[0;32m    456\u001b[0m     \u001b[1;32mif\u001b[0m \u001b[0mself\u001b[0m\u001b[1;33m.\u001b[0m\u001b[0m_should_call_train_batch_hooks\u001b[0m\u001b[1;33m:\u001b[0m\u001b[1;33m\u001b[0m\u001b[1;33m\u001b[0m\u001b[0m\n\u001b[1;32m--> 457\u001b[1;33m       \u001b[0mself\u001b[0m\u001b[1;33m.\u001b[0m\u001b[0m_call_batch_hook\u001b[0m\u001b[1;33m(\u001b[0m\u001b[0mModeKeys\u001b[0m\u001b[1;33m.\u001b[0m\u001b[0mTRAIN\u001b[0m\u001b[1;33m,\u001b[0m \u001b[1;34m'end'\u001b[0m\u001b[1;33m,\u001b[0m \u001b[0mbatch\u001b[0m\u001b[1;33m,\u001b[0m \u001b[0mlogs\u001b[0m\u001b[1;33m=\u001b[0m\u001b[0mlogs\u001b[0m\u001b[1;33m)\u001b[0m\u001b[1;33m\u001b[0m\u001b[1;33m\u001b[0m\u001b[0m\n\u001b[0m\u001b[0;32m    458\u001b[0m \u001b[1;33m\u001b[0m\u001b[0m\n\u001b[0;32m    459\u001b[0m   \u001b[1;32mdef\u001b[0m \u001b[0mon_test_batch_begin\u001b[0m\u001b[1;33m(\u001b[0m\u001b[0mself\u001b[0m\u001b[1;33m,\u001b[0m \u001b[0mbatch\u001b[0m\u001b[1;33m,\u001b[0m \u001b[0mlogs\u001b[0m\u001b[1;33m=\u001b[0m\u001b[1;32mNone\u001b[0m\u001b[1;33m)\u001b[0m\u001b[1;33m:\u001b[0m\u001b[1;33m\u001b[0m\u001b[1;33m\u001b[0m\u001b[0m\n",
      "\u001b[1;32m~\\tf2\\lib\\site-packages\\tensorflow\\python\\keras\\callbacks.py\u001b[0m in \u001b[0;36m_call_batch_hook\u001b[1;34m(self, mode, hook, batch, logs)\u001b[0m\n\u001b[0;32m    315\u001b[0m       \u001b[0mself\u001b[0m\u001b[1;33m.\u001b[0m\u001b[0m_call_batch_begin_hook\u001b[0m\u001b[1;33m(\u001b[0m\u001b[0mmode\u001b[0m\u001b[1;33m,\u001b[0m \u001b[0mbatch\u001b[0m\u001b[1;33m,\u001b[0m \u001b[0mlogs\u001b[0m\u001b[1;33m)\u001b[0m\u001b[1;33m\u001b[0m\u001b[1;33m\u001b[0m\u001b[0m\n\u001b[0;32m    316\u001b[0m     \u001b[1;32melif\u001b[0m \u001b[0mhook\u001b[0m \u001b[1;33m==\u001b[0m \u001b[1;34m'end'\u001b[0m\u001b[1;33m:\u001b[0m\u001b[1;33m\u001b[0m\u001b[1;33m\u001b[0m\u001b[0m\n\u001b[1;32m--> 317\u001b[1;33m       \u001b[0mself\u001b[0m\u001b[1;33m.\u001b[0m\u001b[0m_call_batch_end_hook\u001b[0m\u001b[1;33m(\u001b[0m\u001b[0mmode\u001b[0m\u001b[1;33m,\u001b[0m \u001b[0mbatch\u001b[0m\u001b[1;33m,\u001b[0m \u001b[0mlogs\u001b[0m\u001b[1;33m)\u001b[0m\u001b[1;33m\u001b[0m\u001b[1;33m\u001b[0m\u001b[0m\n\u001b[0m\u001b[0;32m    318\u001b[0m     \u001b[1;32melse\u001b[0m\u001b[1;33m:\u001b[0m\u001b[1;33m\u001b[0m\u001b[1;33m\u001b[0m\u001b[0m\n\u001b[0;32m    319\u001b[0m       \u001b[1;32mraise\u001b[0m \u001b[0mValueError\u001b[0m\u001b[1;33m(\u001b[0m\u001b[1;34m'Unrecognized hook: {}'\u001b[0m\u001b[1;33m.\u001b[0m\u001b[0mformat\u001b[0m\u001b[1;33m(\u001b[0m\u001b[0mhook\u001b[0m\u001b[1;33m)\u001b[0m\u001b[1;33m)\u001b[0m\u001b[1;33m\u001b[0m\u001b[1;33m\u001b[0m\u001b[0m\n",
      "\u001b[1;32m~\\tf2\\lib\\site-packages\\tensorflow\\python\\keras\\callbacks.py\u001b[0m in \u001b[0;36m_call_batch_end_hook\u001b[1;34m(self, mode, batch, logs)\u001b[0m\n\u001b[0;32m    335\u001b[0m       \u001b[0mself\u001b[0m\u001b[1;33m.\u001b[0m\u001b[0m_batch_times\u001b[0m\u001b[1;33m.\u001b[0m\u001b[0mappend\u001b[0m\u001b[1;33m(\u001b[0m\u001b[0mbatch_time\u001b[0m\u001b[1;33m)\u001b[0m\u001b[1;33m\u001b[0m\u001b[1;33m\u001b[0m\u001b[0m\n\u001b[0;32m    336\u001b[0m \u001b[1;33m\u001b[0m\u001b[0m\n\u001b[1;32m--> 337\u001b[1;33m     \u001b[0mself\u001b[0m\u001b[1;33m.\u001b[0m\u001b[0m_call_batch_hook_helper\u001b[0m\u001b[1;33m(\u001b[0m\u001b[0mhook_name\u001b[0m\u001b[1;33m,\u001b[0m \u001b[0mbatch\u001b[0m\u001b[1;33m,\u001b[0m \u001b[0mlogs\u001b[0m\u001b[1;33m)\u001b[0m\u001b[1;33m\u001b[0m\u001b[1;33m\u001b[0m\u001b[0m\n\u001b[0m\u001b[0;32m    338\u001b[0m \u001b[1;33m\u001b[0m\u001b[0m\n\u001b[0;32m    339\u001b[0m     \u001b[1;32mif\u001b[0m \u001b[0mlen\u001b[0m\u001b[1;33m(\u001b[0m\u001b[0mself\u001b[0m\u001b[1;33m.\u001b[0m\u001b[0m_batch_times\u001b[0m\u001b[1;33m)\u001b[0m \u001b[1;33m>=\u001b[0m \u001b[0mself\u001b[0m\u001b[1;33m.\u001b[0m\u001b[0m_num_batches_for_timing_check\u001b[0m\u001b[1;33m:\u001b[0m\u001b[1;33m\u001b[0m\u001b[1;33m\u001b[0m\u001b[0m\n",
      "\u001b[1;32m~\\tf2\\lib\\site-packages\\tensorflow\\python\\keras\\callbacks.py\u001b[0m in \u001b[0;36m_call_batch_hook_helper\u001b[1;34m(self, hook_name, batch, logs)\u001b[0m\n\u001b[0;32m    373\u001b[0m     \u001b[1;32mfor\u001b[0m \u001b[0mcallback\u001b[0m \u001b[1;32min\u001b[0m \u001b[0mself\u001b[0m\u001b[1;33m.\u001b[0m\u001b[0mcallbacks\u001b[0m\u001b[1;33m:\u001b[0m\u001b[1;33m\u001b[0m\u001b[1;33m\u001b[0m\u001b[0m\n\u001b[0;32m    374\u001b[0m       \u001b[0mhook\u001b[0m \u001b[1;33m=\u001b[0m \u001b[0mgetattr\u001b[0m\u001b[1;33m(\u001b[0m\u001b[0mcallback\u001b[0m\u001b[1;33m,\u001b[0m \u001b[0mhook_name\u001b[0m\u001b[1;33m)\u001b[0m\u001b[1;33m\u001b[0m\u001b[1;33m\u001b[0m\u001b[0m\n\u001b[1;32m--> 375\u001b[1;33m       \u001b[0mhook\u001b[0m\u001b[1;33m(\u001b[0m\u001b[0mbatch\u001b[0m\u001b[1;33m,\u001b[0m \u001b[0mlogs\u001b[0m\u001b[1;33m)\u001b[0m\u001b[1;33m\u001b[0m\u001b[1;33m\u001b[0m\u001b[0m\n\u001b[0m\u001b[0;32m    376\u001b[0m \u001b[1;33m\u001b[0m\u001b[0m\n\u001b[0;32m    377\u001b[0m     \u001b[1;32mif\u001b[0m \u001b[0mself\u001b[0m\u001b[1;33m.\u001b[0m\u001b[0m_check_timing\u001b[0m\u001b[1;33m:\u001b[0m\u001b[1;33m\u001b[0m\u001b[1;33m\u001b[0m\u001b[0m\n",
      "\u001b[1;32m~\\tf2\\lib\\site-packages\\tensorflow\\python\\keras\\callbacks.py\u001b[0m in \u001b[0;36mon_train_batch_end\u001b[1;34m(self, batch, logs)\u001b[0m\n\u001b[0;32m   1027\u001b[0m \u001b[1;33m\u001b[0m\u001b[0m\n\u001b[0;32m   1028\u001b[0m   \u001b[1;32mdef\u001b[0m \u001b[0mon_train_batch_end\u001b[0m\u001b[1;33m(\u001b[0m\u001b[0mself\u001b[0m\u001b[1;33m,\u001b[0m \u001b[0mbatch\u001b[0m\u001b[1;33m,\u001b[0m \u001b[0mlogs\u001b[0m\u001b[1;33m=\u001b[0m\u001b[1;32mNone\u001b[0m\u001b[1;33m)\u001b[0m\u001b[1;33m:\u001b[0m\u001b[1;33m\u001b[0m\u001b[1;33m\u001b[0m\u001b[0m\n\u001b[1;32m-> 1029\u001b[1;33m     \u001b[0mself\u001b[0m\u001b[1;33m.\u001b[0m\u001b[0m_batch_update_progbar\u001b[0m\u001b[1;33m(\u001b[0m\u001b[0mbatch\u001b[0m\u001b[1;33m,\u001b[0m \u001b[0mlogs\u001b[0m\u001b[1;33m)\u001b[0m\u001b[1;33m\u001b[0m\u001b[1;33m\u001b[0m\u001b[0m\n\u001b[0m\u001b[0;32m   1030\u001b[0m \u001b[1;33m\u001b[0m\u001b[0m\n\u001b[0;32m   1031\u001b[0m   \u001b[1;32mdef\u001b[0m \u001b[0mon_test_batch_end\u001b[0m\u001b[1;33m(\u001b[0m\u001b[0mself\u001b[0m\u001b[1;33m,\u001b[0m \u001b[0mbatch\u001b[0m\u001b[1;33m,\u001b[0m \u001b[0mlogs\u001b[0m\u001b[1;33m=\u001b[0m\u001b[1;32mNone\u001b[0m\u001b[1;33m)\u001b[0m\u001b[1;33m:\u001b[0m\u001b[1;33m\u001b[0m\u001b[1;33m\u001b[0m\u001b[0m\n",
      "\u001b[1;32m~\\tf2\\lib\\site-packages\\tensorflow\\python\\keras\\callbacks.py\u001b[0m in \u001b[0;36m_batch_update_progbar\u001b[1;34m(self, batch, logs)\u001b[0m\n\u001b[0;32m   1099\u001b[0m     \u001b[1;32mif\u001b[0m \u001b[0mself\u001b[0m\u001b[1;33m.\u001b[0m\u001b[0mverbose\u001b[0m \u001b[1;33m==\u001b[0m \u001b[1;36m1\u001b[0m\u001b[1;33m:\u001b[0m\u001b[1;33m\u001b[0m\u001b[1;33m\u001b[0m\u001b[0m\n\u001b[0;32m   1100\u001b[0m       \u001b[1;31m# Only block async when verbose = 1.\u001b[0m\u001b[1;33m\u001b[0m\u001b[1;33m\u001b[0m\u001b[1;33m\u001b[0m\u001b[0m\n\u001b[1;32m-> 1101\u001b[1;33m       \u001b[0mlogs\u001b[0m \u001b[1;33m=\u001b[0m \u001b[0mtf_utils\u001b[0m\u001b[1;33m.\u001b[0m\u001b[0msync_to_numpy_or_python_type\u001b[0m\u001b[1;33m(\u001b[0m\u001b[0mlogs\u001b[0m\u001b[1;33m)\u001b[0m\u001b[1;33m\u001b[0m\u001b[1;33m\u001b[0m\u001b[0m\n\u001b[0m\u001b[0;32m   1102\u001b[0m       \u001b[0mself\u001b[0m\u001b[1;33m.\u001b[0m\u001b[0mprogbar\u001b[0m\u001b[1;33m.\u001b[0m\u001b[0mupdate\u001b[0m\u001b[1;33m(\u001b[0m\u001b[0mself\u001b[0m\u001b[1;33m.\u001b[0m\u001b[0mseen\u001b[0m\u001b[1;33m,\u001b[0m \u001b[0mlist\u001b[0m\u001b[1;33m(\u001b[0m\u001b[0mlogs\u001b[0m\u001b[1;33m.\u001b[0m\u001b[0mitems\u001b[0m\u001b[1;33m(\u001b[0m\u001b[1;33m)\u001b[0m\u001b[1;33m)\u001b[0m\u001b[1;33m,\u001b[0m \u001b[0mfinalize\u001b[0m\u001b[1;33m=\u001b[0m\u001b[1;32mFalse\u001b[0m\u001b[1;33m)\u001b[0m\u001b[1;33m\u001b[0m\u001b[1;33m\u001b[0m\u001b[0m\n\u001b[0;32m   1103\u001b[0m \u001b[1;33m\u001b[0m\u001b[0m\n",
      "\u001b[1;32m~\\tf2\\lib\\site-packages\\tensorflow\\python\\keras\\utils\\tf_utils.py\u001b[0m in \u001b[0;36msync_to_numpy_or_python_type\u001b[1;34m(tensors)\u001b[0m\n\u001b[0;32m    517\u001b[0m     \u001b[1;32mreturn\u001b[0m \u001b[0mt\u001b[0m  \u001b[1;31m# Don't turn ragged or sparse tensors to NumPy.\u001b[0m\u001b[1;33m\u001b[0m\u001b[1;33m\u001b[0m\u001b[0m\n\u001b[0;32m    518\u001b[0m \u001b[1;33m\u001b[0m\u001b[0m\n\u001b[1;32m--> 519\u001b[1;33m   \u001b[1;32mreturn\u001b[0m \u001b[0mnest\u001b[0m\u001b[1;33m.\u001b[0m\u001b[0mmap_structure\u001b[0m\u001b[1;33m(\u001b[0m\u001b[0m_to_single_numpy_or_python_type\u001b[0m\u001b[1;33m,\u001b[0m \u001b[0mtensors\u001b[0m\u001b[1;33m)\u001b[0m\u001b[1;33m\u001b[0m\u001b[1;33m\u001b[0m\u001b[0m\n\u001b[0m\u001b[0;32m    520\u001b[0m \u001b[1;33m\u001b[0m\u001b[0m\n\u001b[0;32m    521\u001b[0m \u001b[1;33m\u001b[0m\u001b[0m\n",
      "\u001b[1;32m~\\tf2\\lib\\site-packages\\tensorflow\\python\\util\\nest.py\u001b[0m in \u001b[0;36mmap_structure\u001b[1;34m(func, *structure, **kwargs)\u001b[0m\n\u001b[0;32m    865\u001b[0m \u001b[1;33m\u001b[0m\u001b[0m\n\u001b[0;32m    866\u001b[0m   return pack_sequence_as(\n\u001b[1;32m--> 867\u001b[1;33m       \u001b[0mstructure\u001b[0m\u001b[1;33m[\u001b[0m\u001b[1;36m0\u001b[0m\u001b[1;33m]\u001b[0m\u001b[1;33m,\u001b[0m \u001b[1;33m[\u001b[0m\u001b[0mfunc\u001b[0m\u001b[1;33m(\u001b[0m\u001b[1;33m*\u001b[0m\u001b[0mx\u001b[0m\u001b[1;33m)\u001b[0m \u001b[1;32mfor\u001b[0m \u001b[0mx\u001b[0m \u001b[1;32min\u001b[0m \u001b[0mentries\u001b[0m\u001b[1;33m]\u001b[0m\u001b[1;33m,\u001b[0m\u001b[1;33m\u001b[0m\u001b[1;33m\u001b[0m\u001b[0m\n\u001b[0m\u001b[0;32m    868\u001b[0m       expand_composites=expand_composites)\n\u001b[0;32m    869\u001b[0m \u001b[1;33m\u001b[0m\u001b[0m\n",
      "\u001b[1;32m~\\tf2\\lib\\site-packages\\tensorflow\\python\\util\\nest.py\u001b[0m in \u001b[0;36m<listcomp>\u001b[1;34m(.0)\u001b[0m\n\u001b[0;32m    865\u001b[0m \u001b[1;33m\u001b[0m\u001b[0m\n\u001b[0;32m    866\u001b[0m   return pack_sequence_as(\n\u001b[1;32m--> 867\u001b[1;33m       \u001b[0mstructure\u001b[0m\u001b[1;33m[\u001b[0m\u001b[1;36m0\u001b[0m\u001b[1;33m]\u001b[0m\u001b[1;33m,\u001b[0m \u001b[1;33m[\u001b[0m\u001b[0mfunc\u001b[0m\u001b[1;33m(\u001b[0m\u001b[1;33m*\u001b[0m\u001b[0mx\u001b[0m\u001b[1;33m)\u001b[0m \u001b[1;32mfor\u001b[0m \u001b[0mx\u001b[0m \u001b[1;32min\u001b[0m \u001b[0mentries\u001b[0m\u001b[1;33m]\u001b[0m\u001b[1;33m,\u001b[0m\u001b[1;33m\u001b[0m\u001b[1;33m\u001b[0m\u001b[0m\n\u001b[0m\u001b[0;32m    868\u001b[0m       expand_composites=expand_composites)\n\u001b[0;32m    869\u001b[0m \u001b[1;33m\u001b[0m\u001b[0m\n",
      "\u001b[1;32m~\\tf2\\lib\\site-packages\\tensorflow\\python\\keras\\utils\\tf_utils.py\u001b[0m in \u001b[0;36m_to_single_numpy_or_python_type\u001b[1;34m(t)\u001b[0m\n\u001b[0;32m    513\u001b[0m   \u001b[1;32mdef\u001b[0m \u001b[0m_to_single_numpy_or_python_type\u001b[0m\u001b[1;33m(\u001b[0m\u001b[0mt\u001b[0m\u001b[1;33m)\u001b[0m\u001b[1;33m:\u001b[0m\u001b[1;33m\u001b[0m\u001b[1;33m\u001b[0m\u001b[0m\n\u001b[0;32m    514\u001b[0m     \u001b[1;32mif\u001b[0m \u001b[0misinstance\u001b[0m\u001b[1;33m(\u001b[0m\u001b[0mt\u001b[0m\u001b[1;33m,\u001b[0m \u001b[0mops\u001b[0m\u001b[1;33m.\u001b[0m\u001b[0mTensor\u001b[0m\u001b[1;33m)\u001b[0m\u001b[1;33m:\u001b[0m\u001b[1;33m\u001b[0m\u001b[1;33m\u001b[0m\u001b[0m\n\u001b[1;32m--> 515\u001b[1;33m       \u001b[0mx\u001b[0m \u001b[1;33m=\u001b[0m \u001b[0mt\u001b[0m\u001b[1;33m.\u001b[0m\u001b[0mnumpy\u001b[0m\u001b[1;33m(\u001b[0m\u001b[1;33m)\u001b[0m\u001b[1;33m\u001b[0m\u001b[1;33m\u001b[0m\u001b[0m\n\u001b[0m\u001b[0;32m    516\u001b[0m       \u001b[1;32mreturn\u001b[0m \u001b[0mx\u001b[0m\u001b[1;33m.\u001b[0m\u001b[0mitem\u001b[0m\u001b[1;33m(\u001b[0m\u001b[1;33m)\u001b[0m \u001b[1;32mif\u001b[0m \u001b[0mnp\u001b[0m\u001b[1;33m.\u001b[0m\u001b[0mndim\u001b[0m\u001b[1;33m(\u001b[0m\u001b[0mx\u001b[0m\u001b[1;33m)\u001b[0m \u001b[1;33m==\u001b[0m \u001b[1;36m0\u001b[0m \u001b[1;32melse\u001b[0m \u001b[0mx\u001b[0m\u001b[1;33m\u001b[0m\u001b[1;33m\u001b[0m\u001b[0m\n\u001b[0;32m    517\u001b[0m     \u001b[1;32mreturn\u001b[0m \u001b[0mt\u001b[0m  \u001b[1;31m# Don't turn ragged or sparse tensors to NumPy.\u001b[0m\u001b[1;33m\u001b[0m\u001b[1;33m\u001b[0m\u001b[0m\n",
      "\u001b[1;32m~\\tf2\\lib\\site-packages\\tensorflow\\python\\framework\\ops.py\u001b[0m in \u001b[0;36mnumpy\u001b[1;34m(self)\u001b[0m\n\u001b[0;32m   1092\u001b[0m     \"\"\"\n\u001b[0;32m   1093\u001b[0m     \u001b[1;31m# TODO(slebedev): Consider avoiding a copy for non-CPU or remote tensors.\u001b[0m\u001b[1;33m\u001b[0m\u001b[1;33m\u001b[0m\u001b[1;33m\u001b[0m\u001b[0m\n\u001b[1;32m-> 1094\u001b[1;33m     \u001b[0mmaybe_arr\u001b[0m \u001b[1;33m=\u001b[0m \u001b[0mself\u001b[0m\u001b[1;33m.\u001b[0m\u001b[0m_numpy\u001b[0m\u001b[1;33m(\u001b[0m\u001b[1;33m)\u001b[0m  \u001b[1;31m# pylint: disable=protected-access\u001b[0m\u001b[1;33m\u001b[0m\u001b[1;33m\u001b[0m\u001b[0m\n\u001b[0m\u001b[0;32m   1095\u001b[0m     \u001b[1;32mreturn\u001b[0m \u001b[0mmaybe_arr\u001b[0m\u001b[1;33m.\u001b[0m\u001b[0mcopy\u001b[0m\u001b[1;33m(\u001b[0m\u001b[1;33m)\u001b[0m \u001b[1;32mif\u001b[0m \u001b[0misinstance\u001b[0m\u001b[1;33m(\u001b[0m\u001b[0mmaybe_arr\u001b[0m\u001b[1;33m,\u001b[0m \u001b[0mnp\u001b[0m\u001b[1;33m.\u001b[0m\u001b[0mndarray\u001b[0m\u001b[1;33m)\u001b[0m \u001b[1;32melse\u001b[0m \u001b[0mmaybe_arr\u001b[0m\u001b[1;33m\u001b[0m\u001b[1;33m\u001b[0m\u001b[0m\n\u001b[0;32m   1096\u001b[0m \u001b[1;33m\u001b[0m\u001b[0m\n",
      "\u001b[1;32m~\\tf2\\lib\\site-packages\\tensorflow\\python\\framework\\ops.py\u001b[0m in \u001b[0;36m_numpy\u001b[1;34m(self)\u001b[0m\n\u001b[0;32m   1058\u001b[0m   \u001b[1;32mdef\u001b[0m \u001b[0m_numpy\u001b[0m\u001b[1;33m(\u001b[0m\u001b[0mself\u001b[0m\u001b[1;33m)\u001b[0m\u001b[1;33m:\u001b[0m\u001b[1;33m\u001b[0m\u001b[1;33m\u001b[0m\u001b[0m\n\u001b[0;32m   1059\u001b[0m     \u001b[1;32mtry\u001b[0m\u001b[1;33m:\u001b[0m\u001b[1;33m\u001b[0m\u001b[1;33m\u001b[0m\u001b[0m\n\u001b[1;32m-> 1060\u001b[1;33m       \u001b[1;32mreturn\u001b[0m \u001b[0mself\u001b[0m\u001b[1;33m.\u001b[0m\u001b[0m_numpy_internal\u001b[0m\u001b[1;33m(\u001b[0m\u001b[1;33m)\u001b[0m\u001b[1;33m\u001b[0m\u001b[1;33m\u001b[0m\u001b[0m\n\u001b[0m\u001b[0;32m   1061\u001b[0m     \u001b[1;32mexcept\u001b[0m \u001b[0mcore\u001b[0m\u001b[1;33m.\u001b[0m\u001b[0m_NotOkStatusException\u001b[0m \u001b[1;32mas\u001b[0m \u001b[0me\u001b[0m\u001b[1;33m:\u001b[0m  \u001b[1;31m# pylint: disable=protected-access\u001b[0m\u001b[1;33m\u001b[0m\u001b[1;33m\u001b[0m\u001b[0m\n\u001b[0;32m   1062\u001b[0m       \u001b[0msix\u001b[0m\u001b[1;33m.\u001b[0m\u001b[0mraise_from\u001b[0m\u001b[1;33m(\u001b[0m\u001b[0mcore\u001b[0m\u001b[1;33m.\u001b[0m\u001b[0m_status_to_exception\u001b[0m\u001b[1;33m(\u001b[0m\u001b[0me\u001b[0m\u001b[1;33m.\u001b[0m\u001b[0mcode\u001b[0m\u001b[1;33m,\u001b[0m \u001b[0me\u001b[0m\u001b[1;33m.\u001b[0m\u001b[0mmessage\u001b[0m\u001b[1;33m)\u001b[0m\u001b[1;33m,\u001b[0m \u001b[1;32mNone\u001b[0m\u001b[1;33m)\u001b[0m  \u001b[1;31m# pylint: disable=protected-access\u001b[0m\u001b[1;33m\u001b[0m\u001b[1;33m\u001b[0m\u001b[0m\n",
      "\u001b[1;31mKeyboardInterrupt\u001b[0m: "
     ]
    }
   ],
   "source": [
    "session_id = 1  # 訓練任務的id\n",
    "for ia in hparam_ia.domain.values:\n",
    "    for bn in hparam_bn.domain.values:\n",
    "        for init in hparam_init.domain.values:\n",
    "            for lr in hparam_lr.domain.values:\n",
    "                # 顯示目前訓練任務id\n",
    "                print('--- Running training session {}'.format(session_id))\n",
    "                # 設定本次訓練的超參數\n",
    "                hparams = {hparam_ia: ia, hparam_bn: bn, hparam_init: init, hparam_lr: lr}\n",
    "                # 儲放紀錄檔的位置\n",
    "                logs_dir = os.path.join(\"lab7-logs-hparams\", \"run-{}\".format(session_id))\n",
    "                # 建立、編譯及訓練網路模型\n",
    "                train_test_model(logs_dir, hparams)\n",
    "                session_id += 1  # id+1"
   ]
  },
  {
   "cell_type": "code",
   "execution_count": 25,
   "id": "69402efb",
   "metadata": {},
   "outputs": [
    {
     "name": "stdout",
     "output_type": "stream",
     "text": [
      "The tensorboard extension is already loaded. To reload it, use:\n",
      "  %reload_ext tensorboard\n"
     ]
    },
    {
     "data": {
      "text/html": [
       "\n",
       "      <iframe id=\"tensorboard-frame-3862df0183f8b19b\" width=\"100%\" height=\"800\" frameborder=\"0\">\n",
       "      </iframe>\n",
       "      <script>\n",
       "        (function() {\n",
       "          const frame = document.getElementById(\"tensorboard-frame-3862df0183f8b19b\");\n",
       "          const url = new URL(\"/\", window.location);\n",
       "          const port = 9875;\n",
       "          if (port) {\n",
       "            url.port = port;\n",
       "          }\n",
       "          frame.src = url;\n",
       "        })();\n",
       "      </script>\n",
       "    "
      ],
      "text/plain": [
       "<IPython.core.display.HTML object>"
      ]
     },
     "metadata": {},
     "output_type": "display_data"
    }
   ],
   "source": [
    "%load_ext tensorboard\n",
    "%tensorboard --port 9875 --logdir lab7-logs-images"
   ]
  },
  {
   "cell_type": "code",
   "execution_count": 26,
   "id": "e19d2810",
   "metadata": {},
   "outputs": [
    {
     "data": {
      "text/html": [
       "\n",
       "      <iframe id=\"tensorboard-frame-7d90f37c4b250894\" width=\"100%\" height=\"800\" frameborder=\"0\">\n",
       "      </iframe>\n",
       "      <script>\n",
       "        (function() {\n",
       "          const frame = document.getElementById(\"tensorboard-frame-7d90f37c4b250894\");\n",
       "          const url = new URL(\"/\", window.location);\n",
       "          const port = 9876;\n",
       "          if (port) {\n",
       "            url.port = port;\n",
       "          }\n",
       "          frame.src = url;\n",
       "        })();\n",
       "      </script>\n",
       "    "
      ],
      "text/plain": [
       "<IPython.core.display.HTML object>"
      ]
     },
     "metadata": {},
     "output_type": "display_data"
    }
   ],
   "source": [
    "%tensorboard --port 9876 --logdir lab7-logs-hparams"
   ]
  },
  {
   "cell_type": "code",
   "execution_count": null,
   "id": "ff7ae3ce",
   "metadata": {},
   "outputs": [],
   "source": []
  }
 ],
 "metadata": {
  "kernelspec": {
   "display_name": "tf2",
   "language": "python",
   "name": "tf2"
  },
  "language_info": {
   "codemirror_mode": {
    "name": "ipython",
    "version": 3
   },
   "file_extension": ".py",
   "mimetype": "text/x-python",
   "name": "python",
   "nbconvert_exporter": "python",
   "pygments_lexer": "ipython3",
   "version": "3.9.6"
  }
 },
 "nbformat": 4,
 "nbformat_minor": 5
}
