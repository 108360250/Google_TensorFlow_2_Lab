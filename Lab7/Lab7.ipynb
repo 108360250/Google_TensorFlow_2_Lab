{
 "cells": [
  {
   "cell_type": "code",
   "execution_count": 1,
   "id": "51645b6d",
   "metadata": {},
   "outputs": [],
   "source": [
    "import os\n",
    "import io\n",
    "import numpy as np\n",
    "import tensorflow as tf\n",
    "import tensorflow_datasets as tfds\n",
    "import matplotlib.pyplot as plt\n",
    "from tensorflow import keras\n",
    "from tensorflow.keras import layers\n",
    "from preprocessing import parse_aug_fn, parse_fn"
   ]
  },
  {
   "cell_type": "code",
   "execution_count": 2,
   "id": "afa241bd",
   "metadata": {},
   "outputs": [
    {
     "name": "stdout",
     "output_type": "stream",
     "text": [
      "[[2 0 0]\n",
      " [0 2 1]\n",
      " [1 0 2]]\n"
     ]
    }
   ],
   "source": [
    "y_true = [2, 1, 0, 2, 2, 0, 1, 1]\n",
    "y_pred = [0, 1, 0, 2, 2, 0, 2, 1]\n",
    "cm = tf.math.confusion_matrix(y_true, y_pred, num_classes=3).numpy()\n",
    "print(cm)"
   ]
  },
  {
   "cell_type": "code",
   "execution_count": 3,
   "id": "26414b5e",
   "metadata": {},
   "outputs": [
    {
     "data": {
      "image/png": "[encoded data removed]",
      "text/plain": [
       "<Figure size 576x576 with 2 Axes>"
      ]
     },
     "metadata": {
      "needs_background": "light"
     },
     "output_type": "display_data"
    }
   ],
   "source": [
    "def plot_confusion_matrix(cm, class_names):\n",
    "    \"\"\"\n",
    "    產生一張圖表示的Confusion matrix\n",
    "    \n",
    "    Args:\n",
    "    cm (shape = [n, n]): 傳入Confusion matrix\n",
    "    class_names (shape = [n]): 傳入類別\n",
    "    \"\"\"\n",
    "    # 標準化confusion matrix.\n",
    "    cm = np.around(cm.astype('float') / cm.sum(axis=1)[:, np.newaxis], decimals=2)\n",
    "    \n",
    "    figure = plt.figure(figsize=(8, 8))\n",
    "    plt.imshow(cm, interpolation='nearest', cmap=plt.cm.Blues)\n",
    "    plt.title(\"Confusion matrix\")\n",
    "    tick_index = np.arange(len(class_names))\n",
    "    # matplotlib 3.1.1 bug，如果不設定ylim在[-0.5~2.5]，圖片y軸範圍會被縮小成[0~2]\n",
    "    plt.ylim([-0.5, 2.5])\n",
    "    # Y軸顯示類別名稱\n",
    "    plt.yticks(tick_index, class_names)\n",
    "    # X軸顯示類別名稱，並將類別名稱旋轉45度(避免文字重疊)\n",
    "    plt.xticks(tick_index, class_names, rotation=45)\n",
    "    # 再圖片右邊產生一條顏色刻度條\n",
    "    plt.colorbar()\n",
    "\n",
    "    # 在每一格Confusion matrix輸入預測百分比\n",
    "    threshold = cm.max() / 2.\n",
    "    for i in range(cm.shape[0]):\n",
    "        for j in range(cm.shape[1]):\n",
    "            # 如果格內背景顏色太深使用白色文字顯示，反之使用黑色文字\n",
    "            color = \"white\" if cm[i, j] > threshold else \"black\"\n",
    "            plt.text(j, i, cm[i, j], horizontalalignment=\"center\", color=color)\n",
    "            \n",
    "    plt.ylabel('True label')\n",
    "    plt.xlabel('Predicted label')\n",
    "    # 將圖片的位置進行調整，避免x或y軸的文字被遮擋\n",
    "    plt.tight_layout()\n",
    "    return figure\n",
    "\n",
    "# Example\n",
    "img = plot_confusion_matrix(cm, [0, 1, 2])"
   ]
  },
  {
   "cell_type": "code",
   "execution_count": 4,
   "id": "ba66b0a1",
   "metadata": {},
   "outputs": [],
   "source": [
    "def plot_to_image(figure):\n",
    "    \"\"\"將Matplotlib plot的圖片轉TensorFlow的張量格式\"\"\"\n",
    "    # 將Matplotlib plot的圖片以PNG的格式儲存到記憶體中\n",
    "    buf = io.BytesIO()\n",
    "    plt.savefig(buf, format='png')\n",
    "    # 關閉plt圖片，防止圖片直接顯示在Jupyter notebook介面中\n",
    "    plt.close(figure)\n",
    "    buf.seek(0)\n",
    "    # 將記憶體中的資料轉成TensorFlow格式\n",
    "    image = tf.image.decode_png(buf.getvalue(), channels=4)\n",
    "    image = tf.expand_dims(image, 0)\n",
    "    return image"
   ]
  },
  {
   "cell_type": "code",
   "execution_count": 5,
   "id": "5eebf7f2",
   "metadata": {},
   "outputs": [],
   "source": [
    "# Example\n",
    "y_true = [2, 0, 2, 2, 0, 1]\n",
    "y_pred = [0, 0, 2, 2, 0, 2]\n",
    "cm = tf.math.confusion_matrix(y_true, y_pred, num_classes=3).numpy()\n",
    "img = plot_confusion_matrix(cm, [0, 1, 2])\n",
    "img_show = plot_to_image(img)"
   ]
  },
  {
   "cell_type": "code",
   "execution_count": 6,
   "id": "b38bd28c",
   "metadata": {},
   "outputs": [],
   "source": [
    "class ConfusionMatrix(tf.keras.callbacks.Callback):\n",
    "    def __init__(self, log_dir, test_data, class_name):\n",
    "        super(ConfusionMatrix, self).__init__()\n",
    "        self.log_dir = log_dir\n",
    "        self.test_data = test_data\n",
    "        self.class_names = class_name\n",
    "        self.num_classes = len(class_name)\n",
    "\n",
    "    def on_train_begin(self, logs=None):\n",
    "        path = os.path.join(self.log_dir, 'confusion_matrix')\n",
    "        # 創建TensorBoard紀錄檔\n",
    "        self.writer = tf.summary.create_file_writer(path)\n",
    "\n",
    "    def on_epoch_end(self, epoch, logs=None):\n",
    "        # 計算Confusion matrix\n",
    "        total_cm = np.zeros([10, 10])\n",
    "        for x, y_true in self.test_data:\n",
    "            y_pred = self.model.predict(x)\n",
    "            y_pred = np.argmax(y_pred, axis=1)\n",
    "            y_true = np.argmax(y_true, axis=1)\n",
    "            cm = tf.math.confusion_matrix(y_true, y_pred, num_classes=self.num_classes).numpy()\n",
    "            total_cm += cm\n",
    "        \n",
    "        # 將Confusion matrix轉成Matplotlib圖片\n",
    "        figure = plot_confusion_matrix(total_cm, class_names=self.class_names)\n",
    "        # 將Matplotlib圖片轉成TensorFlow型式的圖片\n",
    "        cm_image = plot_to_image(figure)\n",
    "\n",
    "        # 將圖片紀錄在TensorBoard log中\n",
    "        with self.writer.as_default():\n",
    "            tf.summary.image(\"Confusion Matrix\", cm_image, step=epoch)"
   ]
  },
  {
   "cell_type": "code",
   "execution_count": 7,
   "id": "95e148d9",
   "metadata": {
    "scrolled": false
   },
   "outputs": [
    {
     "ename": "ParseError",
     "evalue": "Failed to construct dataset cifar10Message type \"tensorflow_datasets.DatasetInfo\" has no field named \"moduleName\".\n Available Fields(except extensions): ['name', 'description', 'version', 'citation', 'sizeInBytes', 'downloadSize', 'location', 'downloadChecksums', 'schema', 'splits', 'supervisedKeys', 'redistributionInfo']",
     "output_type": "error",
     "traceback": [
      "\u001b[1;31m---------------------------------------------------------------------------\u001b[0m",
      "\u001b[1;31mParseError\u001b[0m                                Traceback (most recent call last)",
      "\u001b[1;32m~\\tf2\\lib\\site-packages\\google\\protobuf\\json_format.py\u001b[0m in \u001b[0;36m_ConvertFieldValuePair\u001b[1;34m(self, js, message)\u001b[0m\n\u001b[0;32m    527\u001b[0m                    \u001b[0mmessage_descriptor\u001b[0m\u001b[1;33m.\u001b[0m\u001b[0mfull_name\u001b[0m\u001b[1;33m,\u001b[0m \u001b[0mname\u001b[0m\u001b[1;33m,\u001b[0m\u001b[1;33m\u001b[0m\u001b[1;33m\u001b[0m\u001b[0m\n\u001b[1;32m--> 528\u001b[1;33m                    [f.json_name for f in message_descriptor.fields]))\n\u001b[0m\u001b[0;32m    529\u001b[0m         \u001b[1;32mif\u001b[0m \u001b[0mname\u001b[0m \u001b[1;32min\u001b[0m \u001b[0mnames\u001b[0m\u001b[1;33m:\u001b[0m\u001b[1;33m\u001b[0m\u001b[1;33m\u001b[0m\u001b[0m\n",
      "\u001b[1;31mParseError\u001b[0m: Message type \"tensorflow_datasets.DatasetInfo\" has no field named \"moduleName\".\n Available Fields(except extensions): ['name', 'description', 'version', 'citation', 'sizeInBytes', 'downloadSize', 'location', 'downloadChecksums', 'schema', 'splits', 'supervisedKeys', 'redistributionInfo']",
      "\nDuring handling of the above exception, another exception occurred:\n",
      "\u001b[1;31mParseError\u001b[0m                                Traceback (most recent call last)",
      "\u001b[1;32m~\\tf2\\lib\\site-packages\\tensorflow_datasets\\core\\utils\\py_utils.py\u001b[0m in \u001b[0;36mtry_reraise\u001b[1;34m(*args, **kwargs)\u001b[0m\n\u001b[0;32m    398\u001b[0m   \u001b[1;32mtry\u001b[0m\u001b[1;33m:\u001b[0m\u001b[1;33m\u001b[0m\u001b[1;33m\u001b[0m\u001b[0m\n\u001b[1;32m--> 399\u001b[1;33m     \u001b[1;32myield\u001b[0m\u001b[1;33m\u001b[0m\u001b[1;33m\u001b[0m\u001b[0m\n\u001b[0m\u001b[0;32m    400\u001b[0m   \u001b[1;32mexcept\u001b[0m \u001b[0mException\u001b[0m\u001b[1;33m:\u001b[0m   \u001b[1;31m# pylint: disable=broad-except\u001b[0m\u001b[1;33m\u001b[0m\u001b[1;33m\u001b[0m\u001b[0m\n",
      "\u001b[1;32m~\\tf2\\lib\\site-packages\\tensorflow_datasets\\core\\registered.py\u001b[0m in \u001b[0;36mbuilder\u001b[1;34m(name, **builder_init_kwargs)\u001b[0m\n\u001b[0;32m    243\u001b[0m       prefix=\"Failed to construct dataset {}\".format(name)):\n\u001b[1;32m--> 244\u001b[1;33m     \u001b[1;32mreturn\u001b[0m \u001b[0mbuilder_cls\u001b[0m\u001b[1;33m(\u001b[0m\u001b[0mname\u001b[0m\u001b[1;33m)\u001b[0m\u001b[1;33m(\u001b[0m\u001b[1;33m**\u001b[0m\u001b[0mbuilder_kwargs\u001b[0m\u001b[1;33m)\u001b[0m\u001b[1;33m\u001b[0m\u001b[1;33m\u001b[0m\u001b[0m\n\u001b[0m\u001b[0;32m    245\u001b[0m \u001b[1;33m\u001b[0m\u001b[0m\n",
      "\u001b[1;32m~\\tf2\\lib\\site-packages\\tensorflow_datasets\\core\\api_utils.py\u001b[0m in \u001b[0;36mdisallow_positional_args_dec\u001b[1;34m(fn, instance, args, kwargs)\u001b[0m\n\u001b[0;32m     68\u001b[0m     \u001b[0m_check_required\u001b[0m\u001b[1;33m(\u001b[0m\u001b[0mfn\u001b[0m\u001b[1;33m,\u001b[0m \u001b[0mkwargs\u001b[0m\u001b[1;33m)\u001b[0m\u001b[1;33m\u001b[0m\u001b[1;33m\u001b[0m\u001b[0m\n\u001b[1;32m---> 69\u001b[1;33m     \u001b[1;32mreturn\u001b[0m \u001b[0mfn\u001b[0m\u001b[1;33m(\u001b[0m\u001b[1;33m*\u001b[0m\u001b[0margs\u001b[0m\u001b[1;33m,\u001b[0m \u001b[1;33m**\u001b[0m\u001b[0mkwargs\u001b[0m\u001b[1;33m)\u001b[0m\u001b[1;33m\u001b[0m\u001b[1;33m\u001b[0m\u001b[0m\n\u001b[0m\u001b[0;32m     70\u001b[0m \u001b[1;33m\u001b[0m\u001b[0m\n",
      "\u001b[1;32m~\\tf2\\lib\\site-packages\\tensorflow_datasets\\core\\dataset_builder.py\u001b[0m in \u001b[0;36m__init__\u001b[1;34m(self, data_dir, config, version)\u001b[0m\n\u001b[0;32m    203\u001b[0m     \u001b[1;32mif\u001b[0m \u001b[0mtf\u001b[0m\u001b[1;33m.\u001b[0m\u001b[0mio\u001b[0m\u001b[1;33m.\u001b[0m\u001b[0mgfile\u001b[0m\u001b[1;33m.\u001b[0m\u001b[0mexists\u001b[0m\u001b[1;33m(\u001b[0m\u001b[0mself\u001b[0m\u001b[1;33m.\u001b[0m\u001b[0m_data_dir\u001b[0m\u001b[1;33m)\u001b[0m\u001b[1;33m:\u001b[0m\u001b[1;33m\u001b[0m\u001b[1;33m\u001b[0m\u001b[0m\n\u001b[1;32m--> 204\u001b[1;33m       \u001b[0mself\u001b[0m\u001b[1;33m.\u001b[0m\u001b[0minfo\u001b[0m\u001b[1;33m.\u001b[0m\u001b[0mread_from_directory\u001b[0m\u001b[1;33m(\u001b[0m\u001b[0mself\u001b[0m\u001b[1;33m.\u001b[0m\u001b[0m_data_dir\u001b[0m\u001b[1;33m)\u001b[0m\u001b[1;33m\u001b[0m\u001b[1;33m\u001b[0m\u001b[0m\n\u001b[0m\u001b[0;32m    205\u001b[0m     \u001b[1;32melse\u001b[0m\u001b[1;33m:\u001b[0m  \u001b[1;31m# Use the code version (do not restore data)\u001b[0m\u001b[1;33m\u001b[0m\u001b[1;33m\u001b[0m\u001b[0m\n",
      "\u001b[1;32m~\\tf2\\lib\\site-packages\\tensorflow_datasets\\core\\dataset_info.py\u001b[0m in \u001b[0;36mread_from_directory\u001b[1;34m(self, dataset_info_dir)\u001b[0m\n\u001b[0;32m    362\u001b[0m     \u001b[1;31m# Load the metadata from disk\u001b[0m\u001b[1;33m\u001b[0m\u001b[1;33m\u001b[0m\u001b[1;33m\u001b[0m\u001b[0m\n\u001b[1;32m--> 363\u001b[1;33m     \u001b[0mparsed_proto\u001b[0m \u001b[1;33m=\u001b[0m \u001b[0mread_from_json\u001b[0m\u001b[1;33m(\u001b[0m\u001b[0mjson_filename\u001b[0m\u001b[1;33m)\u001b[0m\u001b[1;33m\u001b[0m\u001b[1;33m\u001b[0m\u001b[0m\n\u001b[0m\u001b[0;32m    364\u001b[0m \u001b[1;33m\u001b[0m\u001b[0m\n",
      "\u001b[1;32m~\\tf2\\lib\\site-packages\\tensorflow_datasets\\core\\dataset_info.py\u001b[0m in \u001b[0;36mread_from_json\u001b[1;34m(json_filename)\u001b[0m\n\u001b[0;32m    514\u001b[0m   parsed_proto = json_format.Parse(dataset_info_json_str,\n\u001b[1;32m--> 515\u001b[1;33m                                    dataset_info_pb2.DatasetInfo())\n\u001b[0m\u001b[0;32m    516\u001b[0m   \u001b[1;32mreturn\u001b[0m \u001b[0mparsed_proto\u001b[0m\u001b[1;33m\u001b[0m\u001b[1;33m\u001b[0m\u001b[0m\n",
      "\u001b[1;32m~\\tf2\\lib\\site-packages\\google\\protobuf\\json_format.py\u001b[0m in \u001b[0;36mParse\u001b[1;34m(text, message, ignore_unknown_fields, descriptor_pool)\u001b[0m\n\u001b[0;32m    433\u001b[0m     \u001b[1;32mraise\u001b[0m \u001b[0mParseError\u001b[0m\u001b[1;33m(\u001b[0m\u001b[1;34m'Failed to load JSON: {0}.'\u001b[0m\u001b[1;33m.\u001b[0m\u001b[0mformat\u001b[0m\u001b[1;33m(\u001b[0m\u001b[0mstr\u001b[0m\u001b[1;33m(\u001b[0m\u001b[0me\u001b[0m\u001b[1;33m)\u001b[0m\u001b[1;33m)\u001b[0m\u001b[1;33m)\u001b[0m\u001b[1;33m\u001b[0m\u001b[1;33m\u001b[0m\u001b[0m\n\u001b[1;32m--> 434\u001b[1;33m   \u001b[1;32mreturn\u001b[0m \u001b[0mParseDict\u001b[0m\u001b[1;33m(\u001b[0m\u001b[0mjs\u001b[0m\u001b[1;33m,\u001b[0m \u001b[0mmessage\u001b[0m\u001b[1;33m,\u001b[0m \u001b[0mignore_unknown_fields\u001b[0m\u001b[1;33m,\u001b[0m \u001b[0mdescriptor_pool\u001b[0m\u001b[1;33m)\u001b[0m\u001b[1;33m\u001b[0m\u001b[1;33m\u001b[0m\u001b[0m\n\u001b[0m\u001b[0;32m    435\u001b[0m \u001b[1;33m\u001b[0m\u001b[0m\n",
      "\u001b[1;32m~\\tf2\\lib\\site-packages\\google\\protobuf\\json_format.py\u001b[0m in \u001b[0;36mParseDict\u001b[1;34m(js_dict, message, ignore_unknown_fields, descriptor_pool)\u001b[0m\n\u001b[0;32m    453\u001b[0m   \u001b[0mparser\u001b[0m \u001b[1;33m=\u001b[0m \u001b[0m_Parser\u001b[0m\u001b[1;33m(\u001b[0m\u001b[0mignore_unknown_fields\u001b[0m\u001b[1;33m,\u001b[0m \u001b[0mdescriptor_pool\u001b[0m\u001b[1;33m)\u001b[0m\u001b[1;33m\u001b[0m\u001b[1;33m\u001b[0m\u001b[0m\n\u001b[1;32m--> 454\u001b[1;33m   \u001b[0mparser\u001b[0m\u001b[1;33m.\u001b[0m\u001b[0mConvertMessage\u001b[0m\u001b[1;33m(\u001b[0m\u001b[0mjs_dict\u001b[0m\u001b[1;33m,\u001b[0m \u001b[0mmessage\u001b[0m\u001b[1;33m)\u001b[0m\u001b[1;33m\u001b[0m\u001b[1;33m\u001b[0m\u001b[0m\n\u001b[0m\u001b[0;32m    455\u001b[0m   \u001b[1;32mreturn\u001b[0m \u001b[0mmessage\u001b[0m\u001b[1;33m\u001b[0m\u001b[1;33m\u001b[0m\u001b[0m\n",
      "\u001b[1;32m~\\tf2\\lib\\site-packages\\google\\protobuf\\json_format.py\u001b[0m in \u001b[0;36mConvertMessage\u001b[1;34m(self, value, message)\u001b[0m\n\u001b[0;32m    484\u001b[0m     \u001b[1;32melse\u001b[0m\u001b[1;33m:\u001b[0m\u001b[1;33m\u001b[0m\u001b[1;33m\u001b[0m\u001b[0m\n\u001b[1;32m--> 485\u001b[1;33m       \u001b[0mself\u001b[0m\u001b[1;33m.\u001b[0m\u001b[0m_ConvertFieldValuePair\u001b[0m\u001b[1;33m(\u001b[0m\u001b[0mvalue\u001b[0m\u001b[1;33m,\u001b[0m \u001b[0mmessage\u001b[0m\u001b[1;33m)\u001b[0m\u001b[1;33m\u001b[0m\u001b[1;33m\u001b[0m\u001b[0m\n\u001b[0m\u001b[0;32m    486\u001b[0m \u001b[1;33m\u001b[0m\u001b[0m\n",
      "\u001b[1;32m~\\tf2\\lib\\site-packages\\google\\protobuf\\json_format.py\u001b[0m in \u001b[0;36m_ConvertFieldValuePair\u001b[1;34m(self, js, message)\u001b[0m\n\u001b[0;32m    598\u001b[0m         \u001b[1;32melse\u001b[0m\u001b[1;33m:\u001b[0m\u001b[1;33m\u001b[0m\u001b[1;33m\u001b[0m\u001b[0m\n\u001b[1;32m--> 599\u001b[1;33m           \u001b[1;32mraise\u001b[0m \u001b[0mParseError\u001b[0m\u001b[1;33m(\u001b[0m\u001b[0mstr\u001b[0m\u001b[1;33m(\u001b[0m\u001b[0me\u001b[0m\u001b[1;33m)\u001b[0m\u001b[1;33m)\u001b[0m\u001b[1;33m\u001b[0m\u001b[1;33m\u001b[0m\u001b[0m\n\u001b[0m\u001b[0;32m    600\u001b[0m       \u001b[1;32mexcept\u001b[0m \u001b[0mValueError\u001b[0m \u001b[1;32mas\u001b[0m \u001b[0me\u001b[0m\u001b[1;33m:\u001b[0m\u001b[1;33m\u001b[0m\u001b[1;33m\u001b[0m\u001b[0m\n",
      "\u001b[1;31mParseError\u001b[0m: Message type \"tensorflow_datasets.DatasetInfo\" has no field named \"moduleName\".\n Available Fields(except extensions): ['name', 'description', 'version', 'citation', 'sizeInBytes', 'downloadSize', 'location', 'downloadChecksums', 'schema', 'splits', 'supervisedKeys', 'redistributionInfo']",
      "\nDuring handling of the above exception, another exception occurred:\n",
      "\u001b[1;31mParseError\u001b[0m                                Traceback (most recent call last)",
      "\u001b[1;32m<ipython-input-7-b07595436cde>\u001b[0m in \u001b[0;36m<module>\u001b[1;34m\u001b[0m\n\u001b[0;32m      2\u001b[0m \u001b[0mtrain_split\u001b[0m\u001b[1;33m,\u001b[0m \u001b[0mvalid_split\u001b[0m \u001b[1;33m=\u001b[0m \u001b[1;33m[\u001b[0m\u001b[1;34m'train[:90%]'\u001b[0m\u001b[1;33m,\u001b[0m \u001b[1;34m'train[90%:]'\u001b[0m\u001b[1;33m]\u001b[0m\u001b[1;33m\u001b[0m\u001b[1;33m\u001b[0m\u001b[0m\n\u001b[0;32m      3\u001b[0m \u001b[1;31m# 取得訓練數據，並順便讀取data的資訊\u001b[0m\u001b[1;33m\u001b[0m\u001b[1;33m\u001b[0m\u001b[1;33m\u001b[0m\u001b[0m\n\u001b[1;32m----> 4\u001b[1;33m \u001b[0mtrain_data\u001b[0m\u001b[1;33m,\u001b[0m \u001b[0minfo\u001b[0m \u001b[1;33m=\u001b[0m \u001b[0mtfds\u001b[0m\u001b[1;33m.\u001b[0m\u001b[0mload\u001b[0m\u001b[1;33m(\u001b[0m\u001b[1;34m\"cifar10\"\u001b[0m\u001b[1;33m,\u001b[0m \u001b[0msplit\u001b[0m\u001b[1;33m=\u001b[0m\u001b[0mtrain_split\u001b[0m\u001b[1;33m,\u001b[0m \u001b[0mwith_info\u001b[0m\u001b[1;33m=\u001b[0m\u001b[1;32mTrue\u001b[0m\u001b[1;33m)\u001b[0m\u001b[1;33m\u001b[0m\u001b[1;33m\u001b[0m\u001b[0m\n\u001b[0m\u001b[0;32m      5\u001b[0m \u001b[1;31m# 取得驗證數據\u001b[0m\u001b[1;33m\u001b[0m\u001b[1;33m\u001b[0m\u001b[1;33m\u001b[0m\u001b[0m\n\u001b[0;32m      6\u001b[0m \u001b[0mvalid_data\u001b[0m \u001b[1;33m=\u001b[0m \u001b[0mtfds\u001b[0m\u001b[1;33m.\u001b[0m\u001b[0mload\u001b[0m\u001b[1;33m(\u001b[0m\u001b[1;34m\"cifar10\"\u001b[0m\u001b[1;33m,\u001b[0m \u001b[0msplit\u001b[0m\u001b[1;33m=\u001b[0m\u001b[0mvalid_split\u001b[0m\u001b[1;33m)\u001b[0m\u001b[1;33m\u001b[0m\u001b[1;33m\u001b[0m\u001b[0m\n",
      "\u001b[1;32m~\\tf2\\lib\\site-packages\\tensorflow_datasets\\core\\api_utils.py\u001b[0m in \u001b[0;36mdisallow_positional_args_dec\u001b[1;34m(fn, instance, args, kwargs)\u001b[0m\n\u001b[0;32m     67\u001b[0m     \u001b[0m_check_no_positional\u001b[0m\u001b[1;33m(\u001b[0m\u001b[0mfn\u001b[0m\u001b[1;33m,\u001b[0m \u001b[0margs\u001b[0m\u001b[1;33m,\u001b[0m \u001b[0mismethod\u001b[0m\u001b[1;33m,\u001b[0m \u001b[0mallowed\u001b[0m\u001b[1;33m=\u001b[0m\u001b[0mallowed\u001b[0m\u001b[1;33m)\u001b[0m\u001b[1;33m\u001b[0m\u001b[1;33m\u001b[0m\u001b[0m\n\u001b[0;32m     68\u001b[0m     \u001b[0m_check_required\u001b[0m\u001b[1;33m(\u001b[0m\u001b[0mfn\u001b[0m\u001b[1;33m,\u001b[0m \u001b[0mkwargs\u001b[0m\u001b[1;33m)\u001b[0m\u001b[1;33m\u001b[0m\u001b[1;33m\u001b[0m\u001b[0m\n\u001b[1;32m---> 69\u001b[1;33m     \u001b[1;32mreturn\u001b[0m \u001b[0mfn\u001b[0m\u001b[1;33m(\u001b[0m\u001b[1;33m*\u001b[0m\u001b[0margs\u001b[0m\u001b[1;33m,\u001b[0m \u001b[1;33m**\u001b[0m\u001b[0mkwargs\u001b[0m\u001b[1;33m)\u001b[0m\u001b[1;33m\u001b[0m\u001b[1;33m\u001b[0m\u001b[0m\n\u001b[0m\u001b[0;32m     70\u001b[0m \u001b[1;33m\u001b[0m\u001b[0m\n\u001b[0;32m     71\u001b[0m   \u001b[1;32mreturn\u001b[0m \u001b[0mdisallow_positional_args_dec\u001b[0m\u001b[1;33m(\u001b[0m\u001b[0mwrapped\u001b[0m\u001b[1;33m)\u001b[0m  \u001b[1;31m# pylint: disable=no-value-for-parameter\u001b[0m\u001b[1;33m\u001b[0m\u001b[1;33m\u001b[0m\u001b[0m\n",
      "\u001b[1;32m~\\tf2\\lib\\site-packages\\tensorflow_datasets\\core\\registered.py\u001b[0m in \u001b[0;36mload\u001b[1;34m(name, split, data_dir, batch_size, shuffle_files, download, as_supervised, decoders, read_config, with_info, builder_kwargs, download_and_prepare_kwargs, as_dataset_kwargs, try_gcs)\u001b[0m\n\u001b[0;32m    366\u001b[0m     \u001b[0mdata_dir\u001b[0m \u001b[1;33m=\u001b[0m \u001b[0mconstants\u001b[0m\u001b[1;33m.\u001b[0m\u001b[0mDATA_DIR\u001b[0m\u001b[1;33m\u001b[0m\u001b[1;33m\u001b[0m\u001b[0m\n\u001b[0;32m    367\u001b[0m \u001b[1;33m\u001b[0m\u001b[0m\n\u001b[1;32m--> 368\u001b[1;33m   \u001b[0mdbuilder\u001b[0m \u001b[1;33m=\u001b[0m \u001b[0mbuilder\u001b[0m\u001b[1;33m(\u001b[0m\u001b[0mname\u001b[0m\u001b[1;33m,\u001b[0m \u001b[0mdata_dir\u001b[0m\u001b[1;33m=\u001b[0m\u001b[0mdata_dir\u001b[0m\u001b[1;33m,\u001b[0m \u001b[1;33m**\u001b[0m\u001b[0mbuilder_kwargs\u001b[0m\u001b[1;33m)\u001b[0m\u001b[1;33m\u001b[0m\u001b[1;33m\u001b[0m\u001b[0m\n\u001b[0m\u001b[0;32m    369\u001b[0m   \u001b[1;32mif\u001b[0m \u001b[0mdownload\u001b[0m\u001b[1;33m:\u001b[0m\u001b[1;33m\u001b[0m\u001b[1;33m\u001b[0m\u001b[0m\n\u001b[0;32m    370\u001b[0m     \u001b[0mdownload_and_prepare_kwargs\u001b[0m \u001b[1;33m=\u001b[0m \u001b[0mdownload_and_prepare_kwargs\u001b[0m \u001b[1;32mor\u001b[0m \u001b[1;33m{\u001b[0m\u001b[1;33m}\u001b[0m\u001b[1;33m\u001b[0m\u001b[1;33m\u001b[0m\u001b[0m\n",
      "\u001b[1;32m~\\tf2\\lib\\site-packages\\tensorflow_datasets\\core\\registered.py\u001b[0m in \u001b[0;36mbuilder\u001b[1;34m(name, **builder_init_kwargs)\u001b[0m\n\u001b[0;32m    242\u001b[0m   with py_utils.try_reraise(\n\u001b[0;32m    243\u001b[0m       prefix=\"Failed to construct dataset {}\".format(name)):\n\u001b[1;32m--> 244\u001b[1;33m     \u001b[1;32mreturn\u001b[0m \u001b[0mbuilder_cls\u001b[0m\u001b[1;33m(\u001b[0m\u001b[0mname\u001b[0m\u001b[1;33m)\u001b[0m\u001b[1;33m(\u001b[0m\u001b[1;33m**\u001b[0m\u001b[0mbuilder_kwargs\u001b[0m\u001b[1;33m)\u001b[0m\u001b[1;33m\u001b[0m\u001b[1;33m\u001b[0m\u001b[0m\n\u001b[0m\u001b[0;32m    245\u001b[0m \u001b[1;33m\u001b[0m\u001b[0m\n\u001b[0;32m    246\u001b[0m \u001b[1;33m\u001b[0m\u001b[0m\n",
      "\u001b[1;32mc:\\users\\rocky\\appdata\\local\\programs\\python\\python36\\lib\\contextlib.py\u001b[0m in \u001b[0;36m__exit__\u001b[1;34m(self, type, value, traceback)\u001b[0m\n\u001b[0;32m     97\u001b[0m                 \u001b[0mvalue\u001b[0m \u001b[1;33m=\u001b[0m \u001b[0mtype\u001b[0m\u001b[1;33m(\u001b[0m\u001b[1;33m)\u001b[0m\u001b[1;33m\u001b[0m\u001b[1;33m\u001b[0m\u001b[0m\n\u001b[0;32m     98\u001b[0m             \u001b[1;32mtry\u001b[0m\u001b[1;33m:\u001b[0m\u001b[1;33m\u001b[0m\u001b[1;33m\u001b[0m\u001b[0m\n\u001b[1;32m---> 99\u001b[1;33m                 \u001b[0mself\u001b[0m\u001b[1;33m.\u001b[0m\u001b[0mgen\u001b[0m\u001b[1;33m.\u001b[0m\u001b[0mthrow\u001b[0m\u001b[1;33m(\u001b[0m\u001b[0mtype\u001b[0m\u001b[1;33m,\u001b[0m \u001b[0mvalue\u001b[0m\u001b[1;33m,\u001b[0m \u001b[0mtraceback\u001b[0m\u001b[1;33m)\u001b[0m\u001b[1;33m\u001b[0m\u001b[1;33m\u001b[0m\u001b[0m\n\u001b[0m\u001b[0;32m    100\u001b[0m             \u001b[1;32mexcept\u001b[0m \u001b[0mStopIteration\u001b[0m \u001b[1;32mas\u001b[0m \u001b[0mexc\u001b[0m\u001b[1;33m:\u001b[0m\u001b[1;33m\u001b[0m\u001b[1;33m\u001b[0m\u001b[0m\n\u001b[0;32m    101\u001b[0m                 \u001b[1;31m# Suppress StopIteration *unless* it's the same exception that\u001b[0m\u001b[1;33m\u001b[0m\u001b[1;33m\u001b[0m\u001b[1;33m\u001b[0m\u001b[0m\n",
      "\u001b[1;32m~\\tf2\\lib\\site-packages\\tensorflow_datasets\\core\\utils\\py_utils.py\u001b[0m in \u001b[0;36mtry_reraise\u001b[1;34m(*args, **kwargs)\u001b[0m\n\u001b[0;32m    399\u001b[0m     \u001b[1;32myield\u001b[0m\u001b[1;33m\u001b[0m\u001b[1;33m\u001b[0m\u001b[0m\n\u001b[0;32m    400\u001b[0m   \u001b[1;32mexcept\u001b[0m \u001b[0mException\u001b[0m\u001b[1;33m:\u001b[0m   \u001b[1;31m# pylint: disable=broad-except\u001b[0m\u001b[1;33m\u001b[0m\u001b[1;33m\u001b[0m\u001b[0m\n\u001b[1;32m--> 401\u001b[1;33m     \u001b[0mreraise\u001b[0m\u001b[1;33m(\u001b[0m\u001b[1;33m*\u001b[0m\u001b[0margs\u001b[0m\u001b[1;33m,\u001b[0m \u001b[1;33m**\u001b[0m\u001b[0mkwargs\u001b[0m\u001b[1;33m)\u001b[0m\u001b[1;33m\u001b[0m\u001b[1;33m\u001b[0m\u001b[0m\n\u001b[0m\u001b[0;32m    402\u001b[0m \u001b[1;33m\u001b[0m\u001b[0m\n\u001b[0;32m    403\u001b[0m \u001b[1;33m\u001b[0m\u001b[0m\n",
      "\u001b[1;32m~\\tf2\\lib\\site-packages\\tensorflow_datasets\\core\\utils\\py_utils.py\u001b[0m in \u001b[0;36mreraise\u001b[1;34m(prefix, suffix)\u001b[0m\n\u001b[0;32m    390\u001b[0m   \u001b[0msuffix\u001b[0m \u001b[1;33m=\u001b[0m \u001b[1;34m'\\n'\u001b[0m \u001b[1;33m+\u001b[0m \u001b[0msuffix\u001b[0m \u001b[1;32mif\u001b[0m \u001b[0msuffix\u001b[0m \u001b[1;32melse\u001b[0m \u001b[1;34m''\u001b[0m\u001b[1;33m\u001b[0m\u001b[1;33m\u001b[0m\u001b[0m\n\u001b[0;32m    391\u001b[0m   \u001b[0mmsg\u001b[0m \u001b[1;33m=\u001b[0m \u001b[0mprefix\u001b[0m \u001b[1;33m+\u001b[0m \u001b[0mstr\u001b[0m\u001b[1;33m(\u001b[0m\u001b[0mexc_value\u001b[0m\u001b[1;33m)\u001b[0m \u001b[1;33m+\u001b[0m \u001b[0msuffix\u001b[0m\u001b[1;33m\u001b[0m\u001b[1;33m\u001b[0m\u001b[0m\n\u001b[1;32m--> 392\u001b[1;33m   \u001b[0msix\u001b[0m\u001b[1;33m.\u001b[0m\u001b[0mreraise\u001b[0m\u001b[1;33m(\u001b[0m\u001b[0mexc_type\u001b[0m\u001b[1;33m,\u001b[0m \u001b[0mexc_type\u001b[0m\u001b[1;33m(\u001b[0m\u001b[0mmsg\u001b[0m\u001b[1;33m)\u001b[0m\u001b[1;33m,\u001b[0m \u001b[0mexc_traceback\u001b[0m\u001b[1;33m)\u001b[0m\u001b[1;33m\u001b[0m\u001b[1;33m\u001b[0m\u001b[0m\n\u001b[0m\u001b[0;32m    393\u001b[0m \u001b[1;33m\u001b[0m\u001b[0m\n\u001b[0;32m    394\u001b[0m \u001b[1;33m\u001b[0m\u001b[0m\n",
      "\u001b[1;32mc:\\users\\rocky\\appdata\\local\\programs\\python\\python36\\lib\\site-packages\\six.py\u001b[0m in \u001b[0;36mreraise\u001b[1;34m(tp, value, tb)\u001b[0m\n\u001b[0;32m    716\u001b[0m                 \u001b[0mvalue\u001b[0m \u001b[1;33m=\u001b[0m \u001b[0mtp\u001b[0m\u001b[1;33m(\u001b[0m\u001b[1;33m)\u001b[0m\u001b[1;33m\u001b[0m\u001b[1;33m\u001b[0m\u001b[0m\n\u001b[0;32m    717\u001b[0m             \u001b[1;32mif\u001b[0m \u001b[0mvalue\u001b[0m\u001b[1;33m.\u001b[0m\u001b[0m__traceback__\u001b[0m \u001b[1;32mis\u001b[0m \u001b[1;32mnot\u001b[0m \u001b[0mtb\u001b[0m\u001b[1;33m:\u001b[0m\u001b[1;33m\u001b[0m\u001b[1;33m\u001b[0m\u001b[0m\n\u001b[1;32m--> 718\u001b[1;33m                 \u001b[1;32mraise\u001b[0m \u001b[0mvalue\u001b[0m\u001b[1;33m.\u001b[0m\u001b[0mwith_traceback\u001b[0m\u001b[1;33m(\u001b[0m\u001b[0mtb\u001b[0m\u001b[1;33m)\u001b[0m\u001b[1;33m\u001b[0m\u001b[1;33m\u001b[0m\u001b[0m\n\u001b[0m\u001b[0;32m    719\u001b[0m             \u001b[1;32mraise\u001b[0m \u001b[0mvalue\u001b[0m\u001b[1;33m\u001b[0m\u001b[1;33m\u001b[0m\u001b[0m\n\u001b[0;32m    720\u001b[0m         \u001b[1;32mfinally\u001b[0m\u001b[1;33m:\u001b[0m\u001b[1;33m\u001b[0m\u001b[1;33m\u001b[0m\u001b[0m\n",
      "\u001b[1;32m~\\tf2\\lib\\site-packages\\tensorflow_datasets\\core\\utils\\py_utils.py\u001b[0m in \u001b[0;36mtry_reraise\u001b[1;34m(*args, **kwargs)\u001b[0m\n\u001b[0;32m    397\u001b[0m   \u001b[1;34m\"\"\"Reraise an exception with an additional message.\"\"\"\u001b[0m\u001b[1;33m\u001b[0m\u001b[1;33m\u001b[0m\u001b[0m\n\u001b[0;32m    398\u001b[0m   \u001b[1;32mtry\u001b[0m\u001b[1;33m:\u001b[0m\u001b[1;33m\u001b[0m\u001b[1;33m\u001b[0m\u001b[0m\n\u001b[1;32m--> 399\u001b[1;33m     \u001b[1;32myield\u001b[0m\u001b[1;33m\u001b[0m\u001b[1;33m\u001b[0m\u001b[0m\n\u001b[0m\u001b[0;32m    400\u001b[0m   \u001b[1;32mexcept\u001b[0m \u001b[0mException\u001b[0m\u001b[1;33m:\u001b[0m   \u001b[1;31m# pylint: disable=broad-except\u001b[0m\u001b[1;33m\u001b[0m\u001b[1;33m\u001b[0m\u001b[0m\n\u001b[0;32m    401\u001b[0m     \u001b[0mreraise\u001b[0m\u001b[1;33m(\u001b[0m\u001b[1;33m*\u001b[0m\u001b[0margs\u001b[0m\u001b[1;33m,\u001b[0m \u001b[1;33m**\u001b[0m\u001b[0mkwargs\u001b[0m\u001b[1;33m)\u001b[0m\u001b[1;33m\u001b[0m\u001b[1;33m\u001b[0m\u001b[0m\n",
      "\u001b[1;32m~\\tf2\\lib\\site-packages\\tensorflow_datasets\\core\\registered.py\u001b[0m in \u001b[0;36mbuilder\u001b[1;34m(name, **builder_init_kwargs)\u001b[0m\n\u001b[0;32m    242\u001b[0m   with py_utils.try_reraise(\n\u001b[0;32m    243\u001b[0m       prefix=\"Failed to construct dataset {}\".format(name)):\n\u001b[1;32m--> 244\u001b[1;33m     \u001b[1;32mreturn\u001b[0m \u001b[0mbuilder_cls\u001b[0m\u001b[1;33m(\u001b[0m\u001b[0mname\u001b[0m\u001b[1;33m)\u001b[0m\u001b[1;33m(\u001b[0m\u001b[1;33m**\u001b[0m\u001b[0mbuilder_kwargs\u001b[0m\u001b[1;33m)\u001b[0m\u001b[1;33m\u001b[0m\u001b[1;33m\u001b[0m\u001b[0m\n\u001b[0m\u001b[0;32m    245\u001b[0m \u001b[1;33m\u001b[0m\u001b[0m\n\u001b[0;32m    246\u001b[0m \u001b[1;33m\u001b[0m\u001b[0m\n",
      "\u001b[1;32m~\\tf2\\lib\\site-packages\\tensorflow_datasets\\core\\api_utils.py\u001b[0m in \u001b[0;36mdisallow_positional_args_dec\u001b[1;34m(fn, instance, args, kwargs)\u001b[0m\n\u001b[0;32m     67\u001b[0m     \u001b[0m_check_no_positional\u001b[0m\u001b[1;33m(\u001b[0m\u001b[0mfn\u001b[0m\u001b[1;33m,\u001b[0m \u001b[0margs\u001b[0m\u001b[1;33m,\u001b[0m \u001b[0mismethod\u001b[0m\u001b[1;33m,\u001b[0m \u001b[0mallowed\u001b[0m\u001b[1;33m=\u001b[0m\u001b[0mallowed\u001b[0m\u001b[1;33m)\u001b[0m\u001b[1;33m\u001b[0m\u001b[1;33m\u001b[0m\u001b[0m\n\u001b[0;32m     68\u001b[0m     \u001b[0m_check_required\u001b[0m\u001b[1;33m(\u001b[0m\u001b[0mfn\u001b[0m\u001b[1;33m,\u001b[0m \u001b[0mkwargs\u001b[0m\u001b[1;33m)\u001b[0m\u001b[1;33m\u001b[0m\u001b[1;33m\u001b[0m\u001b[0m\n\u001b[1;32m---> 69\u001b[1;33m     \u001b[1;32mreturn\u001b[0m \u001b[0mfn\u001b[0m\u001b[1;33m(\u001b[0m\u001b[1;33m*\u001b[0m\u001b[0margs\u001b[0m\u001b[1;33m,\u001b[0m \u001b[1;33m**\u001b[0m\u001b[0mkwargs\u001b[0m\u001b[1;33m)\u001b[0m\u001b[1;33m\u001b[0m\u001b[1;33m\u001b[0m\u001b[0m\n\u001b[0m\u001b[0;32m     70\u001b[0m \u001b[1;33m\u001b[0m\u001b[0m\n\u001b[0;32m     71\u001b[0m   \u001b[1;32mreturn\u001b[0m \u001b[0mdisallow_positional_args_dec\u001b[0m\u001b[1;33m(\u001b[0m\u001b[0mwrapped\u001b[0m\u001b[1;33m)\u001b[0m  \u001b[1;31m# pylint: disable=no-value-for-parameter\u001b[0m\u001b[1;33m\u001b[0m\u001b[1;33m\u001b[0m\u001b[0m\n",
      "\u001b[1;32m~\\tf2\\lib\\site-packages\\tensorflow_datasets\\core\\dataset_builder.py\u001b[0m in \u001b[0;36m__init__\u001b[1;34m(self, data_dir, config, version)\u001b[0m\n\u001b[0;32m    202\u001b[0m     \u001b[0mself\u001b[0m\u001b[1;33m.\u001b[0m\u001b[0m_data_dir_root\u001b[0m\u001b[1;33m,\u001b[0m \u001b[0mself\u001b[0m\u001b[1;33m.\u001b[0m\u001b[0m_data_dir\u001b[0m \u001b[1;33m=\u001b[0m \u001b[0mself\u001b[0m\u001b[1;33m.\u001b[0m\u001b[0m_build_data_dir\u001b[0m\u001b[1;33m(\u001b[0m\u001b[0mdata_dir\u001b[0m\u001b[1;33m)\u001b[0m\u001b[1;33m\u001b[0m\u001b[1;33m\u001b[0m\u001b[0m\n\u001b[0;32m    203\u001b[0m     \u001b[1;32mif\u001b[0m \u001b[0mtf\u001b[0m\u001b[1;33m.\u001b[0m\u001b[0mio\u001b[0m\u001b[1;33m.\u001b[0m\u001b[0mgfile\u001b[0m\u001b[1;33m.\u001b[0m\u001b[0mexists\u001b[0m\u001b[1;33m(\u001b[0m\u001b[0mself\u001b[0m\u001b[1;33m.\u001b[0m\u001b[0m_data_dir\u001b[0m\u001b[1;33m)\u001b[0m\u001b[1;33m:\u001b[0m\u001b[1;33m\u001b[0m\u001b[1;33m\u001b[0m\u001b[0m\n\u001b[1;32m--> 204\u001b[1;33m       \u001b[0mself\u001b[0m\u001b[1;33m.\u001b[0m\u001b[0minfo\u001b[0m\u001b[1;33m.\u001b[0m\u001b[0mread_from_directory\u001b[0m\u001b[1;33m(\u001b[0m\u001b[0mself\u001b[0m\u001b[1;33m.\u001b[0m\u001b[0m_data_dir\u001b[0m\u001b[1;33m)\u001b[0m\u001b[1;33m\u001b[0m\u001b[1;33m\u001b[0m\u001b[0m\n\u001b[0m\u001b[0;32m    205\u001b[0m     \u001b[1;32melse\u001b[0m\u001b[1;33m:\u001b[0m  \u001b[1;31m# Use the code version (do not restore data)\u001b[0m\u001b[1;33m\u001b[0m\u001b[1;33m\u001b[0m\u001b[0m\n\u001b[0;32m    206\u001b[0m       \u001b[0mself\u001b[0m\u001b[1;33m.\u001b[0m\u001b[0minfo\u001b[0m\u001b[1;33m.\u001b[0m\u001b[0minitialize_from_bucket\u001b[0m\u001b[1;33m(\u001b[0m\u001b[1;33m)\u001b[0m\u001b[1;33m\u001b[0m\u001b[1;33m\u001b[0m\u001b[0m\n",
      "\u001b[1;32m~\\tf2\\lib\\site-packages\\tensorflow_datasets\\core\\dataset_info.py\u001b[0m in \u001b[0;36mread_from_directory\u001b[1;34m(self, dataset_info_dir)\u001b[0m\n\u001b[0;32m    361\u001b[0m \u001b[1;33m\u001b[0m\u001b[0m\n\u001b[0;32m    362\u001b[0m     \u001b[1;31m# Load the metadata from disk\u001b[0m\u001b[1;33m\u001b[0m\u001b[1;33m\u001b[0m\u001b[1;33m\u001b[0m\u001b[0m\n\u001b[1;32m--> 363\u001b[1;33m     \u001b[0mparsed_proto\u001b[0m \u001b[1;33m=\u001b[0m \u001b[0mread_from_json\u001b[0m\u001b[1;33m(\u001b[0m\u001b[0mjson_filename\u001b[0m\u001b[1;33m)\u001b[0m\u001b[1;33m\u001b[0m\u001b[1;33m\u001b[0m\u001b[0m\n\u001b[0m\u001b[0;32m    364\u001b[0m \u001b[1;33m\u001b[0m\u001b[0m\n\u001b[0;32m    365\u001b[0m     \u001b[1;31m# Update splits\u001b[0m\u001b[1;33m\u001b[0m\u001b[1;33m\u001b[0m\u001b[1;33m\u001b[0m\u001b[0m\n",
      "\u001b[1;32m~\\tf2\\lib\\site-packages\\tensorflow_datasets\\core\\dataset_info.py\u001b[0m in \u001b[0;36mread_from_json\u001b[1;34m(json_filename)\u001b[0m\n\u001b[0;32m    513\u001b[0m   \u001b[1;31m# Parse it back into a proto.\u001b[0m\u001b[1;33m\u001b[0m\u001b[1;33m\u001b[0m\u001b[1;33m\u001b[0m\u001b[0m\n\u001b[0;32m    514\u001b[0m   parsed_proto = json_format.Parse(dataset_info_json_str,\n\u001b[1;32m--> 515\u001b[1;33m                                    dataset_info_pb2.DatasetInfo())\n\u001b[0m\u001b[0;32m    516\u001b[0m   \u001b[1;32mreturn\u001b[0m \u001b[0mparsed_proto\u001b[0m\u001b[1;33m\u001b[0m\u001b[1;33m\u001b[0m\u001b[0m\n\u001b[0;32m    517\u001b[0m \u001b[1;33m\u001b[0m\u001b[0m\n",
      "\u001b[1;32m~\\tf2\\lib\\site-packages\\google\\protobuf\\json_format.py\u001b[0m in \u001b[0;36mParse\u001b[1;34m(text, message, ignore_unknown_fields, descriptor_pool)\u001b[0m\n\u001b[0;32m    432\u001b[0m   \u001b[1;32mexcept\u001b[0m \u001b[0mValueError\u001b[0m \u001b[1;32mas\u001b[0m \u001b[0me\u001b[0m\u001b[1;33m:\u001b[0m\u001b[1;33m\u001b[0m\u001b[1;33m\u001b[0m\u001b[0m\n\u001b[0;32m    433\u001b[0m     \u001b[1;32mraise\u001b[0m \u001b[0mParseError\u001b[0m\u001b[1;33m(\u001b[0m\u001b[1;34m'Failed to load JSON: {0}.'\u001b[0m\u001b[1;33m.\u001b[0m\u001b[0mformat\u001b[0m\u001b[1;33m(\u001b[0m\u001b[0mstr\u001b[0m\u001b[1;33m(\u001b[0m\u001b[0me\u001b[0m\u001b[1;33m)\u001b[0m\u001b[1;33m)\u001b[0m\u001b[1;33m)\u001b[0m\u001b[1;33m\u001b[0m\u001b[1;33m\u001b[0m\u001b[0m\n\u001b[1;32m--> 434\u001b[1;33m   \u001b[1;32mreturn\u001b[0m \u001b[0mParseDict\u001b[0m\u001b[1;33m(\u001b[0m\u001b[0mjs\u001b[0m\u001b[1;33m,\u001b[0m \u001b[0mmessage\u001b[0m\u001b[1;33m,\u001b[0m \u001b[0mignore_unknown_fields\u001b[0m\u001b[1;33m,\u001b[0m \u001b[0mdescriptor_pool\u001b[0m\u001b[1;33m)\u001b[0m\u001b[1;33m\u001b[0m\u001b[1;33m\u001b[0m\u001b[0m\n\u001b[0m\u001b[0;32m    435\u001b[0m \u001b[1;33m\u001b[0m\u001b[0m\n\u001b[0;32m    436\u001b[0m \u001b[1;33m\u001b[0m\u001b[0m\n",
      "\u001b[1;32m~\\tf2\\lib\\site-packages\\google\\protobuf\\json_format.py\u001b[0m in \u001b[0;36mParseDict\u001b[1;34m(js_dict, message, ignore_unknown_fields, descriptor_pool)\u001b[0m\n\u001b[0;32m    452\u001b[0m   \"\"\"\n\u001b[0;32m    453\u001b[0m   \u001b[0mparser\u001b[0m \u001b[1;33m=\u001b[0m \u001b[0m_Parser\u001b[0m\u001b[1;33m(\u001b[0m\u001b[0mignore_unknown_fields\u001b[0m\u001b[1;33m,\u001b[0m \u001b[0mdescriptor_pool\u001b[0m\u001b[1;33m)\u001b[0m\u001b[1;33m\u001b[0m\u001b[1;33m\u001b[0m\u001b[0m\n\u001b[1;32m--> 454\u001b[1;33m   \u001b[0mparser\u001b[0m\u001b[1;33m.\u001b[0m\u001b[0mConvertMessage\u001b[0m\u001b[1;33m(\u001b[0m\u001b[0mjs_dict\u001b[0m\u001b[1;33m,\u001b[0m \u001b[0mmessage\u001b[0m\u001b[1;33m)\u001b[0m\u001b[1;33m\u001b[0m\u001b[1;33m\u001b[0m\u001b[0m\n\u001b[0m\u001b[0;32m    455\u001b[0m   \u001b[1;32mreturn\u001b[0m \u001b[0mmessage\u001b[0m\u001b[1;33m\u001b[0m\u001b[1;33m\u001b[0m\u001b[0m\n\u001b[0;32m    456\u001b[0m \u001b[1;33m\u001b[0m\u001b[0m\n",
      "\u001b[1;32m~\\tf2\\lib\\site-packages\\google\\protobuf\\json_format.py\u001b[0m in \u001b[0;36mConvertMessage\u001b[1;34m(self, value, message)\u001b[0m\n\u001b[0;32m    483\u001b[0m       \u001b[0mmethodcaller\u001b[0m\u001b[1;33m(\u001b[0m\u001b[0m_WKTJSONMETHODS\u001b[0m\u001b[1;33m[\u001b[0m\u001b[0mfull_name\u001b[0m\u001b[1;33m]\u001b[0m\u001b[1;33m[\u001b[0m\u001b[1;36m1\u001b[0m\u001b[1;33m]\u001b[0m\u001b[1;33m,\u001b[0m \u001b[0mvalue\u001b[0m\u001b[1;33m,\u001b[0m \u001b[0mmessage\u001b[0m\u001b[1;33m)\u001b[0m\u001b[1;33m(\u001b[0m\u001b[0mself\u001b[0m\u001b[1;33m)\u001b[0m\u001b[1;33m\u001b[0m\u001b[1;33m\u001b[0m\u001b[0m\n\u001b[0;32m    484\u001b[0m     \u001b[1;32melse\u001b[0m\u001b[1;33m:\u001b[0m\u001b[1;33m\u001b[0m\u001b[1;33m\u001b[0m\u001b[0m\n\u001b[1;32m--> 485\u001b[1;33m       \u001b[0mself\u001b[0m\u001b[1;33m.\u001b[0m\u001b[0m_ConvertFieldValuePair\u001b[0m\u001b[1;33m(\u001b[0m\u001b[0mvalue\u001b[0m\u001b[1;33m,\u001b[0m \u001b[0mmessage\u001b[0m\u001b[1;33m)\u001b[0m\u001b[1;33m\u001b[0m\u001b[1;33m\u001b[0m\u001b[0m\n\u001b[0m\u001b[0;32m    486\u001b[0m \u001b[1;33m\u001b[0m\u001b[0m\n\u001b[0;32m    487\u001b[0m   \u001b[1;32mdef\u001b[0m \u001b[0m_ConvertFieldValuePair\u001b[0m\u001b[1;33m(\u001b[0m\u001b[0mself\u001b[0m\u001b[1;33m,\u001b[0m \u001b[0mjs\u001b[0m\u001b[1;33m,\u001b[0m \u001b[0mmessage\u001b[0m\u001b[1;33m)\u001b[0m\u001b[1;33m:\u001b[0m\u001b[1;33m\u001b[0m\u001b[1;33m\u001b[0m\u001b[0m\n",
      "\u001b[1;32m~\\tf2\\lib\\site-packages\\google\\protobuf\\json_format.py\u001b[0m in \u001b[0;36m_ConvertFieldValuePair\u001b[1;34m(self, js, message)\u001b[0m\n\u001b[0;32m    597\u001b[0m           \u001b[1;32mraise\u001b[0m \u001b[0mParseError\u001b[0m\u001b[1;33m(\u001b[0m\u001b[1;34m'Failed to parse {0} field: {1}.'\u001b[0m\u001b[1;33m.\u001b[0m\u001b[0mformat\u001b[0m\u001b[1;33m(\u001b[0m\u001b[0mname\u001b[0m\u001b[1;33m,\u001b[0m \u001b[0me\u001b[0m\u001b[1;33m)\u001b[0m\u001b[1;33m)\u001b[0m\u001b[1;33m\u001b[0m\u001b[1;33m\u001b[0m\u001b[0m\n\u001b[0;32m    598\u001b[0m         \u001b[1;32melse\u001b[0m\u001b[1;33m:\u001b[0m\u001b[1;33m\u001b[0m\u001b[1;33m\u001b[0m\u001b[0m\n\u001b[1;32m--> 599\u001b[1;33m           \u001b[1;32mraise\u001b[0m \u001b[0mParseError\u001b[0m\u001b[1;33m(\u001b[0m\u001b[0mstr\u001b[0m\u001b[1;33m(\u001b[0m\u001b[0me\u001b[0m\u001b[1;33m)\u001b[0m\u001b[1;33m)\u001b[0m\u001b[1;33m\u001b[0m\u001b[1;33m\u001b[0m\u001b[0m\n\u001b[0m\u001b[0;32m    600\u001b[0m       \u001b[1;32mexcept\u001b[0m \u001b[0mValueError\u001b[0m \u001b[1;32mas\u001b[0m \u001b[0me\u001b[0m\u001b[1;33m:\u001b[0m\u001b[1;33m\u001b[0m\u001b[1;33m\u001b[0m\u001b[0m\n\u001b[0;32m    601\u001b[0m         \u001b[1;32mraise\u001b[0m \u001b[0mParseError\u001b[0m\u001b[1;33m(\u001b[0m\u001b[1;34m'Failed to parse {0} field: {1}.'\u001b[0m\u001b[1;33m.\u001b[0m\u001b[0mformat\u001b[0m\u001b[1;33m(\u001b[0m\u001b[0mname\u001b[0m\u001b[1;33m,\u001b[0m \u001b[0me\u001b[0m\u001b[1;33m)\u001b[0m\u001b[1;33m)\u001b[0m\u001b[1;33m\u001b[0m\u001b[1;33m\u001b[0m\u001b[0m\n",
      "\u001b[1;31mParseError\u001b[0m: Failed to construct dataset cifar10Message type \"tensorflow_datasets.DatasetInfo\" has no field named \"moduleName\".\n Available Fields(except extensions): ['name', 'description', 'version', 'citation', 'sizeInBytes', 'downloadSize', 'location', 'downloadChecksums', 'schema', 'splits', 'supervisedKeys', 'redistributionInfo']"
     ]
    }
   ],
   "source": [
    "# 將train Data重新分成9:1等分，分別分給train data, valid data\n",
    "train_split, valid_split = ['train[:90%]', 'train[90%:]']\n",
    "# 取得訓練數據，並順便讀取data的資訊\n",
    "train_data, info = tfds.load(\"cifar10\", split=train_split, with_info=True)\n",
    "# 取得驗證數據\n",
    "valid_data = tfds.load(\"cifar10\", split=valid_split)\n",
    "# 取得測試數據\n",
    "test_data = tfds.load(\"cifar10\", split=tfds.Split.TEST)\n",
    "# 取得CIFAR-10數據集的類別\n",
    "class_name = info.features['label'].names"
   ]
  },
  {
   "cell_type": "code",
   "execution_count": 9,
   "id": "e6c39f07",
   "metadata": {},
   "outputs": [],
   "source": [
    "AUTOTUNE = tf.data.experimental.AUTOTUNE  # 自動調整模式\n",
    "batch_size = 64  # 批次大小\n",
    "train_num = int(info.splits['train'].num_examples / 10) * 9  # 訓練資料數量\n",
    "\n",
    "train_data = train_data.shuffle(train_num)  # 打散資料集\n",
    "# 載入預處理「 parse_aug_fn」function，cpu數量為自動調整模式\n",
    "train_data = train_data.map(map_func=parse_aug_fn, num_parallel_calls=AUTOTUNE)\n",
    "# 設定批次大小並將prefetch模式開啟(暫存空間為自動調整模式)\n",
    "train_data = train_data.batch(batch_size).prefetch(buffer_size=AUTOTUNE)\n",
    "\n",
    "# 載入預處理「 parse_fn」function，cpu數量為自動調整模式\n",
    "valid_data = valid_data.map(map_func=parse_fn, num_parallel_calls=AUTOTUNE)\n",
    "# 設定批次大小並將prefetch模式開啟(暫存空間為自動調整模式)\n",
    "valid_data = valid_data.batch(batch_size).prefetch(buffer_size=AUTOTUNE)\n",
    "\n",
    "# 載入預處理「 parse_fn」function，cpu數量為自動調整模式\n",
    "test_data = test_data.map(map_func=parse_fn, num_parallel_calls=AUTOTUNE)\n",
    "# 設定批次大小並將prefetch模式開啟(暫存空間為自動調整模式)\n",
    "test_data = test_data.batch(batch_size).prefetch(buffer_size=AUTOTUNE)"
   ]
  },
  {
   "cell_type": "code",
   "execution_count": 10,
   "id": "e2923f0c",
   "metadata": {},
   "outputs": [
    {
     "name": "stdout",
     "output_type": "stream",
     "text": [
      "Model: \"model-1\"\n",
      "_________________________________________________________________\n",
      "Layer (type)                 Output Shape              Param #   \n",
      "=================================================================\n",
      "input_1 (InputLayer)         [(None, 32, 32, 3)]       0         \n",
      "_________________________________________________________________\n",
      "conv2d (Conv2D)              (None, 30, 30, 64)        1792      \n",
      "_________________________________________________________________\n",
      "max_pooling2d (MaxPooling2D) (None, 15, 15, 64)        0         \n",
      "_________________________________________________________________\n",
      "conv2d_1 (Conv2D)            (None, 13, 13, 128)       73856     \n",
      "_________________________________________________________________\n",
      "conv2d_2 (Conv2D)            (None, 11, 11, 256)       295168    \n",
      "_________________________________________________________________\n",
      "conv2d_3 (Conv2D)            (None, 9, 9, 128)         295040    \n",
      "_________________________________________________________________\n",
      "conv2d_4 (Conv2D)            (None, 7, 7, 64)          73792     \n",
      "_________________________________________________________________\n",
      "flatten (Flatten)            (None, 3136)              0         \n",
      "_________________________________________________________________\n",
      "dense (Dense)                (None, 64)                200768    \n",
      "_________________________________________________________________\n",
      "dropout (Dropout)            (None, 64)                0         \n",
      "_________________________________________________________________\n",
      "dense_1 (Dense)              (None, 10)                650       \n",
      "=================================================================\n",
      "Total params: 941,066\n",
      "Trainable params: 941,066\n",
      "Non-trainable params: 0\n",
      "_________________________________________________________________\n"
     ]
    }
   ],
   "source": [
    "inputs = keras.Input(shape=(32, 32, 3))\n",
    "x = layers.Conv2D(64, 3, activation='relu', kernel_initializer='glorot_uniform')(inputs)\n",
    "x = layers.MaxPool2D()(x)\n",
    "x = layers.Conv2D(128, 3, activation='relu', kernel_initializer='glorot_uniform')(x)\n",
    "x = layers.Conv2D(256, 3, activation='relu', kernel_initializer='glorot_uniform')(x)\n",
    "x = layers.Conv2D(128, 3, activation='relu', kernel_initializer='glorot_uniform')(x)\n",
    "x = layers.Conv2D(64, 3, activation='relu', kernel_initializer='glorot_uniform')(x)\n",
    "x = layers.Flatten()(x)\n",
    "x = layers.Dense(64, activation='relu')(x)\n",
    "x = layers.Dropout(0.5)(x)\n",
    "outputs = layers.Dense(10)(x)\n",
    "# 建立網路模型(將輸入到輸出所有經過的網路層連接起來)\n",
    "model_1 = keras.Model(inputs, outputs, name='model-1')\n",
    "model_1.summary()"
   ]
  },
  {
   "cell_type": "code",
   "execution_count": 11,
   "id": "6774193c",
   "metadata": {},
   "outputs": [],
   "source": [
    "# 儲存訓練記錄檔\n",
    "logs_dirs = 'lab7-logs-images'\n",
    "model_cbk = keras.callbacks.TensorBoard(logs_dirs)\n",
    "# 儲存Confusion matrix圖片\n",
    "save_cm = ConfusionMatrix(logs_dirs, test_data, class_name)"
   ]
  },
  {
   "cell_type": "code",
   "execution_count": 12,
   "id": "8a54134e",
   "metadata": {},
   "outputs": [],
   "source": [
    "model_1.compile(keras.optimizers.Adam(), \n",
    "                loss=keras.losses.CategoricalCrossentropy(from_logits=True), \n",
    "                metrics=[keras.metrics.CategoricalAccuracy()])"
   ]
  },
  {
   "cell_type": "code",
   "execution_count": 13,
   "id": "f9e8c34d",
   "metadata": {
    "scrolled": true
   },
   "outputs": [
    {
     "name": "stdout",
     "output_type": "stream",
     "text": [
      "Epoch 1/100\n",
      "  6/704 [..............................] - ETA: 1:02 - loss: 2.3115 - categorical_accuracy: 0.1120WARNING:tensorflow:Callback method `on_train_batch_end` is slow compared to the batch time (batch time: 0.0101s vs `on_train_batch_end` time: 0.0665s). Check your callbacks.\n"
     ]
    },
    {
     "name": "stderr",
     "output_type": "stream",
     "text": [
      "WARNING:tensorflow:Callback method `on_train_batch_end` is slow compared to the batch time (batch time: 0.0101s vs `on_train_batch_end` time: 0.0665s). Check your callbacks.\n"
     ]
    },
    {
     "name": "stdout",
     "output_type": "stream",
     "text": [
      "704/704 [==============================] - 27s 20ms/step - loss: 2.1048 - categorical_accuracy: 0.1911 - val_loss: 1.8739 - val_categorical_accuracy: 0.3134\n",
      "Epoch 2/100\n",
      "704/704 [==============================] - 13s 19ms/step - loss: 1.9776 - categorical_accuracy: 0.2470 - val_loss: 1.8446 - val_categorical_accuracy: 0.3356oss: 1.9839 - categorica - ETA: 1s - loss: - ETA: 0s - loss: 1.9785 - categorical_\n",
      "Epoch 3/100\n",
      "704/704 [==============================] - 13s 19ms/step - loss: 1.8748 - categorical_accuracy: 0.3073 - val_loss: 1.6121 - val_categorical_accuracy: 0.4140\n",
      "Epoch 4/100\n",
      "704/704 [==============================] - 13s 19ms/step - loss: 1.7383 - categorical_accuracy: 0.3660 - val_loss: 1.3785 - val_categorical_accuracy: 0.5128\n",
      "Epoch 5/100\n",
      "704/704 [==============================] - 13s 19ms/step - loss: 1.6464 - categorical_accuracy: 0.4083 - val_loss: 1.3163 - val_categorical_accuracy: 0.5202\n",
      "Epoch 6/100\n",
      "704/704 [==============================] - 13s 19ms/step - loss: 1.5621 - categorical_accuracy: 0.4361 - val_loss: 1.1957 - val_categorical_accuracy: 0.5718\n",
      "Epoch 7/100\n",
      "704/704 [==============================] - 13s 19ms/step - loss: 1.5180 - categorical_accuracy: 0.4612 - val_loss: 1.1828 - val_categorical_accuracy: 0.5818\n",
      "Epoch 8/100\n",
      "704/704 [==============================] - 13s 19ms/step - loss: 1.4605 - categorical_accuracy: 0.4801 - val_loss: 1.1279 - val_categorical_accuracy: 0.60560.48\n",
      "Epoch 9/100\n",
      "704/704 [==============================] - 13s 19ms/step - loss: 1.4187 - categorical_accuracy: 0.4962 - val_loss: 1.0952 - val_categorical_accuracy: 0.6024\n",
      "Epoch 10/100\n",
      "704/704 [==============================] - 13s 19ms/step - loss: 1.3925 - categorical_accuracy: 0.5112 - val_loss: 1.0482 - val_categorical_accuracy: 0.63923 - categorical_accura\n",
      "Epoch 11/100\n",
      "704/704 [==============================] - 13s 19ms/step - loss: 1.3569 - categorical_accuracy: 0.5270 - val_loss: 1.0215 - val_categorical_accuracy: 0.6382\n",
      "Epoch 12/100\n",
      "704/704 [==============================] - 13s 19ms/step - loss: 1.3262 - categorical_accuracy: 0.5373 - val_loss: 1.0888 - val_categorical_accuracy: 0.6232\n",
      "Epoch 13/100\n",
      "704/704 [==============================] - 13s 19ms/step - loss: 1.3017 - categorical_accuracy: 0.5486 - val_loss: 0.9474 - val_categorical_accuracy: 0.6682\n",
      "Epoch 14/100\n",
      "704/704 [==============================] - 13s 19ms/step - loss: 1.2872 - categorical_accuracy: 0.5540 - val_loss: 0.9181 - val_categorical_accuracy: 0.6802\n",
      "Epoch 15/100\n",
      "704/704 [==============================] - 13s 19ms/step - loss: 1.2478 - categorical_accuracy: 0.5672 - val_loss: 0.9458 - val_categorical_accuracy: 0.6588\n",
      "Epoch 16/100\n",
      "704/704 [==============================] - 14s 20ms/step - loss: 1.2367 - categorical_accuracy: 0.5728 - val_loss: 0.8881 - val_categorical_accuracy: 0.6778\n",
      "Epoch 17/100\n",
      "704/704 [==============================] - 13s 19ms/step - loss: 1.2109 - categorical_accuracy: 0.5805 - val_loss: 0.8898 - val_categorical_accuracy: 0.6858\n",
      "Epoch 18/100\n",
      "704/704 [==============================] - 13s 19ms/step - loss: 1.1935 - categorical_accuracy: 0.5892 - val_loss: 0.9475 - val_categorical_accuracy: 0.6662\n",
      "Epoch 19/100\n",
      "704/704 [==============================] - 13s 19ms/step - loss: 1.1804 - categorical_accuracy: 0.5947 - val_loss: 0.8736 - val_categorical_accuracy: 0.6914\n",
      "Epoch 20/100\n",
      "704/704 [==============================] - 13s 19ms/step - loss: 1.1585 - categorical_accuracy: 0.6006 - val_loss: 0.8472 - val_categorical_accuracy: 0.7080\n",
      "Epoch 21/100\n",
      "704/704 [==============================] - 13s 19ms/step - loss: 1.1510 - categorical_accuracy: 0.6077 - val_loss: 0.8250 - val_categorical_accuracy: 0.7118\n",
      "Epoch 22/100\n",
      "704/704 [==============================] - 13s 19ms/step - loss: 1.1341 - categorical_accuracy: 0.6105 - val_loss: 0.8324 - val_categorical_accuracy: 0.7052\n",
      "Epoch 23/100\n",
      "704/704 [==============================] - 13s 19ms/step - loss: 1.1170 - categorical_accuracy: 0.6187 - val_loss: 0.8179 - val_categorical_accuracy: 0.7154\n",
      "Epoch 24/100\n",
      "704/704 [==============================] - 13s 19ms/step - loss: 1.1047 - categorical_accuracy: 0.6195 - val_loss: 0.8022 - val_categorical_accuracy: 0.7138\n",
      "Epoch 25/100\n",
      "704/704 [==============================] - 13s 19ms/step - loss: 1.0961 - categorical_accuracy: 0.6262 - val_loss: 0.7820 - val_categorical_accuracy: 0.7346: 0s - loss: 1.0959 - categorical_accu\n",
      "Epoch 26/100\n",
      "704/704 [==============================] - 13s 19ms/step - loss: 1.0851 - categorical_accuracy: 0.6291 - val_loss: 0.8027 - val_categorical_accuracy: 0.7174\n",
      "Epoch 27/100\n",
      "704/704 [==============================] - 13s 19ms/step - loss: 1.0715 - categorical_accuracy: 0.6366 - val_loss: 0.7825 - val_categorical_accuracy: 0.7234\n",
      "Epoch 28/100\n",
      "704/704 [==============================] - 13s 19ms/step - loss: 1.0599 - categorical_accuracy: 0.6393 - val_loss: 0.7920 - val_categorical_accuracy: 0.7362\n",
      "Epoch 29/100\n",
      "704/704 [==============================] - 13s 19ms/step - loss: 1.0542 - categorical_accuracy: 0.6387 - val_loss: 0.7493 - val_categorical_accuracy: 0.7376\n",
      "Epoch 30/100\n",
      "704/704 [==============================] - 13s 19ms/step - loss: 1.0460 - categorical_accuracy: 0.6431 - val_loss: 0.7500 - val_categorical_accuracy: 0.7386\n",
      "Epoch 31/100\n",
      "704/704 [==============================] - 13s 19ms/step - loss: 1.0386 - categorical_accuracy: 0.6458 - val_loss: 0.7271 - val_categorical_accuracy: 0.7346\n",
      "Epoch 32/100\n",
      "704/704 [==============================] - 13s 19ms/step - loss: 1.0280 - categorical_accuracy: 0.6519 - val_loss: 0.8034 - val_categorical_accuracy: 0.7244\n",
      "Epoch 33/100\n",
      "704/704 [==============================] - 13s 19ms/step - loss: 1.0175 - categorical_accuracy: 0.6534 - val_loss: 0.7381 - val_categorical_accuracy: 0.7404\n",
      "Epoch 34/100\n",
      "704/704 [==============================] - 13s 19ms/step - loss: 1.0099 - categorical_accuracy: 0.6530 - val_loss: 0.7987 - val_categorical_accuracy: 0.7310\n",
      "Epoch 35/100\n",
      "704/704 [==============================] - 13s 19ms/step - loss: 1.0056 - categorical_accuracy: 0.6562 - val_loss: 0.7908 - val_categorical_accuracy: 0.7244\n",
      "Epoch 36/100\n",
      "704/704 [==============================] - 13s 19ms/step - loss: 1.0017 - categorical_accuracy: 0.6634 - val_loss: 0.7304 - val_categorical_accuracy: 0.7490ca\n",
      "Epoch 37/100\n",
      "704/704 [==============================] - 13s 19ms/step - loss: 0.9905 - categorical_accuracy: 0.6673 - val_loss: 0.7307 - val_categorical_accuracy: 0.7494\n",
      "Epoch 38/100\n",
      "704/704 [==============================] - 13s 19ms/step - loss: 0.9826 - categorical_accuracy: 0.6712 - val_loss: 0.7320 - val_categorical_accuracy: 0.7466\n",
      "Epoch 39/100\n",
      "704/704 [==============================] - 13s 19ms/step - loss: 0.9714 - categorical_accuracy: 0.6704 - val_loss: 0.7103 - val_categorical_accuracy: 0.7574\n",
      "Epoch 40/100\n",
      "704/704 [==============================] - 13s 19ms/step - loss: 0.9706 - categorical_accuracy: 0.6706 - val_loss: 0.6653 - val_categorical_accuracy: 0.7706\n",
      "Epoch 41/100\n",
      "704/704 [==============================] - 13s 19ms/step - loss: 0.9603 - categorical_accuracy: 0.6760 - val_loss: 0.7095 - val_categorical_accuracy: 0.7570\n",
      "Epoch 42/100\n",
      "704/704 [==============================] - 13s 19ms/step - loss: 0.9550 - categorical_accuracy: 0.6754 - val_loss: 0.7065 - val_categorical_accuracy: 0.7606\n",
      "Epoch 43/100\n",
      "704/704 [==============================] - 13s 19ms/step - loss: 0.9471 - categorical_accuracy: 0.6763 - val_loss: 0.7161 - val_categorical_accuracy: 0.7598\n",
      "Epoch 44/100\n",
      "704/704 [==============================] - 13s 19ms/step - loss: 0.9430 - categorical_accuracy: 0.6789 - val_loss: 0.7057 - val_categorical_accuracy: 0.7586\n",
      "Epoch 45/100\n",
      "704/704 [==============================] - 13s 19ms/step - loss: 0.9388 - categorical_accuracy: 0.6825 - val_loss: 0.7351 - val_categorical_accuracy: 0.7510\n",
      "Epoch 46/100\n",
      "704/704 [==============================] - 13s 19ms/step - loss: 0.9279 - categorical_accuracy: 0.6858 - val_loss: 0.6935 - val_categorical_accuracy: 0.7616\n",
      "Epoch 47/100\n",
      "704/704 [==============================] - 13s 19ms/step - loss: 0.9285 - categorical_accuracy: 0.6885 - val_loss: 0.6987 - val_categorical_accuracy: 0.7606\n",
      "Epoch 48/100\n",
      "704/704 [==============================] - 13s 19ms/step - loss: 0.9227 - categorical_accuracy: 0.6888 - val_loss: 0.6859 - val_categorical_accuracy: 0.7686\n",
      "Epoch 49/100\n",
      "704/704 [==============================] - 13s 19ms/step - loss: 0.9197 - categorical_accuracy: 0.6880 - val_loss: 0.6676 - val_categorical_accuracy: 0.7668\n",
      "Epoch 50/100\n",
      "704/704 [==============================] - 13s 19ms/step - loss: 0.9148 - categorical_accuracy: 0.6908 - val_loss: 0.6674 - val_categorical_accuracy: 0.7720\n",
      "Epoch 51/100\n",
      "704/704 [==============================] - 13s 19ms/step - loss: 0.9168 - categorical_accuracy: 0.6898 - val_loss: 0.6948 - val_categorical_accuracy: 0.7624\n",
      "Epoch 52/100\n",
      "704/704 [==============================] - 13s 19ms/step - loss: 0.9044 - categorical_accuracy: 0.6955 - val_loss: 0.6838 - val_categorical_accuracy: 0.7644\n",
      "Epoch 53/100\n",
      "704/704 [==============================] - 13s 19ms/step - loss: 0.8979 - categorical_accuracy: 0.6988 - val_loss: 0.7257 - val_categorical_accuracy: 0.7610\n",
      "Epoch 54/100\n",
      "704/704 [==============================] - 13s 19ms/step - loss: 0.9002 - categorical_accuracy: 0.6973 - val_loss: 0.6637 - val_categorical_accuracy: 0.7704\n",
      "Epoch 55/100\n",
      "704/704 [==============================] - 13s 19ms/step - loss: 0.8983 - categorical_accuracy: 0.7008 - val_loss: 0.6701 - val_categorical_accuracy: 0.7724\n",
      "Epoch 56/100\n",
      "704/704 [==============================] - 13s 19ms/step - loss: 0.8865 - categorical_accuracy: 0.7042 - val_loss: 0.6836 - val_categorical_accuracy: 0.7728\n",
      "Epoch 57/100\n",
      "704/704 [==============================] - 13s 19ms/step - loss: 0.8749 - categorical_accuracy: 0.7086 - val_loss: 0.6641 - val_categorical_accuracy: 0.7724\n",
      "Epoch 58/100\n",
      "704/704 [==============================] - 13s 19ms/step - loss: 0.8911 - categorical_accuracy: 0.7029 - val_loss: 0.7136 - val_categorical_accuracy: 0.7670\n",
      "Epoch 59/100\n",
      "704/704 [==============================] - 13s 19ms/step - loss: 0.8830 - categorical_accuracy: 0.7046 - val_loss: 0.6788 - val_categorical_accuracy: 0.7756\n",
      "Epoch 60/100\n",
      "704/704 [==============================] - 13s 19ms/step - loss: 0.8785 - categorical_accuracy: 0.7084 - val_loss: 0.6926 - val_categorical_accuracy: 0.7678\n",
      "Epoch 61/100\n",
      "704/704 [==============================] - 13s 19ms/step - loss: 0.8773 - categorical_accuracy: 0.7062 - val_loss: 0.6760 - val_categorical_accuracy: 0.7692\n",
      "Epoch 62/100\n",
      "704/704 [==============================] - 13s 19ms/step - loss: 0.8671 - categorical_accuracy: 0.7105 - val_loss: 0.6752 - val_categorical_accuracy: 0.7736\n",
      "Epoch 63/100\n",
      "704/704 [==============================] - 13s 19ms/step - loss: 0.8555 - categorical_accuracy: 0.7123 - val_loss: 0.6836 - val_categorical_accuracy: 0.7734\n",
      "Epoch 64/100\n",
      "704/704 [==============================] - 13s 19ms/step - loss: 0.8684 - categorical_accuracy: 0.7106 - val_loss: 0.6695 - val_categorical_accuracy: 0.7738\n",
      "Epoch 65/100\n",
      "704/704 [==============================] - 15s 21ms/step - loss: 0.8618 - categorical_accuracy: 0.7112 - val_loss: 0.6765 - val_categorical_accuracy: 0.7788\n",
      "Epoch 66/100\n",
      "704/704 [==============================] - 13s 19ms/step - loss: 0.8671 - categorical_accuracy: 0.7106 - val_loss: 0.6616 - val_categorical_accuracy: 0.7816\n",
      "Epoch 67/100\n",
      "704/704 [==============================] - 13s 19ms/step - loss: 0.8477 - categorical_accuracy: 0.7181 - val_loss: 0.6672 - val_categorical_accuracy: 0.7734\n",
      "Epoch 68/100\n",
      "704/704 [==============================] - 13s 19ms/step - loss: 0.8458 - categorical_accuracy: 0.7162 - val_loss: 0.6828 - val_categorical_accuracy: 0.7750\n",
      "Epoch 69/100\n",
      "704/704 [==============================] - 13s 19ms/step - loss: 0.8391 - categorical_accuracy: 0.7199 - val_loss: 0.6723 - val_categorical_accuracy: 0.7800\n",
      "Epoch 70/100\n",
      "704/704 [==============================] - 13s 19ms/step - loss: 0.8434 - categorical_accuracy: 0.7180 - val_loss: 0.6600 - val_categorical_accuracy: 0.7766\n",
      "Epoch 71/100\n",
      "704/704 [==============================] - 13s 19ms/step - loss: 0.8336 - categorical_accuracy: 0.7245 - val_loss: 0.6773 - val_categorical_accuracy: 0.7674\n",
      "Epoch 72/100\n",
      "704/704 [==============================] - 13s 19ms/step - loss: 0.8397 - categorical_accuracy: 0.7222 - val_loss: 0.6205 - val_categorical_accuracy: 0.7904\n",
      "Epoch 73/100\n",
      "704/704 [==============================] - 13s 19ms/step - loss: 0.8311 - categorical_accuracy: 0.7213 - val_loss: 0.6435 - val_categorical_accuracy: 0.7788\n",
      "Epoch 74/100\n",
      "704/704 [==============================] - 13s 19ms/step - loss: 0.8356 - categorical_accuracy: 0.7209 - val_loss: 0.6641 - val_categorical_accuracy: 0.7798\n",
      "Epoch 75/100\n",
      "704/704 [==============================] - 13s 19ms/step - loss: 0.8223 - categorical_accuracy: 0.7264 - val_loss: 0.6553 - val_categorical_accuracy: 0.7802- categorical_ac - ETA: 0s - loss: 0.8228 - categorical_accuracy: 0. - ETA: 0s - loss: 0.8222 - categorical_accuracy: 0.\n",
      "Epoch 76/100\n",
      "704/704 [==============================] - 13s 19ms/step - loss: 0.8193 - categorical_accuracy: 0.7274 - val_loss: 0.6670 - val_categorical_accuracy: 0.7802\n",
      "Epoch 77/100\n",
      "704/704 [==============================] - 13s 19ms/step - loss: 0.8254 - categorical_accuracy: 0.7260 - val_loss: 0.6519 - val_categorical_accuracy: 0.7856\n",
      "Epoch 78/100\n",
      "704/704 [==============================] - 13s 19ms/step - loss: 0.8239 - categorical_accuracy: 0.7241 - val_loss: 0.6288 - val_categorical_accuracy: 0.7908\n",
      "Epoch 79/100\n",
      "704/704 [==============================] - 13s 19ms/step - loss: 0.8098 - categorical_accuracy: 0.7326 - val_loss: 0.6379 - val_categorical_accuracy: 0.7860\n",
      "Epoch 80/100\n",
      "704/704 [==============================] - 13s 19ms/step - loss: 0.8104 - categorical_accuracy: 0.7311 - val_loss: 0.6337 - val_categorical_accuracy: 0.7894\n",
      "Epoch 81/100\n",
      "704/704 [==============================] - 13s 19ms/step - loss: 0.8114 - categorical_accuracy: 0.7307 - val_loss: 0.6555 - val_categorical_accuracy: 0.7872\n",
      "Epoch 82/100\n",
      "704/704 [==============================] - 13s 19ms/step - loss: 0.8133 - categorical_accuracy: 0.7309 - val_loss: 0.6541 - val_categorical_accuracy: 0.7908\n",
      "Epoch 83/100\n",
      "704/704 [==============================] - 13s 19ms/step - loss: 0.8079 - categorical_accuracy: 0.7318 - val_loss: 0.6329 - val_categorical_accuracy: 0.7874tegorical_ac - ETA: 1s - loss: 0.8040 -  - ETA: 0s - loss: 0.8072 - categorical_ac - ETA: 0s - loss: 0.8070 - categorical_accuracy: 0.\n",
      "Epoch 84/100\n",
      "704/704 [==============================] - 13s 19ms/step - loss: 0.8019 - categorical_accuracy: 0.7356 - val_loss: 0.6271 - val_categorical_accuracy: 0.7890\n",
      "Epoch 85/100\n",
      "704/704 [==============================] - 13s 19ms/step - loss: 0.7996 - categorical_accuracy: 0.7332 - val_loss: 0.6916 - val_categorical_accuracy: 0.7776\n",
      "Epoch 86/100\n",
      "704/704 [==============================] - 13s 19ms/step - loss: 0.7995 - categorical_accuracy: 0.7356 - val_loss: 0.6771 - val_categorical_accuracy: 0.7746\n",
      "Epoch 87/100\n",
      "704/704 [==============================] - 13s 19ms/step - loss: 0.8044 - categorical_accuracy: 0.7313 - val_loss: 0.6531 - val_categorical_accuracy: 0.7876\n",
      "Epoch 88/100\n",
      "704/704 [==============================] - 13s 19ms/step - loss: 0.7972 - categorical_accuracy: 0.7347 - val_loss: 0.6166 - val_categorical_accuracy: 0.7956\n",
      "Epoch 89/100\n",
      "704/704 [==============================] - 13s 19ms/step - loss: 0.7985 - categorical_accuracy: 0.7374 - val_loss: 0.6497 - val_categorical_accuracy: 0.7924\n",
      "Epoch 90/100\n",
      "704/704 [==============================] - 13s 19ms/step - loss: 0.7916 - categorical_accuracy: 0.7394 - val_loss: 0.6383 - val_categorical_accuracy: 0.7914\n",
      "Epoch 91/100\n",
      "704/704 [==============================] - 13s 19ms/step - loss: 0.7861 - categorical_accuracy: 0.7409 - val_loss: 0.6328 - val_categorical_accuracy: 0.7918\n",
      "Epoch 92/100\n",
      "704/704 [==============================] - 13s 19ms/step - loss: 0.7912 - categorical_accuracy: 0.7363 - val_loss: 0.6353 - val_categorical_accuracy: 0.7882\n",
      "Epoch 93/100\n",
      "704/704 [==============================] - 15s 21ms/step - loss: 0.7900 - categorical_accuracy: 0.7385 - val_loss: 0.6322 - val_categorical_accuracy: 0.7894\n",
      "Epoch 94/100\n",
      "704/704 [==============================] - 13s 19ms/step - loss: 0.7815 - categorical_accuracy: 0.7416 - val_loss: 0.6324 - val_categorical_accuracy: 0.7946\n"
     ]
    },
    {
     "name": "stdout",
     "output_type": "stream",
     "text": [
      "Epoch 95/100\n",
      "704/704 [==============================] - 14s 19ms/step - loss: 0.7852 - categorical_accuracy: 0.7396 - val_loss: 0.6537 - val_categorical_accuracy: 0.7884\n",
      "Epoch 96/100\n",
      "704/704 [==============================] - 14s 19ms/step - loss: 0.7747 - categorical_accuracy: 0.7438 - val_loss: 0.6507 - val_categorical_accuracy: 0.7912\n",
      "Epoch 97/100\n",
      "704/704 [==============================] - 14s 19ms/step - loss: 0.7756 - categorical_accuracy: 0.7431 - val_loss: 0.6716 - val_categorical_accuracy: 0.7842\n",
      "Epoch 98/100\n",
      "704/704 [==============================] - 14s 19ms/step - loss: 0.7893 - categorical_accuracy: 0.7393 - val_loss: 0.7134 - val_categorical_accuracy: 0.7728\n",
      "Epoch 99/100\n",
      "704/704 [==============================] - 14s 19ms/step - loss: 0.7860 - categorical_accuracy: 0.7432 - val_loss: 0.6516 - val_categorical_accuracy: 0.7870\n",
      "Epoch 100/100\n",
      "704/704 [==============================] - 14s 19ms/step - loss: 0.7774 - categorical_accuracy: 0.7415 - val_loss: 0.6419 - val_categorical_accuracy: 0.7898\n"
     ]
    },
    {
     "data": {
      "text/plain": [
       "<tensorflow.python.keras.callbacks.History at 0x26c83613d90>"
      ]
     },
     "execution_count": 13,
     "metadata": {},
     "output_type": "execute_result"
    }
   ],
   "source": [
    "model_1.fit(train_data,\n",
    "            epochs=100, \n",
    "            validation_data=valid_data,\n",
    "            callbacks=[model_cbk, save_cm])"
   ]
  },
  {
   "cell_type": "code",
   "execution_count": 1,
   "id": "bcab9f8d",
   "metadata": {},
   "outputs": [],
   "source": [
    "import os\n",
    "import tensorflow as tf\n",
    "import tensorflow_datasets as tfds\n",
    "from tensorflow import keras\n",
    "from tensorflow.keras import layers\n",
    "# 從資料夾中的preprocessing.py檔案中Import parse_aug_fn和parse_fn函數\n",
    "from preprocessing import parse_aug_fn, parse_fn"
   ]
  },
  {
   "cell_type": "code",
   "execution_count": 2,
   "id": "88bb0ff4",
   "metadata": {},
   "outputs": [],
   "source": [
    "from tensorboard.plugins.hparams import api as hp"
   ]
  },
  {
   "cell_type": "code",
   "execution_count": 3,
   "id": "fd762819",
   "metadata": {},
   "outputs": [],
   "source": [
    "hparam_ia = hp.HParam('Imgae_Augmentation', hp.Discrete([False, True]))\n",
    "hparam_bn = hp.HParam('Batch_Normalization', hp.Discrete([False, True]))\n",
    "hparam_init = hp.HParam('Weight_Initialization', hp.Discrete(['RandomNormal_0.01std', 'glorot_normal', 'he_normal']))\n",
    "hparam_lr = hp.HParam('Learning_Rate', hp.Discrete([0.001, 0.01, 0.03]))"
   ]
  },
  {
   "cell_type": "code",
   "execution_count": 4,
   "id": "bdf48f19",
   "metadata": {},
   "outputs": [
    {
     "ename": "NameError",
     "evalue": "name 'logs_dirs' is not defined",
     "output_type": "error",
     "traceback": [
      "\u001b[1;31m---------------------------------------------------------------------------\u001b[0m",
      "\u001b[1;31mNameError\u001b[0m                                 Traceback (most recent call last)",
      "\u001b[1;32m<ipython-input-4-6047034f5808>\u001b[0m in \u001b[0;36m<module>\u001b[1;34m\u001b[0m\n\u001b[0;32m      1\u001b[0m \u001b[0mlogs_dors\u001b[0m \u001b[1;33m=\u001b[0m \u001b[0mos\u001b[0m\u001b[1;33m.\u001b[0m\u001b[0mpath\u001b[0m\u001b[1;33m.\u001b[0m\u001b[0mjoin\u001b[0m\u001b[1;33m(\u001b[0m\u001b[1;34m'lab7-logs-hparams'\u001b[0m\u001b[1;33m,\u001b[0m \u001b[1;34m'hparam_tuning'\u001b[0m\u001b[1;33m)\u001b[0m\u001b[1;33m\u001b[0m\u001b[1;33m\u001b[0m\u001b[0m\n\u001b[1;32m----> 2\u001b[1;33m \u001b[0mroot_logdir_writer\u001b[0m \u001b[1;33m=\u001b[0m \u001b[0mtf\u001b[0m\u001b[1;33m.\u001b[0m\u001b[0msummary\u001b[0m\u001b[1;33m.\u001b[0m\u001b[0mcreate_file_writer\u001b[0m\u001b[1;33m(\u001b[0m\u001b[0mlogs_dirs\u001b[0m\u001b[1;33m)\u001b[0m\u001b[1;33m\u001b[0m\u001b[1;33m\u001b[0m\u001b[0m\n\u001b[0m\u001b[0;32m      3\u001b[0m \u001b[1;31m#with root_logdir_writer.as_default ():\u001b[0m\u001b[1;33m\u001b[0m\u001b[1;33m\u001b[0m\u001b[1;33m\u001b[0m\u001b[0m\n\u001b[0;32m      4\u001b[0m \u001b[1;31m#    hp.hparams_config(hparams=[hp_ia , hp_bn, hp_init, hp_lr], metrics=[hp_metric])\u001b[0m\u001b[1;33m\u001b[0m\u001b[1;33m\u001b[0m\u001b[1;33m\u001b[0m\u001b[0m\n\u001b[0;32m      5\u001b[0m \u001b[1;33m\u001b[0m\u001b[0m\n",
      "\u001b[1;31mNameError\u001b[0m: name 'logs_dirs' is not defined"
     ]
    }
   ],
   "source": [
    "logs_dors = os.path.join('lab7-logs-hparams', 'hparam_tuning')\n",
    "root_logdir_writer = tf.summary.create_file_writer(logs_dirs)\n",
    "#with root_logdir_writer.as_default ():\n",
    "#    hp.hparams_config(hparams=[hp_ia , hp_bn, hp_init, hp_lr], metrics=[hp_metric])\n",
    "\n",
    "metric = 'Accuracy'\n",
    "log_dirs = \"lab7-logs-hparams/hparam_tuning\"\n",
    "with tf.summary.create_file_writer(log_dirs).as_default():\n",
    "    hp.hparams_config(\n",
    "        hparams=[hparam_ia, hparam_bn, hparam_init, hparam_lr],\n",
    "        metrics=[hp.Metric(metric, display_name='Accuracy')],\n",
    "    )"
   ]
  },
  {
   "cell_type": "code",
   "execution_count": 97,
   "id": "519179b6",
   "metadata": {},
   "outputs": [],
   "source": [
    "train_split, valid_split = ['train[:90%]', 'train[90%:]']\n",
    "train_data_noaug, info = tfds.load(\"cifar10\", split=train_split,with_info=True)\n",
    "train_data_aug = tfds.load(\"cifar10\", split=train_split)\n",
    "valid_data = tfds.load(\"cifar10\", split=valid_split)"
   ]
  },
  {
   "cell_type": "code",
   "execution_count": 98,
   "id": "83bfd2aa",
   "metadata": {},
   "outputs": [],
   "source": [
    "AUTOTUNE = tf.data.experimental.AUTOTUNE  # 自動調整模式\n",
    "batch_size = 64  # 批次大小\n",
    "# 將train Data重新分成1:9等分，分別分給valid data, train data\n",
    "train_split, valid_split = ['train[:90%]', 'train[90%:]']\n",
    "\n",
    "# 取得訓練數據\n",
    "train_data_noaug, info = tfds.load(\"cifar10\", split=train_split, with_info=True)\n",
    "train_data_aug = tfds.load(\"cifar10\", split=train_split)\n",
    "# 取得驗證數據\n",
    "valid_data = tfds.load(\"cifar10\", split=valid_split)\n",
    "\n",
    "train_num = int(info.splits['train'].num_examples / 5) * 4  # 訓練資料數量\n",
    "\n",
    "train_data_noaug = train_data_noaug.shuffle(train_num)  # 打散資料集\n",
    "# 載入預處理「 parse_aug_fn」function，cpu數量為自動調整模式\n",
    "train_data_noaug = train_data_noaug.map(map_func=parse_fn, num_parallel_calls=AUTOTUNE)\n",
    "# 設定批次大小並將prefetch模式開啟(暫存空間為自動調整模式)\n",
    "train_data_noaug = train_data_noaug.batch(batch_size).prefetch(buffer_size=AUTOTUNE)\n",
    "\n",
    "train_data_aug = train_data_aug.shuffle(train_num)  # 打散資料集\n",
    "# 載入預處理「 parse_fn」function，cpu數量為自動調整模式\n",
    "train_data_aug = train_data_aug.map(map_func=parse_aug_fn, num_parallel_calls=AUTOTUNE)\n",
    "# 設定批次大小並將prefetch模式開啟(暫存空間為自動調整模式)\n",
    "train_data_aug = train_data_aug.batch(batch_size).prefetch(buffer_size=AUTOTUNE)\n",
    "\n",
    "# 載入預處理「 parse_fn」function，cpu數量為自動調整模式\n",
    "valid_data = valid_data.map(map_func=parse_fn, num_parallel_calls=AUTOTUNE)\n",
    "# 設定批次大小並將prefetch模式開啟(暫存空間為自動調整模式)\n",
    "valid_data = valid_data.batch(batch_size).prefetch(buffer_size=AUTOTUNE)"
   ]
  },
  {
   "cell_type": "code",
   "execution_count": 99,
   "id": "08fb4c54",
   "metadata": {},
   "outputs": [],
   "source": [
    "class HyperparameterCallback(tf.keras.callbacks.Callback):\n",
    "    # 類別創建時調用\n",
    "    def __init__(self, log_dir, hparams):\n",
    "        super(HyperparameterCallback, self).__init__()\n",
    "        self.log_dir = log_dir\n",
    "        self.hparams = hparams\n",
    "        self.best_accuracy = 0\n",
    "        self.writer = None\n",
    "        \n",
    "    # 訓練開始前調用\n",
    "    def on_train_begin(self, logs=None):\n",
    "        self.writer = tf.summary.create_file_writer(self.log_dir)\n",
    "\n",
    "    # 每一個Epcoh結束後調用\n",
    "    def on_epoch_end(self, epoch, logs=None):\n",
    "        current_accuracy = logs.get('val_categorical_accuracy')\n",
    "        if current_accuracy > self.best_accuracy:\n",
    "            self.best_accuracy = current_accuracy\n",
    "            \n",
    "    # 訓練結束時調用\n",
    "    def on_train_end(self, logs=None):\n",
    "        with self.writer.as_default():\n",
    "            hp.hparams(self.hparams)  # record the values used in this trial\n",
    "            tf.summary.scalar(metric, self.best_accuracy, step=0)"
   ]
  },
  {
   "cell_type": "code",
   "execution_count": 100,
   "id": "e98f577d",
   "metadata": {},
   "outputs": [],
   "source": [
    "def train_test_model(logs_dir, hparams):\n",
    "    \"\"\"\n",
    "    logs_dir:傳入目前執行的任務log檔的位置\n",
    "    hparams:傳入超參數\n",
    "    \"\"\"\n",
    "    # 指派網路模型初始化的方法\n",
    "    if hparams[hparam_init] == \"glorot_normal\":\n",
    "        init = keras.initializers.glorot_normal()\n",
    "    elif hparams[hparam_init] == \"he_normal\":\n",
    "        init = keras.initializers.he_normal()\n",
    "    else:\n",
    "        init = keras.initializers.RandomNormal(0, 0.01)\n",
    "\n",
    "    inputs = keras.Input(shape=(32, 32, 3))\n",
    "    x = layers.Conv2D(64, (3, 3), kernel_initializer=init)(inputs)\n",
    "    if hparams[hparam_bn]: x = layers.BatchNormalization()(x)\n",
    "    x = layers.ReLU()(x)\n",
    "    x = layers.MaxPool2D()(x)\n",
    "    x = layers.Conv2D(128, (3, 3), kernel_initializer=init)(x)\n",
    "    if hparams[hparam_bn]: x = layers.BatchNormalization()(x)\n",
    "    x = layers.ReLU()(x)\n",
    "    x = layers.Conv2D(256, (3, 3), kernel_initializer=init)(x)\n",
    "    if hparams[hparam_bn]: x = layers.BatchNormalization()(x)\n",
    "    x = layers.ReLU()(x)\n",
    "    x = layers.Conv2D(128, (3, 3), kernel_initializer=init)(x)\n",
    "    if hparams[hparam_bn]: x = layers.BatchNormalization()(x)\n",
    "    x = layers.ReLU()(x)\n",
    "    x = layers.Conv2D(64, (3, 3), kernel_initializer=init)(x)\n",
    "    if hparams[hparam_bn]: x = layers.BatchNormalization()(x)\n",
    "    x = layers.ReLU()(x)\n",
    "    x = layers.Flatten()(x)\n",
    "    x = layers.Dense(64, kernel_initializer=init)(x)\n",
    "    if hparams[hparam_bn]: x = layers.BatchNormalization()(x)\n",
    "    x = layers.ReLU()(x)\n",
    "    x = layers.Dropout(0.5)(x)\n",
    "    outputs = layers.Dense(10, activation='softmax')(x)\n",
    "    # 建立網路模型(將輸入到輸出所有經過的網路層連接起來)\n",
    "    model = keras.Model(inputs, outputs, name='model')\n",
    "\n",
    "    # 儲存訓練記錄檔\n",
    "    model_tb = keras.callbacks.TensorBoard(log_dir=logs_dir, write_graph=False)\n",
    "\n",
    "    # 儲存最好的網路模型權重\n",
    "    model_mckp = keras.callbacks.ModelCheckpoint(logs_dir +'/best-model.hdf5', \n",
    "                                                 monitor='val_categorical_accuracy', \n",
    "                                                 save_best_only=True, \n",
    "                                                 mode='max')\n",
    "    \n",
    "    # 設定停止訓練的條件(當Accuracy超過30迭代沒有上升的話訓練會終止)\n",
    "    model_els = keras.callbacks.EarlyStopping(monitor='val_categorical_accuracy' , \n",
    "                                              min_delta=0, \n",
    "                                              patience=30, \n",
    "                                              mode='max')\n",
    "    # 客自化超參數回調函式，紀錄訓練模型的超參數和指標(準確率)\n",
    "    model_hparam = HyperparameterCallback(logs_dir + 'hparam_tuning', hparams)\n",
    "\n",
    "\n",
    "    # 設定訓練使用的優化器、損失函數和指標函數\n",
    "    # 優化器學習率為超參數：0.001、0.01或0.03\n",
    "    model.compile(keras.optimizers.Adam(hparams[hparam_lr]), \n",
    "                  loss=keras.losses.CategoricalCrossentropy(), \n",
    "                  metrics=[keras.metrics.CategoricalAccuracy()])\n",
    "    \n",
    "    # 超參數：使用「經過影像增強的數據」或「不經過影像增強的數據」訓練網路\n",
    "    if hparams[hparam_ia]:\n",
    "        history = model.fit(train_data_aug,\n",
    "                            epochs=2, \n",
    "                            validation_data=valid_data,\n",
    "                            callbacks=[model_tb, model_mckp, model_els, model_hparam])\n",
    "    else:\n",
    "        history = model.fit(train_data_noaug,\n",
    "                            epochs=2, \n",
    "                            validation_data=valid_data,\n",
    "                            callbacks=[model_tb, model_mckp, model_els, model_hparam])"
   ]
  },
  {
   "cell_type": "code",
   "execution_count": 101,
   "id": "fe5d6b40",
   "metadata": {
    "scrolled": true
   },
   "outputs": [
    {
     "name": "stdout",
     "output_type": "stream",
     "text": [
      "--- Running training session 1\n",
      "Epoch 1/2\n",
      "  6/704 [..............................] - ETA: 51s - loss: 2.3027 - categorical_accuracy: 0.1094 WARNING:tensorflow:Callback method `on_train_batch_end` is slow compared to the batch time (batch time: 0.0109s vs `on_train_batch_end` time: 0.0535s). Check your callbacks.\n"
     ]
    },
    {
     "name": "stderr",
     "output_type": "stream",
     "text": [
      "WARNING:tensorflow:Callback method `on_train_batch_end` is slow compared to the batch time (batch time: 0.0109s vs `on_train_batch_end` time: 0.0535s). Check your callbacks.\n"
     ]
    },
    {
     "name": "stdout",
     "output_type": "stream",
     "text": [
      "704/704 [==============================] - 14s 19ms/step - loss: 2.3027 - categorical_accuracy: 0.1000 - val_loss: 2.3027 - val_categorical_accuracy: 0.0990\n",
      "Epoch 2/2\n",
      "704/704 [==============================] - 13s 18ms/step - loss: 2.3027 - categorical_accuracy: 0.0973 - val_loss: 2.3029 - val_categorical_accuracy: 0.09401s - los\n",
      "--- Running training session 2\n",
      "Epoch 1/2\n",
      "  6/704 [..............................] - ETA: 1:04 - loss: 2.7879 - categorical_accuracy: 0.0911WARNING:tensorflow:Callback method `on_train_batch_end` is slow compared to the batch time (batch time: 0.0106s vs `on_train_batch_end` time: 0.0694s). Check your callbacks.\n"
     ]
    },
    {
     "name": "stderr",
     "output_type": "stream",
     "text": [
      "WARNING:tensorflow:Callback method `on_train_batch_end` is slow compared to the batch time (batch time: 0.0106s vs `on_train_batch_end` time: 0.0694s). Check your callbacks.\n"
     ]
    },
    {
     "name": "stdout",
     "output_type": "stream",
     "text": [
      "704/704 [==============================] - 14s 19ms/step - loss: 2.3078 - categorical_accuracy: 0.0991 - val_loss: 2.3045 - val_categorical_accuracy: 0.0994\n",
      "Epoch 2/2\n",
      "704/704 [==============================] - 13s 18ms/step - loss: 2.3039 - categorical_accuracy: 0.0986 - val_loss: 2.3035 - val_categorical_accuracy: 0.1000categorical_accuracy:  - ETA\n",
      "--- Running training session 3\n",
      "Epoch 1/2\n",
      "  6/704 [..............................] - ETA: 50s - loss: 77.9932 - categorical_accuracy: 0.0651  WARNING:tensorflow:Callback method `on_train_batch_end` is slow compared to the batch time (batch time: 0.0100s vs `on_train_batch_end` time: 0.0525s). Check your callbacks.\n"
     ]
    },
    {
     "name": "stderr",
     "output_type": "stream",
     "text": [
      "WARNING:tensorflow:Callback method `on_train_batch_end` is slow compared to the batch time (batch time: 0.0100s vs `on_train_batch_end` time: 0.0525s). Check your callbacks.\n"
     ]
    },
    {
     "name": "stdout",
     "output_type": "stream",
     "text": [
      "704/704 [==============================] - 14s 19ms/step - loss: 2.9515 - categorical_accuracy: 0.0975 - val_loss: 2.3071 - val_categorical_accuracy: 0.1006\n",
      "Epoch 2/2\n",
      "704/704 [==============================] - 13s 18ms/step - loss: 2.3053 - categorical_accuracy: 0.0977 - val_loss: 2.3072 - val_categorical_accuracy: 0.0940\n",
      "--- Running training session 4\n",
      "Epoch 1/2\n",
      "  6/704 [..............................] - ETA: 52s - loss: 2.3228 - categorical_accuracy: 0.0964 WARNING:tensorflow:Callback method `on_train_batch_end` is slow compared to the batch time (batch time: 0.0104s vs `on_train_batch_end` time: 0.0546s). Check your callbacks.\n"
     ]
    },
    {
     "name": "stderr",
     "output_type": "stream",
     "text": [
      "WARNING:tensorflow:Callback method `on_train_batch_end` is slow compared to the batch time (batch time: 0.0104s vs `on_train_batch_end` time: 0.0546s). Check your callbacks.\n"
     ]
    },
    {
     "name": "stdout",
     "output_type": "stream",
     "text": [
      "704/704 [==============================] - 14s 19ms/step - loss: 1.9040 - categorical_accuracy: 0.2742 - val_loss: 1.5196 - val_categorical_accuracy: 0.4374\n",
      "Epoch 2/2\n",
      "704/704 [==============================] - 13s 18ms/step - loss: 1.5155 - categorical_accuracy: 0.4432 - val_loss: 1.2809 - val_categorical_accuracy: 0.5350\n",
      "--- Running training session 5\n",
      "Epoch 1/2\n",
      "  6/704 [..............................] - ETA: 51s - loss: 63.7466 - categorical_accuracy: 0.1042  WARNING:tensorflow:Callback method `on_train_batch_end` is slow compared to the batch time (batch time: 0.0104s vs `on_train_batch_end` time: 0.0531s). Check your callbacks.\n"
     ]
    },
    {
     "name": "stderr",
     "output_type": "stream",
     "text": [
      "WARNING:tensorflow:Callback method `on_train_batch_end` is slow compared to the batch time (batch time: 0.0104s vs `on_train_batch_end` time: 0.0531s). Check your callbacks.\n"
     ]
    },
    {
     "name": "stdout",
     "output_type": "stream",
     "text": [
      "199/704 [=======>......................] - ETA: 9s - loss: 4.2617 - categorical_accuracy: 0.0944 - ETA: 13s - loss: 7.1142  - ETA: 10s - loss: 4.5691 - categorical_a"
     ]
    },
    {
     "ename": "KeyboardInterrupt",
     "evalue": "",
     "output_type": "error",
     "traceback": [
      "\u001b[1;31m---------------------------------------------------------------------------\u001b[0m",
      "\u001b[1;31mKeyboardInterrupt\u001b[0m                         Traceback (most recent call last)",
      "\u001b[1;32m~\\AppData\\Local\\Temp/ipykernel_13256/2980639135.py\u001b[0m in \u001b[0;36m<module>\u001b[1;34m\u001b[0m\n\u001b[0;32m     11\u001b[0m                 \u001b[0mlogs_dir\u001b[0m \u001b[1;33m=\u001b[0m \u001b[0mos\u001b[0m\u001b[1;33m.\u001b[0m\u001b[0mpath\u001b[0m\u001b[1;33m.\u001b[0m\u001b[0mjoin\u001b[0m\u001b[1;33m(\u001b[0m\u001b[1;34m\"lab7-logs-hparams\"\u001b[0m\u001b[1;33m,\u001b[0m \u001b[1;34m\"run-{}\"\u001b[0m\u001b[1;33m.\u001b[0m\u001b[0mformat\u001b[0m\u001b[1;33m(\u001b[0m\u001b[0msession_id\u001b[0m\u001b[1;33m)\u001b[0m\u001b[1;33m)\u001b[0m\u001b[1;33m\u001b[0m\u001b[1;33m\u001b[0m\u001b[0m\n\u001b[0;32m     12\u001b[0m                 \u001b[1;31m# 建立、編譯及訓練網路模型\u001b[0m\u001b[1;33m\u001b[0m\u001b[1;33m\u001b[0m\u001b[1;33m\u001b[0m\u001b[0m\n\u001b[1;32m---> 13\u001b[1;33m                 \u001b[0mtrain_test_model\u001b[0m\u001b[1;33m(\u001b[0m\u001b[0mlogs_dir\u001b[0m\u001b[1;33m,\u001b[0m \u001b[0mhparams\u001b[0m\u001b[1;33m)\u001b[0m\u001b[1;33m\u001b[0m\u001b[1;33m\u001b[0m\u001b[0m\n\u001b[0m\u001b[0;32m     14\u001b[0m                 \u001b[0msession_id\u001b[0m \u001b[1;33m+=\u001b[0m \u001b[1;36m1\u001b[0m  \u001b[1;31m# id+1\u001b[0m\u001b[1;33m\u001b[0m\u001b[1;33m\u001b[0m\u001b[0m\n",
      "\u001b[1;32m~\\AppData\\Local\\Temp/ipykernel_13256/1321987285.py\u001b[0m in \u001b[0;36mtrain_test_model\u001b[1;34m(logs_dir, hparams)\u001b[0m\n\u001b[0;32m     69\u001b[0m                             callbacks=[model_tb, model_mckp, model_els, model_hparam])\n\u001b[0;32m     70\u001b[0m     \u001b[1;32melse\u001b[0m\u001b[1;33m:\u001b[0m\u001b[1;33m\u001b[0m\u001b[1;33m\u001b[0m\u001b[0m\n\u001b[1;32m---> 71\u001b[1;33m         history = model.fit(train_data_noaug,\n\u001b[0m\u001b[0;32m     72\u001b[0m                             \u001b[0mepochs\u001b[0m\u001b[1;33m=\u001b[0m\u001b[1;36m2\u001b[0m\u001b[1;33m,\u001b[0m\u001b[1;33m\u001b[0m\u001b[1;33m\u001b[0m\u001b[0m\n\u001b[0;32m     73\u001b[0m                             \u001b[0mvalidation_data\u001b[0m\u001b[1;33m=\u001b[0m\u001b[0mvalid_data\u001b[0m\u001b[1;33m,\u001b[0m\u001b[1;33m\u001b[0m\u001b[1;33m\u001b[0m\u001b[0m\n",
      "\u001b[1;32m~\\tf2\\lib\\site-packages\\tensorflow\\python\\keras\\engine\\training.py\u001b[0m in \u001b[0;36mfit\u001b[1;34m(self, x, y, batch_size, epochs, verbose, callbacks, validation_split, validation_data, shuffle, class_weight, sample_weight, initial_epoch, steps_per_epoch, validation_steps, validation_batch_size, validation_freq, max_queue_size, workers, use_multiprocessing)\u001b[0m\n\u001b[0;32m   1181\u001b[0m                 _r=1):\n\u001b[0;32m   1182\u001b[0m               \u001b[0mcallbacks\u001b[0m\u001b[1;33m.\u001b[0m\u001b[0mon_train_batch_begin\u001b[0m\u001b[1;33m(\u001b[0m\u001b[0mstep\u001b[0m\u001b[1;33m)\u001b[0m\u001b[1;33m\u001b[0m\u001b[1;33m\u001b[0m\u001b[0m\n\u001b[1;32m-> 1183\u001b[1;33m               \u001b[0mtmp_logs\u001b[0m \u001b[1;33m=\u001b[0m \u001b[0mself\u001b[0m\u001b[1;33m.\u001b[0m\u001b[0mtrain_function\u001b[0m\u001b[1;33m(\u001b[0m\u001b[0miterator\u001b[0m\u001b[1;33m)\u001b[0m\u001b[1;33m\u001b[0m\u001b[1;33m\u001b[0m\u001b[0m\n\u001b[0m\u001b[0;32m   1184\u001b[0m               \u001b[1;32mif\u001b[0m \u001b[0mdata_handler\u001b[0m\u001b[1;33m.\u001b[0m\u001b[0mshould_sync\u001b[0m\u001b[1;33m:\u001b[0m\u001b[1;33m\u001b[0m\u001b[1;33m\u001b[0m\u001b[0m\n\u001b[0;32m   1185\u001b[0m                 \u001b[0mcontext\u001b[0m\u001b[1;33m.\u001b[0m\u001b[0masync_wait\u001b[0m\u001b[1;33m(\u001b[0m\u001b[1;33m)\u001b[0m\u001b[1;33m\u001b[0m\u001b[1;33m\u001b[0m\u001b[0m\n",
      "\u001b[1;32m~\\tf2\\lib\\site-packages\\tensorflow\\python\\eager\\def_function.py\u001b[0m in \u001b[0;36m__call__\u001b[1;34m(self, *args, **kwds)\u001b[0m\n\u001b[0;32m    887\u001b[0m \u001b[1;33m\u001b[0m\u001b[0m\n\u001b[0;32m    888\u001b[0m       \u001b[1;32mwith\u001b[0m \u001b[0mOptionalXlaContext\u001b[0m\u001b[1;33m(\u001b[0m\u001b[0mself\u001b[0m\u001b[1;33m.\u001b[0m\u001b[0m_jit_compile\u001b[0m\u001b[1;33m)\u001b[0m\u001b[1;33m:\u001b[0m\u001b[1;33m\u001b[0m\u001b[1;33m\u001b[0m\u001b[0m\n\u001b[1;32m--> 889\u001b[1;33m         \u001b[0mresult\u001b[0m \u001b[1;33m=\u001b[0m \u001b[0mself\u001b[0m\u001b[1;33m.\u001b[0m\u001b[0m_call\u001b[0m\u001b[1;33m(\u001b[0m\u001b[1;33m*\u001b[0m\u001b[0margs\u001b[0m\u001b[1;33m,\u001b[0m \u001b[1;33m**\u001b[0m\u001b[0mkwds\u001b[0m\u001b[1;33m)\u001b[0m\u001b[1;33m\u001b[0m\u001b[1;33m\u001b[0m\u001b[0m\n\u001b[0m\u001b[0;32m    890\u001b[0m \u001b[1;33m\u001b[0m\u001b[0m\n\u001b[0;32m    891\u001b[0m       \u001b[0mnew_tracing_count\u001b[0m \u001b[1;33m=\u001b[0m \u001b[0mself\u001b[0m\u001b[1;33m.\u001b[0m\u001b[0mexperimental_get_tracing_count\u001b[0m\u001b[1;33m(\u001b[0m\u001b[1;33m)\u001b[0m\u001b[1;33m\u001b[0m\u001b[1;33m\u001b[0m\u001b[0m\n",
      "\u001b[1;32m~\\tf2\\lib\\site-packages\\tensorflow\\python\\eager\\def_function.py\u001b[0m in \u001b[0;36m_call\u001b[1;34m(self, *args, **kwds)\u001b[0m\n\u001b[0;32m    915\u001b[0m       \u001b[1;31m# In this case we have created variables on the first call, so we run the\u001b[0m\u001b[1;33m\u001b[0m\u001b[1;33m\u001b[0m\u001b[1;33m\u001b[0m\u001b[0m\n\u001b[0;32m    916\u001b[0m       \u001b[1;31m# defunned version which is guaranteed to never create variables.\u001b[0m\u001b[1;33m\u001b[0m\u001b[1;33m\u001b[0m\u001b[1;33m\u001b[0m\u001b[0m\n\u001b[1;32m--> 917\u001b[1;33m       \u001b[1;32mreturn\u001b[0m \u001b[0mself\u001b[0m\u001b[1;33m.\u001b[0m\u001b[0m_stateless_fn\u001b[0m\u001b[1;33m(\u001b[0m\u001b[1;33m*\u001b[0m\u001b[0margs\u001b[0m\u001b[1;33m,\u001b[0m \u001b[1;33m**\u001b[0m\u001b[0mkwds\u001b[0m\u001b[1;33m)\u001b[0m  \u001b[1;31m# pylint: disable=not-callable\u001b[0m\u001b[1;33m\u001b[0m\u001b[1;33m\u001b[0m\u001b[0m\n\u001b[0m\u001b[0;32m    918\u001b[0m     \u001b[1;32melif\u001b[0m \u001b[0mself\u001b[0m\u001b[1;33m.\u001b[0m\u001b[0m_stateful_fn\u001b[0m \u001b[1;32mis\u001b[0m \u001b[1;32mnot\u001b[0m \u001b[1;32mNone\u001b[0m\u001b[1;33m:\u001b[0m\u001b[1;33m\u001b[0m\u001b[1;33m\u001b[0m\u001b[0m\n\u001b[0;32m    919\u001b[0m       \u001b[1;31m# Release the lock early so that multiple threads can perform the call\u001b[0m\u001b[1;33m\u001b[0m\u001b[1;33m\u001b[0m\u001b[1;33m\u001b[0m\u001b[0m\n",
      "\u001b[1;32m~\\tf2\\lib\\site-packages\\tensorflow\\python\\eager\\function.py\u001b[0m in \u001b[0;36m__call__\u001b[1;34m(self, *args, **kwargs)\u001b[0m\n\u001b[0;32m   3021\u001b[0m       (graph_function,\n\u001b[0;32m   3022\u001b[0m        filtered_flat_args) = self._maybe_define_function(args, kwargs)\n\u001b[1;32m-> 3023\u001b[1;33m     return graph_function._call_flat(\n\u001b[0m\u001b[0;32m   3024\u001b[0m         filtered_flat_args, captured_inputs=graph_function.captured_inputs)  # pylint: disable=protected-access\n\u001b[0;32m   3025\u001b[0m \u001b[1;33m\u001b[0m\u001b[0m\n",
      "\u001b[1;32m~\\tf2\\lib\\site-packages\\tensorflow\\python\\eager\\function.py\u001b[0m in \u001b[0;36m_call_flat\u001b[1;34m(self, args, captured_inputs, cancellation_manager)\u001b[0m\n\u001b[0;32m   1958\u001b[0m         and executing_eagerly):\n\u001b[0;32m   1959\u001b[0m       \u001b[1;31m# No tape is watching; skip to running the function.\u001b[0m\u001b[1;33m\u001b[0m\u001b[1;33m\u001b[0m\u001b[1;33m\u001b[0m\u001b[0m\n\u001b[1;32m-> 1960\u001b[1;33m       return self._build_call_outputs(self._inference_function.call(\n\u001b[0m\u001b[0;32m   1961\u001b[0m           ctx, args, cancellation_manager=cancellation_manager))\n\u001b[0;32m   1962\u001b[0m     forward_backward = self._select_forward_and_backward_functions(\n",
      "\u001b[1;32m~\\tf2\\lib\\site-packages\\tensorflow\\python\\eager\\function.py\u001b[0m in \u001b[0;36mcall\u001b[1;34m(self, ctx, args, cancellation_manager)\u001b[0m\n\u001b[0;32m    589\u001b[0m       \u001b[1;32mwith\u001b[0m \u001b[0m_InterpolateFunctionError\u001b[0m\u001b[1;33m(\u001b[0m\u001b[0mself\u001b[0m\u001b[1;33m)\u001b[0m\u001b[1;33m:\u001b[0m\u001b[1;33m\u001b[0m\u001b[1;33m\u001b[0m\u001b[0m\n\u001b[0;32m    590\u001b[0m         \u001b[1;32mif\u001b[0m \u001b[0mcancellation_manager\u001b[0m \u001b[1;32mis\u001b[0m \u001b[1;32mNone\u001b[0m\u001b[1;33m:\u001b[0m\u001b[1;33m\u001b[0m\u001b[1;33m\u001b[0m\u001b[0m\n\u001b[1;32m--> 591\u001b[1;33m           outputs = execute.execute(\n\u001b[0m\u001b[0;32m    592\u001b[0m               \u001b[0mstr\u001b[0m\u001b[1;33m(\u001b[0m\u001b[0mself\u001b[0m\u001b[1;33m.\u001b[0m\u001b[0msignature\u001b[0m\u001b[1;33m.\u001b[0m\u001b[0mname\u001b[0m\u001b[1;33m)\u001b[0m\u001b[1;33m,\u001b[0m\u001b[1;33m\u001b[0m\u001b[1;33m\u001b[0m\u001b[0m\n\u001b[0;32m    593\u001b[0m               \u001b[0mnum_outputs\u001b[0m\u001b[1;33m=\u001b[0m\u001b[0mself\u001b[0m\u001b[1;33m.\u001b[0m\u001b[0m_num_outputs\u001b[0m\u001b[1;33m,\u001b[0m\u001b[1;33m\u001b[0m\u001b[1;33m\u001b[0m\u001b[0m\n",
      "\u001b[1;32m~\\tf2\\lib\\site-packages\\tensorflow\\python\\eager\\execute.py\u001b[0m in \u001b[0;36mquick_execute\u001b[1;34m(op_name, num_outputs, inputs, attrs, ctx, name)\u001b[0m\n\u001b[0;32m     57\u001b[0m   \u001b[1;32mtry\u001b[0m\u001b[1;33m:\u001b[0m\u001b[1;33m\u001b[0m\u001b[1;33m\u001b[0m\u001b[0m\n\u001b[0;32m     58\u001b[0m     \u001b[0mctx\u001b[0m\u001b[1;33m.\u001b[0m\u001b[0mensure_initialized\u001b[0m\u001b[1;33m(\u001b[0m\u001b[1;33m)\u001b[0m\u001b[1;33m\u001b[0m\u001b[1;33m\u001b[0m\u001b[0m\n\u001b[1;32m---> 59\u001b[1;33m     tensors = pywrap_tfe.TFE_Py_Execute(ctx._handle, device_name, op_name,\n\u001b[0m\u001b[0;32m     60\u001b[0m                                         inputs, attrs, num_outputs)\n\u001b[0;32m     61\u001b[0m   \u001b[1;32mexcept\u001b[0m \u001b[0mcore\u001b[0m\u001b[1;33m.\u001b[0m\u001b[0m_NotOkStatusException\u001b[0m \u001b[1;32mas\u001b[0m \u001b[0me\u001b[0m\u001b[1;33m:\u001b[0m\u001b[1;33m\u001b[0m\u001b[1;33m\u001b[0m\u001b[0m\n",
      "\u001b[1;31mKeyboardInterrupt\u001b[0m: "
     ]
    }
   ],
   "source": [
    "session_id = 1  # 訓練任務的id\n",
    "for ia in hparam_ia.domain.values:\n",
    "    for bn in hparam_bn.domain.values:\n",
    "        for init in hparam_init.domain.values:\n",
    "            for lr in hparam_lr.domain.values:\n",
    "                # 顯示目前訓練任務id\n",
    "                print('--- Running training session {}'.format(session_id))\n",
    "                # 設定本次訓練的超參數\n",
    "                hparams = {hparam_ia: ia, hparam_bn: bn, hparam_init: init, hparam_lr: lr}\n",
    "                # 儲放紀錄檔的位置\n",
    "                logs_dir = os.path.join(\"lab7-logs-hparams\", \"run-{}\".format(session_id))\n",
    "                # 建立、編譯及訓練網路模型\n",
    "                train_test_model(logs_dir, hparams)\n",
    "                session_id += 1  # id+1"
   ]
  },
  {
   "cell_type": "code",
   "execution_count": 1,
   "id": "69402efb",
   "metadata": {
    "scrolled": false
   },
   "outputs": [
    {
     "data": {
      "text/html": [
       "\n",
       "      <iframe id=\"tensorboard-frame-64742cd2fcddbe2a\" width=\"100%\" height=\"800\" frameborder=\"0\">\n",
       "      </iframe>\n",
       "      <script>\n",
       "        (function() {\n",
       "          const frame = document.getElementById(\"tensorboard-frame-64742cd2fcddbe2a\");\n",
       "          const url = new URL(\"/\", window.location);\n",
       "          const port = 9875;\n",
       "          if (port) {\n",
       "            url.port = port;\n",
       "          }\n",
       "          frame.src = url;\n",
       "        })();\n",
       "      </script>\n",
       "    "
      ],
      "text/plain": [
       "<IPython.core.display.HTML object>"
      ]
     },
     "metadata": {},
     "output_type": "display_data"
    }
   ],
   "source": [
    "%load_ext tensorboard\n",
    "%tensorboard --port 9875 --logdir lab7-logs-images"
   ]
  }
 ],
 "metadata": {
  "kernelspec": {
   "display_name": "tf2",
   "language": "python",
   "name": "tf2"
  },
  "language_info": {
   "codemirror_mode": {
    "name": "ipython",
    "version": 3
   },
   "file_extension": ".py",
   "mimetype": "text/x-python",
   "name": "python",
   "nbconvert_exporter": "python",
   "pygments_lexer": "ipython3",
   "version": "3.9.9"
  }
 },
 "nbformat": 4,
 "nbformat_minor": 5
}
