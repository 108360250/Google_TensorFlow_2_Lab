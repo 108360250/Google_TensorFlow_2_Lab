{
 "cells": [
  {
   "cell_type": "code",
   "execution_count": 3,
   "id": "3e8ef671",
   "metadata": {},
   "outputs": [
    {
     "name": "stdout",
     "output_type": "stream",
     "text": [
      " 磁碟區 D 中的磁碟是 HDD\n",
      " 磁碟區序號:  D883-A752\n",
      "\n",
      " D:\\NTUT\\Topic\\Lab_Tensorflow2\\Lab10 的目錄\n",
      "\n",
      "15/01/2022 週六  下午 09:56    <DIR>          .\n",
      "15/01/2022 週六  下午 09:49    <DIR>          ..\n",
      "07/07/2021 週三  下午 02:10                61 .gitignore\n",
      "15/01/2022 週六  下午 09:49    <DIR>          .idea\n",
      "15/01/2022 週六  下午 09:54    <DIR>          .ipynb_checkpoints\n",
      "07/07/2021 週三  下午 02:10             1,066 LICENSE\n",
      "15/01/2022 週六  下午 09:49    <DIR>          logs_vae\n",
      "15/09/2021 週三  下午 05:34               171 main.py\n",
      "15/09/2021 週三  下午 05:53           165,202 output.png\n",
      "07/07/2021 週三  下午 02:10               509 README.md\n",
      "15/09/2021 週三  下午 05:53               769 test.py\n",
      "07/07/2021 週三  下午 02:10             1,741 train.py\n",
      "15/01/2022 週六  下午 09:56               748 Untitled.ipynb\n",
      "15/01/2022 週六  下午 09:49    <DIR>          utils\n",
      "               8 個檔案         170,267 位元組\n",
      "               6 個目錄  1,837,484,163,072 位元組可用\n"
     ]
    }
   ],
   "source": [
    "!dir"
   ]
  },
  {
   "cell_type": "code",
   "execution_count": 4,
   "id": "5e870dc7",
   "metadata": {},
   "outputs": [],
   "source": [
    "%load_ext tensorboard"
   ]
  },
  {
   "cell_type": "code",
   "execution_count": 5,
   "id": "76d99227",
   "metadata": {},
   "outputs": [
    {
     "data": {
      "text/html": [
       "\n",
       "      <iframe id=\"tensorboard-frame-328e2478a7d02bbf\" width=\"100%\" height=\"800\" frameborder=\"0\">\n",
       "      </iframe>\n",
       "      <script>\n",
       "        (function() {\n",
       "          const frame = document.getElementById(\"tensorboard-frame-328e2478a7d02bbf\");\n",
       "          const url = new URL(\"/\", window.location);\n",
       "          const port = 6006;\n",
       "          if (port) {\n",
       "            url.port = port;\n",
       "          }\n",
       "          frame.src = url;\n",
       "        })();\n",
       "      </script>\n",
       "    "
      ],
      "text/plain": [
       "<IPython.core.display.HTML object>"
      ]
     },
     "metadata": {},
     "output_type": "display_data"
    }
   ],
   "source": [
    "%tensorboard --logdir logs_vae"
   ]
  }
 ],
 "metadata": {
  "kernelspec": {
   "display_name": "tf2",
   "language": "python",
   "name": "tf2"
  },
  "language_info": {
   "codemirror_mode": {
    "name": "ipython",
    "version": 3
   },
   "file_extension": ".py",
   "mimetype": "text/x-python",
   "name": "python",
   "nbconvert_exporter": "python",
   "pygments_lexer": "ipython3",
   "version": "3.9.9"
  }
 },
 "nbformat": 4,
 "nbformat_minor": 5
}
